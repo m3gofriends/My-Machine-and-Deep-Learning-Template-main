{
  "nbformat": 4,
  "nbformat_minor": 0,
  "metadata": {
    "colab": {
      "provenance": []
    },
    "kernelspec": {
      "name": "python3",
      "display_name": "Python 3"
    },
    "language_info": {
      "name": "python"
    },
    "gpuClass": "standard"
  },
  "cells": [
    {
      "cell_type": "markdown",
      "source": [
        "#Sigmoid"
      ],
      "metadata": {
        "id": "EBJmsOiqDePy"
      }
    },
    {
      "cell_type": "code",
      "source": [
        "import numpy as np\n",
        "import matplotlib.pyplot as plt\n",
        "\n",
        "def sigmoid(x):\n",
        "    return 1 / (1 + np.exp(-x))"
      ],
      "metadata": {
        "id": "OgxJq-yjDcoU"
      },
      "execution_count": 28,
      "outputs": []
    },
    {
      "cell_type": "code",
      "source": [
        "x,y=[],[]\n",
        "\n",
        "for i in range(-10,10):\n",
        "  y.append(sigmoid(i))\n",
        "  x.append(i)"
      ],
      "metadata": {
        "id": "r-bZRF9lHBNQ"
      },
      "execution_count": 29,
      "outputs": []
    },
    {
      "cell_type": "code",
      "source": [
        "fig, ax = plt.subplots(figsize = (10, 10))\n",
        "ax.plot(x, y)\n",
        "\n",
        "ax.set_title('Sigmoid')\n",
        "ax.grid(which = 'major', axis = 'both')"
      ],
      "metadata": {
        "colab": {
          "base_uri": "https://localhost:8080/",
          "height": 607
        },
        "id": "7c-_PHlLHvS8",
        "outputId": "5505502c-898a-479c-927d-7f3d545280bf"
      },
      "execution_count": 30,
      "outputs": [
        {
          "output_type": "display_data",
          "data": {
            "text/plain": [
              "<Figure size 720x720 with 1 Axes>"
            ],
            "image/png": "[encoded data removed]"
          },
          "metadata": {
            "needs_background": "light"
          }
        }
      ]
    },
    {
      "cell_type": "markdown",
      "source": [
        "#Standardization and Reverse Standardization\n",
        "\n",
        "###Standardization : Standardization Data = (Data - mean) / std\n",
        "###Reverse Standardization : Data = Standardization Data * std + mean"
      ],
      "metadata": {
        "id": "Cr8_30Rk_I4l"
      }
    },
    {
      "cell_type": "code",
      "execution_count": 31,
      "metadata": {
        "colab": {
          "base_uri": "https://localhost:8080/"
        },
        "id": "rzW1_q5l-xiK",
        "outputId": "0218ed2b-6064-4f19-8ca1-b5aa1e39b34e"
      },
      "outputs": [
        {
          "output_type": "execute_result",
          "data": {
            "text/plain": [
              "array([[54],\n",
              "       [ 7],\n",
              "       [67],\n",
              "       [92],\n",
              "       [37],\n",
              "       [85],\n",
              "       [61],\n",
              "       [57],\n",
              "       [10],\n",
              "       [49]])"
            ]
          },
          "metadata": {},
          "execution_count": 31
        }
      ],
      "source": [
        "import numpy as np\n",
        "from sklearn import preprocessing\n",
        "\n",
        "data = np.random.randint(100, size=(10,1))\n",
        "data"
      ]
    },
    {
      "cell_type": "markdown",
      "source": [
        "##from sklearn import preprocessing"
      ],
      "metadata": {
        "id": "tTStuXNIBChF"
      }
    },
    {
      "cell_type": "code",
      "source": [
        "scaler = preprocessing.StandardScaler().fit(data)\n",
        "x = scaler.transform(data)\n",
        "x"
      ],
      "metadata": {
        "colab": {
          "base_uri": "https://localhost:8080/"
        },
        "id": "aT06W0UKA5Re",
        "outputId": "8ea9f663-388f-49ba-8fdd-f737806929c8"
      },
      "execution_count": 32,
      "outputs": [
        {
          "output_type": "execute_result",
          "data": {
            "text/plain": [
              "array([[ 0.07910797],\n",
              "       [-1.69140374],\n",
              "       [ 0.56882398],\n",
              "       [ 1.51058552],\n",
              "       [-0.56128988],\n",
              "       [ 1.24689229],\n",
              "       [ 0.3428012 ],\n",
              "       [ 0.19211936],\n",
              "       [-1.57839235],\n",
              "       [-0.10924434]])"
            ]
          },
          "metadata": {},
          "execution_count": 32
        }
      ]
    },
    {
      "cell_type": "code",
      "source": [
        "x = scaler.inverse_transform(x)\n",
        "x"
      ],
      "metadata": {
        "colab": {
          "base_uri": "https://localhost:8080/"
        },
        "id": "_kUDtitkA18B",
        "outputId": "910c301f-2995-4e2f-b1ac-82726d729825"
      },
      "execution_count": 33,
      "outputs": [
        {
          "output_type": "execute_result",
          "data": {
            "text/plain": [
              "array([[54.],\n",
              "       [ 7.],\n",
              "       [67.],\n",
              "       [92.],\n",
              "       [37.],\n",
              "       [85.],\n",
              "       [61.],\n",
              "       [57.],\n",
              "       [10.],\n",
              "       [49.]])"
            ]
          },
          "metadata": {},
          "execution_count": 33
        }
      ]
    },
    {
      "cell_type": "markdown",
      "source": [
        "##DIY"
      ],
      "metadata": {
        "id": "e7O1jRJ6BeKN"
      }
    },
    {
      "cell_type": "code",
      "source": [
        "data_mean = np.mean(data)\n",
        "data_std = np.std(data)\n",
        "\n",
        "new_data = (data - data_mean) / data_std\n",
        "new_data"
      ],
      "metadata": {
        "colab": {
          "base_uri": "https://localhost:8080/"
        },
        "id": "b1pHa6guBdUc",
        "outputId": "164eaffd-beed-4a5f-b735-3ac467072805"
      },
      "execution_count": 34,
      "outputs": [
        {
          "output_type": "execute_result",
          "data": {
            "text/plain": [
              "array([[ 0.07910797],\n",
              "       [-1.69140374],\n",
              "       [ 0.56882398],\n",
              "       [ 1.51058552],\n",
              "       [-0.56128988],\n",
              "       [ 1.24689229],\n",
              "       [ 0.3428012 ],\n",
              "       [ 0.19211936],\n",
              "       [-1.57839235],\n",
              "       [-0.10924434]])"
            ]
          },
          "metadata": {},
          "execution_count": 34
        }
      ]
    },
    {
      "cell_type": "code",
      "source": [
        "origin_data = new_data * data_std + data_mean\n",
        "origin_data"
      ],
      "metadata": {
        "colab": {
          "base_uri": "https://localhost:8080/"
        },
        "id": "PLRG-UJQBylM",
        "outputId": "3cb85d56-49d7-4dcd-9b1d-fcf28ea1a792"
      },
      "execution_count": 35,
      "outputs": [
        {
          "output_type": "execute_result",
          "data": {
            "text/plain": [
              "array([[54.],\n",
              "       [ 7.],\n",
              "       [67.],\n",
              "       [92.],\n",
              "       [37.],\n",
              "       [85.],\n",
              "       [61.],\n",
              "       [57.],\n",
              "       [10.],\n",
              "       [49.]])"
            ]
          },
          "metadata": {},
          "execution_count": 35
        }
      ]
    }
  ]
}