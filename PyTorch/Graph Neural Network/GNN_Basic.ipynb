{
  "nbformat": 4,
  "nbformat_minor": 0,
  "metadata": {
    "colab": {
      "provenance": []
    },
    "kernelspec": {
      "name": "python3",
      "display_name": "Python 3"
    },
    "language_info": {
      "name": "python"
    },
    "gpuClass": "standard",
    "accelerator": "GPU"
  },
  "cells": [
    {
      "cell_type": "markdown",
      "source": [
        "#Colab Install Environment"
      ],
      "metadata": {
        "id": "cC5vEGt3M6v8"
      }
    },
    {
      "cell_type": "code",
      "source": [
        "import torch\n",
        "\n",
        "def format_pytorch_version(version):\n",
        "  return version.split('+')[0]\n",
        "\n",
        "TORCH_version = torch.__version__\n",
        "TORCH = format_pytorch_version(TORCH_version)\n",
        "\n",
        "def format_cuda_version(version):\n",
        "  return 'cu' + version.replace('.', '')\n",
        "\n",
        "CUDA_version = torch.version.cuda\n",
        "CUDA = format_cuda_version(CUDA_version)\n",
        "\n",
        "!pip install torch-scatter -f https://data.pyg.org/whl/torch-{TORCH}+{CUDA}.html\n",
        "!pip install torch-sparse -f https://data.pyg.org/whl/torch-{TORCH}+{CUDA}.html\n",
        "!pip install torch-cluster -f https://data.pyg.org/whl/torch-{TORCH}+{CUDA}.html\n",
        "!pip install torch-spline-conv -f https://data.pyg.org/whl/torch-{TORCH}+{CUDA}.html\n",
        "!pip install torch-geometric"
      ],
      "metadata": {
        "colab": {
          "base_uri": "https://localhost:8080/"
        },
        "id": "UA6atGayLl9u",
        "outputId": "57e389a7-a88f-4a72-a684-3b5ea24bbc31"
      },
      "execution_count": 1,
      "outputs": [
        {
          "output_type": "stream",
          "name": "stdout",
          "text": [
            "Looking in indexes: https://pypi.org/simple, https://us-python.pkg.dev/colab-wheels/public/simple/\n",
            "Looking in links: https://data.pyg.org/whl/torch-1.12.1+cu113.html\n",
            "Collecting torch-scatter\n",
            "  Downloading https://data.pyg.org/whl/torch-1.12.0%2Bcu113/torch_scatter-2.0.9-cp37-cp37m-linux_x86_64.whl (7.9 MB)\n",
            "\u001b[K     |████████████████████████████████| 7.9 MB 742 kB/s \n",
            "\u001b[?25hInstalling collected packages: torch-scatter\n",
            "Successfully installed torch-scatter-2.0.9\n",
            "Looking in indexes: https://pypi.org/simple, https://us-python.pkg.dev/colab-wheels/public/simple/\n",
            "Looking in links: https://data.pyg.org/whl/torch-1.12.1+cu113.html\n",
            "Collecting torch-sparse\n",
            "  Downloading https://data.pyg.org/whl/torch-1.12.0%2Bcu113/torch_sparse-0.6.15-cp37-cp37m-linux_x86_64.whl (3.5 MB)\n",
            "\u001b[K     |████████████████████████████████| 3.5 MB 29.9 MB/s \n",
            "\u001b[?25hRequirement already satisfied: scipy in /usr/local/lib/python3.7/dist-packages (from torch-sparse) (1.7.3)\n",
            "Requirement already satisfied: numpy<1.23.0,>=1.16.5 in /usr/local/lib/python3.7/dist-packages (from scipy->torch-sparse) (1.21.6)\n",
            "Installing collected packages: torch-sparse\n",
            "Successfully installed torch-sparse-0.6.15\n",
            "Looking in indexes: https://pypi.org/simple, https://us-python.pkg.dev/colab-wheels/public/simple/\n",
            "Looking in links: https://data.pyg.org/whl/torch-1.12.1+cu113.html\n",
            "Collecting torch-cluster\n",
            "  Downloading https://data.pyg.org/whl/torch-1.12.0%2Bcu113/torch_cluster-1.6.0-cp37-cp37m-linux_x86_64.whl (2.4 MB)\n",
            "\u001b[K     |████████████████████████████████| 2.4 MB 11.5 MB/s \n",
            "\u001b[?25hInstalling collected packages: torch-cluster\n",
            "Successfully installed torch-cluster-1.6.0\n",
            "Looking in indexes: https://pypi.org/simple, https://us-python.pkg.dev/colab-wheels/public/simple/\n",
            "Looking in links: https://data.pyg.org/whl/torch-1.12.1+cu113.html\n",
            "Collecting torch-spline-conv\n",
            "  Downloading https://data.pyg.org/whl/torch-1.12.0%2Bcu113/torch_spline_conv-1.2.1-cp37-cp37m-linux_x86_64.whl (709 kB)\n",
            "\u001b[K     |████████████████████████████████| 709 kB 32.1 MB/s \n",
            "\u001b[?25hInstalling collected packages: torch-spline-conv\n",
            "Successfully installed torch-spline-conv-1.2.1\n",
            "Looking in indexes: https://pypi.org/simple, https://us-python.pkg.dev/colab-wheels/public/simple/\n",
            "Collecting torch-geometric\n",
            "  Downloading torch_geometric-2.1.0.post1.tar.gz (467 kB)\n",
            "\u001b[K     |████████████████████████████████| 467 kB 25.1 MB/s \n",
            "\u001b[?25hRequirement already satisfied: tqdm in /usr/local/lib/python3.7/dist-packages (from torch-geometric) (4.64.1)\n",
            "Requirement already satisfied: numpy in /usr/local/lib/python3.7/dist-packages (from torch-geometric) (1.21.6)\n",
            "Requirement already satisfied: scipy in /usr/local/lib/python3.7/dist-packages (from torch-geometric) (1.7.3)\n",
            "Requirement already satisfied: jinja2 in /usr/local/lib/python3.7/dist-packages (from torch-geometric) (2.11.3)\n",
            "Requirement already satisfied: requests in /usr/local/lib/python3.7/dist-packages (from torch-geometric) (2.23.0)\n",
            "Requirement already satisfied: pyparsing in /usr/local/lib/python3.7/dist-packages (from torch-geometric) (3.0.9)\n",
            "Requirement already satisfied: scikit-learn in /usr/local/lib/python3.7/dist-packages (from torch-geometric) (1.0.2)\n",
            "Requirement already satisfied: MarkupSafe>=0.23 in /usr/local/lib/python3.7/dist-packages (from jinja2->torch-geometric) (2.0.1)\n",
            "Requirement already satisfied: idna<3,>=2.5 in /usr/local/lib/python3.7/dist-packages (from requests->torch-geometric) (2.10)\n",
            "Requirement already satisfied: urllib3!=1.25.0,!=1.25.1,<1.26,>=1.21.1 in /usr/local/lib/python3.7/dist-packages (from requests->torch-geometric) (1.24.3)\n",
            "Requirement already satisfied: chardet<4,>=3.0.2 in /usr/local/lib/python3.7/dist-packages (from requests->torch-geometric) (3.0.4)\n",
            "Requirement already satisfied: certifi>=2017.4.17 in /usr/local/lib/python3.7/dist-packages (from requests->torch-geometric) (2022.6.15)\n",
            "Requirement already satisfied: threadpoolctl>=2.0.0 in /usr/local/lib/python3.7/dist-packages (from scikit-learn->torch-geometric) (3.1.0)\n",
            "Requirement already satisfied: joblib>=0.11 in /usr/local/lib/python3.7/dist-packages (from scikit-learn->torch-geometric) (1.1.0)\n",
            "Building wheels for collected packages: torch-geometric\n",
            "  Building wheel for torch-geometric (setup.py) ... \u001b[?25l\u001b[?25hdone\n",
            "  Created wheel for torch-geometric: filename=torch_geometric-2.1.0.post1-py3-none-any.whl size=689859 sha256=ea2f50e9412d32a49190865d95ba5e475e79f9b2c5511abeef2b0713e526c1e1\n",
            "  Stored in directory: /root/.cache/pip/wheels/d1/cb/43/f7f2e472de4d7cff31bceddadc36d634e1e545fbc17961c282\n",
            "Successfully built torch-geometric\n",
            "Installing collected packages: torch-geometric\n",
            "Successfully installed torch-geometric-2.1.0.post1\n"
          ]
        }
      ]
    },
    {
      "cell_type": "markdown",
      "source": [
        "#Example"
      ],
      "metadata": {
        "id": "8CGHSoXbqgMl"
      }
    },
    {
      "cell_type": "code",
      "source": [
        "from torch_geometric.data import Data"
      ],
      "metadata": {
        "id": "d_OHinRyKE1E"
      },
      "execution_count": 2,
      "outputs": []
    },
    {
      "cell_type": "markdown",
      "source": [
        "![2.png](data:image/png;base64,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)"
      ],
      "metadata": {
        "id": "BZx8DnBUKSYM"
      }
    },
    {
      "cell_type": "code",
      "execution_count": 3,
      "metadata": {
        "id": "gC7VAHt7J9yV"
      },
      "outputs": [],
      "source": [
        "x = torch.tensor([[2,1],[5,6],[3,7],[12,0]], dtype=torch.float)\n",
        "\n",
        "y = torch.tensor([0,1,0,1], dtype=torch.float)\n",
        "\n",
        "edge_index = torch.tensor([[0,0,1,2,3],\n",
        "              [1,3,0,1,2]],\n",
        "              dtype=torch.long)"
      ]
    },
    {
      "cell_type": "code",
      "source": [
        "data = Data(x=x, y=y, edge_index=edge_index)"
      ],
      "metadata": {
        "id": "DJOT6MtlLMty"
      },
      "execution_count": 4,
      "outputs": []
    },
    {
      "cell_type": "code",
      "source": [
        "print(data)"
      ],
      "metadata": {
        "id": "ZERe5iC1NJK4",
        "outputId": "3c51cad2-4b93-4f7e-fcfc-f3c5d06b241a",
        "colab": {
          "base_uri": "https://localhost:8080/"
        }
      },
      "execution_count": 5,
      "outputs": [
        {
          "output_type": "stream",
          "name": "stdout",
          "text": [
            "Data(x=[4, 2], edge_index=[2, 5], y=[4])\n"
          ]
        }
      ]
    },
    {
      "cell_type": "markdown",
      "source": [
        "#Basic operation"
      ],
      "metadata": {
        "id": "Rkl1ZfJDqmWK"
      }
    },
    {
      "cell_type": "code",
      "source": [
        "print(data.keys)"
      ],
      "metadata": {
        "id": "xH-5tWVicjNs",
        "outputId": "cc1d3c4d-0225-4529-e578-2d41df07d71d",
        "colab": {
          "base_uri": "https://localhost:8080/"
        }
      },
      "execution_count": 6,
      "outputs": [
        {
          "output_type": "stream",
          "name": "stdout",
          "text": [
            "['x', 'y', 'edge_index']\n"
          ]
        }
      ]
    },
    {
      "cell_type": "code",
      "source": [
        "print(data['x'])"
      ],
      "metadata": {
        "id": "QE9NgmUMqnt5",
        "outputId": "a839b34f-9a14-4304-cf83-d0414b98eec0",
        "colab": {
          "base_uri": "https://localhost:8080/"
        }
      },
      "execution_count": 7,
      "outputs": [
        {
          "output_type": "stream",
          "name": "stdout",
          "text": [
            "tensor([[ 2.,  1.],\n",
            "        [ 5.,  6.],\n",
            "        [ 3.,  7.],\n",
            "        [12.,  0.]])\n"
          ]
        }
      ]
    },
    {
      "cell_type": "code",
      "source": [
        "for key, item in data:\n",
        "  print(f'{key} found in data:\\n{item}\\n')"
      ],
      "metadata": {
        "id": "YEnFPG7wq44E",
        "outputId": "30771865-ee9c-47da-8193-6c90cfc7cd37",
        "colab": {
          "base_uri": "https://localhost:8080/"
        }
      },
      "execution_count": 8,
      "outputs": [
        {
          "output_type": "stream",
          "name": "stdout",
          "text": [
            "x found in data:\n",
            "tensor([[ 2.,  1.],\n",
            "        [ 5.,  6.],\n",
            "        [ 3.,  7.],\n",
            "        [12.,  0.]])\n",
            "\n",
            "edge_index found in data:\n",
            "tensor([[0, 0, 1, 2, 3],\n",
            "        [1, 3, 0, 1, 2]])\n",
            "\n",
            "y found in data:\n",
            "tensor([0., 1., 0., 1.])\n",
            "\n"
          ]
        }
      ]
    },
    {
      "cell_type": "code",
      "source": [
        "'edge_attr' in data"
      ],
      "metadata": {
        "id": "Vlh5zLiHrCo4",
        "outputId": "54880e08-928d-41b3-b9af-ccdb42c787b2",
        "colab": {
          "base_uri": "https://localhost:8080/"
        }
      },
      "execution_count": 9,
      "outputs": [
        {
          "output_type": "execute_result",
          "data": {
            "text/plain": [
              "False"
            ]
          },
          "metadata": {},
          "execution_count": 9
        }
      ]
    },
    {
      "cell_type": "code",
      "source": [
        "data.num_nodes"
      ],
      "metadata": {
        "id": "mM5hdhhlrV-W",
        "outputId": "efe0b62a-ab4b-465d-952e-53dc778bbdce",
        "colab": {
          "base_uri": "https://localhost:8080/"
        }
      },
      "execution_count": 10,
      "outputs": [
        {
          "output_type": "execute_result",
          "data": {
            "text/plain": [
              "4"
            ]
          },
          "metadata": {},
          "execution_count": 10
        }
      ]
    },
    {
      "cell_type": "code",
      "source": [
        "data.num_edges"
      ],
      "metadata": {
        "id": "064lVXi-rYD7",
        "outputId": "9ce648e9-1b57-4fbf-d0e5-af8eada3fe19",
        "colab": {
          "base_uri": "https://localhost:8080/"
        }
      },
      "execution_count": 11,
      "outputs": [
        {
          "output_type": "execute_result",
          "data": {
            "text/plain": [
              "5"
            ]
          },
          "metadata": {},
          "execution_count": 11
        }
      ]
    },
    {
      "cell_type": "code",
      "source": [
        "data.num_node_features"
      ],
      "metadata": {
        "id": "tAxuNs0jrb2h",
        "outputId": "4383777a-03e5-460e-9f51-a22e337439b2",
        "colab": {
          "base_uri": "https://localhost:8080/"
        }
      },
      "execution_count": 12,
      "outputs": [
        {
          "output_type": "execute_result",
          "data": {
            "text/plain": [
              "2"
            ]
          },
          "metadata": {},
          "execution_count": 12
        }
      ]
    },
    {
      "cell_type": "code",
      "source": [
        "data.has_isolated_nodes()"
      ],
      "metadata": {
        "id": "sWdCwQIKrh98",
        "outputId": "954a690b-23c3-454c-c130-f9e2ae87437b",
        "colab": {
          "base_uri": "https://localhost:8080/"
        }
      },
      "execution_count": 13,
      "outputs": [
        {
          "output_type": "execute_result",
          "data": {
            "text/plain": [
              "False"
            ]
          },
          "metadata": {},
          "execution_count": 13
        }
      ]
    },
    {
      "cell_type": "code",
      "source": [
        "data.has_self_loops()"
      ],
      "metadata": {
        "id": "SnUYqM_jrkAN",
        "outputId": "e80a08fe-8285-47a7-c3c1-138cf04b4df1",
        "colab": {
          "base_uri": "https://localhost:8080/"
        }
      },
      "execution_count": 14,
      "outputs": [
        {
          "output_type": "execute_result",
          "data": {
            "text/plain": [
              "False"
            ]
          },
          "metadata": {},
          "execution_count": 14
        }
      ]
    },
    {
      "cell_type": "code",
      "source": [
        "data.is_directed()"
      ],
      "metadata": {
        "id": "DaNzVNr3rmQJ",
        "outputId": "c199afc1-63fd-44a3-c9a7-41b80c8d0eb9",
        "colab": {
          "base_uri": "https://localhost:8080/"
        }
      },
      "execution_count": 15,
      "outputs": [
        {
          "output_type": "execute_result",
          "data": {
            "text/plain": [
              "True"
            ]
          },
          "metadata": {},
          "execution_count": 15
        }
      ]
    },
    {
      "cell_type": "code",
      "source": [
        "# Transfer data object to GPU.\n",
        "data = data.cuda()"
      ],
      "metadata": {
        "id": "30XZlLmnrmxX"
      },
      "execution_count": 16,
      "outputs": []
    },
    {
      "cell_type": "markdown",
      "source": [
        "#Load Dataset"
      ],
      "metadata": {
        "id": "m407BlJkr4WW"
      }
    },
    {
      "cell_type": "code",
      "source": [
        "from torch_geometric.datasets import TUDataset\n",
        "\n",
        "dataset = TUDataset(root='/tmp/ENZYMES', name='ENZYMES')\n",
        "dataset"
      ],
      "metadata": {
        "id": "u3KC0y4WcRqB",
        "outputId": "3a275e94-d982-41ed-8dcd-cde1ccdb1749",
        "colab": {
          "base_uri": "https://localhost:8080/"
        }
      },
      "execution_count": 17,
      "outputs": [
        {
          "output_type": "stream",
          "name": "stderr",
          "text": [
            "Downloading https://www.chrsmrrs.com/graphkerneldatasets/ENZYMES.zip\n",
            "Extracting /tmp/ENZYMES/ENZYMES/ENZYMES.zip\n",
            "Processing...\n",
            "Done!\n"
          ]
        },
        {
          "output_type": "execute_result",
          "data": {
            "text/plain": [
              "ENZYMES(600)"
            ]
          },
          "metadata": {},
          "execution_count": 17
        }
      ]
    },
    {
      "cell_type": "code",
      "source": [
        "len(dataset)"
      ],
      "metadata": {
        "id": "_VdurFbJsAAF",
        "outputId": "58e57a7f-7272-4147-f219-8a0634d2b36f",
        "colab": {
          "base_uri": "https://localhost:8080/"
        }
      },
      "execution_count": 18,
      "outputs": [
        {
          "output_type": "execute_result",
          "data": {
            "text/plain": [
              "600"
            ]
          },
          "metadata": {},
          "execution_count": 18
        }
      ]
    },
    {
      "cell_type": "code",
      "source": [
        "dataset.num_classes"
      ],
      "metadata": {
        "id": "5H0uWMGOsCH_",
        "outputId": "9c7939df-0d4c-4a7f-fdf8-634cd3e098e1",
        "colab": {
          "base_uri": "https://localhost:8080/"
        }
      },
      "execution_count": 19,
      "outputs": [
        {
          "output_type": "execute_result",
          "data": {
            "text/plain": [
              "6"
            ]
          },
          "metadata": {},
          "execution_count": 19
        }
      ]
    },
    {
      "cell_type": "code",
      "source": [
        "data = dataset[0]\n",
        "data"
      ],
      "metadata": {
        "id": "aj0-N2fRsEM7",
        "outputId": "624f9f9d-8f9e-47c9-8408-5aa726abc346",
        "colab": {
          "base_uri": "https://localhost:8080/"
        }
      },
      "execution_count": 20,
      "outputs": [
        {
          "output_type": "execute_result",
          "data": {
            "text/plain": [
              "Data(edge_index=[2, 168], x=[37, 3], y=[1])"
            ]
          },
          "metadata": {},
          "execution_count": 20
        }
      ]
    },
    {
      "cell_type": "code",
      "source": [
        "train_dataset = dataset[:540]\n",
        "train_dataset"
      ],
      "metadata": {
        "id": "JM4l8v-UsI3p",
        "outputId": "819c20ab-4503-4673-e7ae-a960e9d82efc",
        "colab": {
          "base_uri": "https://localhost:8080/"
        }
      },
      "execution_count": 21,
      "outputs": [
        {
          "output_type": "execute_result",
          "data": {
            "text/plain": [
              "ENZYMES(540)"
            ]
          },
          "metadata": {},
          "execution_count": 21
        }
      ]
    },
    {
      "cell_type": "code",
      "source": [
        "test_dataset = dataset[540:]\n",
        "test_dataset"
      ],
      "metadata": {
        "id": "-jZ8F1rcs45w",
        "outputId": "d8bf0eda-40bc-4ce8-c4a3-7b3e78896891",
        "colab": {
          "base_uri": "https://localhost:8080/"
        }
      },
      "execution_count": 22,
      "outputs": [
        {
          "output_type": "execute_result",
          "data": {
            "text/plain": [
              "ENZYMES(60)"
            ]
          },
          "metadata": {},
          "execution_count": 22
        }
      ]
    },
    {
      "cell_type": "markdown",
      "source": [
        "#Data Shuffle"
      ],
      "metadata": {
        "id": "L0PW_gIEtM4v"
      }
    },
    {
      "cell_type": "markdown",
      "source": [
        "Method 1"
      ],
      "metadata": {
        "id": "99FcpNystT5i"
      }
    },
    {
      "cell_type": "code",
      "source": [
        "dataset = dataset.shuffle()\n",
        "dataset"
      ],
      "metadata": {
        "id": "O56SpIgatLxf",
        "outputId": "2004d30c-cd94-4da2-d1c6-45dd5c524938",
        "colab": {
          "base_uri": "https://localhost:8080/"
        }
      },
      "execution_count": 23,
      "outputs": [
        {
          "output_type": "execute_result",
          "data": {
            "text/plain": [
              "ENZYMES(600)"
            ]
          },
          "metadata": {},
          "execution_count": 23
        }
      ]
    },
    {
      "cell_type": "markdown",
      "source": [
        "Method 2"
      ],
      "metadata": {
        "id": "mdqbzuS0tWzA"
      }
    },
    {
      "cell_type": "code",
      "source": [
        "perm = torch.randperm(len(dataset))\n",
        "dataset = dataset[perm]\n",
        "dataset"
      ],
      "metadata": {
        "id": "g0C5VkOEtTaR",
        "outputId": "d1d199aa-2eeb-4777-8c61-08013fc2de30",
        "colab": {
          "base_uri": "https://localhost:8080/"
        }
      },
      "execution_count": 24,
      "outputs": [
        {
          "output_type": "execute_result",
          "data": {
            "text/plain": [
              "ENZYMES(600)"
            ]
          },
          "metadata": {},
          "execution_count": 24
        }
      ]
    },
    {
      "cell_type": "markdown",
      "source": [
        "#Data Transforms"
      ],
      "metadata": {
        "id": "Lf-cEF4wvhuV"
      }
    },
    {
      "cell_type": "code",
      "source": [
        "from torch_geometric.datasets import ShapeNet\n",
        "\n",
        "dataset = ShapeNet(root='/tmp/ShapeNet', categories=['Airplane'])\n",
        "dataset[0]"
      ],
      "metadata": {
        "id": "hFq1T0emvgmV",
        "outputId": "149c9a27-32c8-4866-fd6a-e85a46cd0234",
        "colab": {
          "base_uri": "https://localhost:8080/"
        }
      },
      "execution_count": 25,
      "outputs": [
        {
          "output_type": "stream",
          "name": "stderr",
          "text": [
            "Downloading https://shapenet.cs.stanford.edu/media/shapenetcore_partanno_segmentation_benchmark_v0_normal.zip\n",
            "Extracting /tmp/ShapeNet/shapenetcore_partanno_segmentation_benchmark_v0_normal.zip\n",
            "Processing...\n",
            "Done!\n"
          ]
        },
        {
          "output_type": "execute_result",
          "data": {
            "text/plain": [
              "Data(x=[2518, 3], y=[2518], pos=[2518, 3], category=[1])"
            ]
          },
          "metadata": {},
          "execution_count": 25
        }
      ]
    },
    {
      "cell_type": "code",
      "source": [
        "import torch_geometric.transforms as T\n",
        "from torch_geometric.datasets import ShapeNet\n",
        "\n",
        "dataset = ShapeNet(root='/tmp/ShapeNet/processed', categories=['Airplane'], pre_transform=T.KNNGraph(k=6))\n",
        "dataset[0]"
      ],
      "metadata": {
        "id": "6nVZ4KZWvg6r",
        "outputId": "8e07e361-c34e-4a53-f94b-836716ba01a4",
        "colab": {
          "base_uri": "https://localhost:8080/"
        }
      },
      "execution_count": 26,
      "outputs": [
        {
          "output_type": "stream",
          "name": "stderr",
          "text": [
            "Downloading https://shapenet.cs.stanford.edu/media/shapenetcore_partanno_segmentation_benchmark_v0_normal.zip\n",
            "Extracting /tmp/ShapeNet/processed/shapenetcore_partanno_segmentation_benchmark_v0_normal.zip\n",
            "Processing...\n",
            "Done!\n"
          ]
        },
        {
          "output_type": "execute_result",
          "data": {
            "text/plain": [
              "Data(x=[2518, 3], y=[2518], pos=[2518, 3], category=[1], edge_index=[2, 15108])"
            ]
          },
          "metadata": {},
          "execution_count": 26
        }
      ]
    },
    {
      "cell_type": "markdown",
      "source": [
        "#Build model and train"
      ],
      "metadata": {
        "id": "ycDnQeaWwkF1"
      }
    },
    {
      "cell_type": "code",
      "source": [
        "from torch_geometric.datasets import Planetoid\n",
        "\n",
        "dataset = Planetoid(root='/tmp/Cora', name='Cora')\n",
        "dataset"
      ],
      "metadata": {
        "id": "QYHoiJsfvyBP",
        "outputId": "6097b9f4-0096-4f56-a6a1-310d93c06227",
        "colab": {
          "base_uri": "https://localhost:8080/"
        }
      },
      "execution_count": 27,
      "outputs": [
        {
          "output_type": "stream",
          "name": "stderr",
          "text": [
            "Downloading https://github.com/kimiyoung/planetoid/raw/master/data/ind.cora.x\n",
            "Downloading https://github.com/kimiyoung/planetoid/raw/master/data/ind.cora.tx\n",
            "Downloading https://github.com/kimiyoung/planetoid/raw/master/data/ind.cora.allx\n",
            "Downloading https://github.com/kimiyoung/planetoid/raw/master/data/ind.cora.y\n",
            "Downloading https://github.com/kimiyoung/planetoid/raw/master/data/ind.cora.ty\n",
            "Downloading https://github.com/kimiyoung/planetoid/raw/master/data/ind.cora.ally\n",
            "Downloading https://github.com/kimiyoung/planetoid/raw/master/data/ind.cora.graph\n",
            "Downloading https://github.com/kimiyoung/planetoid/raw/master/data/ind.cora.test.index\n",
            "Processing...\n",
            "Done!\n"
          ]
        },
        {
          "output_type": "execute_result",
          "data": {
            "text/plain": [
              "Cora()"
            ]
          },
          "metadata": {},
          "execution_count": 27
        }
      ]
    },
    {
      "cell_type": "code",
      "source": [
        "import torch\n",
        "import torch.nn.functional as F\n",
        "from torch_geometric.nn import GCNConv\n",
        "\n",
        "class GCN(torch.nn.Module):\n",
        "    def __init__(self):\n",
        "        super().__init__()\n",
        "        self.conv1 = GCNConv(dataset.num_node_features, 16)\n",
        "        self.conv2 = GCNConv(16, dataset.num_classes)\n",
        "\n",
        "    def forward(self, data):\n",
        "        x, edge_index = data.x, data.edge_index\n",
        "\n",
        "        x = self.conv1(x, edge_index)\n",
        "        x = F.relu(x)\n",
        "        x = F.dropout(x, training=self.training)\n",
        "        x = self.conv2(x, edge_index)\n",
        "\n",
        "        return F.log_softmax(x, dim=1)"
      ],
      "metadata": {
        "id": "Ow-iBtN3w9Iu"
      },
      "execution_count": 28,
      "outputs": []
    },
    {
      "cell_type": "code",
      "source": [
        "model = GCN().cuda()\n",
        "data = dataset[0].cuda()\n",
        "optimizer = torch.optim.Adam(model.parameters(), lr=0.01, weight_decay=5e-4)\n",
        "\n",
        "model.train()\n",
        "for epoch in range(200):\n",
        "    optimizer.zero_grad()\n",
        "    out = model(data)\n",
        "    loss = F.nll_loss(out[data.train_mask], data.y[data.train_mask])\n",
        "    loss.backward()\n",
        "    optimizer.step()"
      ],
      "metadata": {
        "id": "9cXaCcxRxTVZ"
      },
      "execution_count": 29,
      "outputs": []
    },
    {
      "cell_type": "code",
      "source": [
        "model.eval()\n",
        "pred = model(data).argmax(dim=1)\n",
        "correct = (pred[data.test_mask] == data.y[data.test_mask]).sum()\n",
        "acc = int(correct) / int(data.test_mask.sum())\n",
        "print(f'Accuracy: {acc:.4f}')"
      ],
      "metadata": {
        "id": "FXTvlpx7xWkV",
        "outputId": "e6e91e0f-f575-49ff-ba73-bfbeac0b870e",
        "colab": {
          "base_uri": "https://localhost:8080/"
        }
      },
      "execution_count": 30,
      "outputs": [
        {
          "output_type": "stream",
          "name": "stdout",
          "text": [
            "Accuracy: 0.7990\n"
          ]
        }
      ]
    },
    {
      "cell_type": "markdown",
      "source": [
        "#Exercises"
      ],
      "metadata": {
        "id": "_NqYBdlTyj2X"
      }
    },
    {
      "cell_type": "markdown",
      "source": [
        "###1. What does edge_index.t().contiguous() do?"
      ],
      "metadata": {
        "id": "UVVdLXfTylND"
      }
    },
    {
      "cell_type": "code",
      "source": [
        "edge_index_1 = torch.tensor([[0, 1, 1, 2],\n",
        "               [1, 0, 2, 1]], dtype=torch.long)\n",
        "print(edge_index_1, edge_index_1.shape)"
      ],
      "metadata": {
        "id": "yBYf-kdNyjQf",
        "outputId": "1b213620-00c3-4893-dc51-08b0edb2192a",
        "colab": {
          "base_uri": "https://localhost:8080/"
        }
      },
      "execution_count": 35,
      "outputs": [
        {
          "output_type": "stream",
          "name": "stdout",
          "text": [
            "tensor([[0, 1, 1, 2],\n",
            "        [1, 0, 2, 1]]) torch.Size([2, 4])\n"
          ]
        }
      ]
    },
    {
      "cell_type": "code",
      "source": [
        "edge_index_2 = torch.tensor([[0, 1],\n",
        "               [1, 0],\n",
        "               [1, 2],\n",
        "               [2, 1]], dtype=torch.long)\n",
        "print(edge_index_2, edge_index_2.shape)"
      ],
      "metadata": {
        "id": "j6M7mpPpy1Om",
        "outputId": "11259e49-8ba6-4fc2-f0df-31ccad44ae2a",
        "colab": {
          "base_uri": "https://localhost:8080/"
        }
      },
      "execution_count": 36,
      "outputs": [
        {
          "output_type": "stream",
          "name": "stdout",
          "text": [
            "tensor([[0, 1],\n",
            "        [1, 0],\n",
            "        [1, 2],\n",
            "        [2, 1]]) torch.Size([4, 2])\n"
          ]
        }
      ]
    },
    {
      "cell_type": "code",
      "source": [
        "edge_index_3 = edge_index_2.t().contiguous()\n",
        "print(edge_index_3, edge_index_3.shape)"
      ],
      "metadata": {
        "id": "A4kanRQCy_ek",
        "outputId": "80c18e96-e422-4dba-96dd-a5c14a164b75",
        "colab": {
          "base_uri": "https://localhost:8080/"
        }
      },
      "execution_count": 39,
      "outputs": [
        {
          "output_type": "stream",
          "name": "stdout",
          "text": [
            "tensor([[0, 1, 1, 2],\n",
            "        [1, 0, 2, 1]]) torch.Size([2, 4])\n"
          ]
        }
      ]
    },
    {
      "cell_type": "code",
      "source": [
        "edge_index_1 == edge_index_3"
      ],
      "metadata": {
        "id": "mY3c6Zl0zkCR",
        "outputId": "e74211ae-7083-4466-b41c-9c7325565134",
        "colab": {
          "base_uri": "https://localhost:8080/"
        }
      },
      "execution_count": 43,
      "outputs": [
        {
          "output_type": "execute_result",
          "data": {
            "text/plain": [
              "tensor([[True, True, True, True],\n",
              "        [True, True, True, True]])"
            ]
          },
          "metadata": {},
          "execution_count": 43
        }
      ]
    },
    {
      "cell_type": "markdown",
      "source": [
        "###2. Load the \"IMDB-BINARY\" dataset from the TUDataset benchmark suite and randomly split it into 80%/10%/10% training, validation and test graphs."
      ],
      "metadata": {
        "id": "4Yx0jAgX0MZe"
      }
    },
    {
      "cell_type": "code",
      "source": [
        "from torch_geometric.datasets import TUDataset\n",
        "\n",
        "dataset = TUDataset(root='/tmp/IMDB-BINARY', name='IMDB-BINARY')\n",
        "dataset"
      ],
      "metadata": {
        "id": "oQXIdyDY0L68",
        "outputId": "4ef218e2-a591-44cf-a206-a5affc3cfcd2",
        "colab": {
          "base_uri": "https://localhost:8080/"
        }
      },
      "execution_count": 51,
      "outputs": [
        {
          "output_type": "execute_result",
          "data": {
            "text/plain": [
              "IMDB-BINARY(1000)"
            ]
          },
          "metadata": {},
          "execution_count": 51
        }
      ]
    },
    {
      "cell_type": "code",
      "source": [
        "dataset = dataset.shuffle()"
      ],
      "metadata": {
        "id": "SRr4f2ws0pvN"
      },
      "execution_count": 52,
      "outputs": []
    },
    {
      "cell_type": "code",
      "source": [
        "train_dataset = dataset[:800]\n",
        "validation_dataset = dataset[800:900]\n",
        "test_dataset = dataset[900:]"
      ],
      "metadata": {
        "id": "cdHNnPck03dd"
      },
      "execution_count": 53,
      "outputs": []
    },
    {
      "cell_type": "code",
      "source": [
        "print(train_dataset, validation_dataset, test_dataset)"
      ],
      "metadata": {
        "id": "lALcSwbZ1Qw4",
        "outputId": "2988f3bc-258e-4676-d543-942eacf03759",
        "colab": {
          "base_uri": "https://localhost:8080/"
        }
      },
      "execution_count": 54,
      "outputs": [
        {
          "output_type": "stream",
          "name": "stdout",
          "text": [
            "IMDB-BINARY(800) IMDB-BINARY(100) IMDB-BINARY(100)\n"
          ]
        }
      ]
    },
    {
      "cell_type": "markdown",
      "source": [
        "###3. What does each number of the following output mean?"
      ],
      "metadata": {
        "id": "7JCEJs1O1a2E"
      }
    },
    {
      "cell_type": "markdown",
      "source": [
        "print(batch)<br>\n",
        "\\>>> DataBatch(batch=[1082], edge_index=[2, 4066], x=[1082, 21], y=[32])"
      ],
      "metadata": {
        "id": "QtSCvW_v1ghO"
      }
    },
    {
      "cell_type": "markdown",
      "source": [
        "My answer (not necessarily correct):<br>\n",
        "batch=[1082] : Batch size = 1082 <br>\n",
        "edge_index=[2, 4066] : Total of 4066 edges <br>\n",
        "x=[1082, 21] : 1082 node and feature number is 21 <br>\n",
        "y=[32] : Total of 32 targets"
      ],
      "metadata": {
        "id": "V2ZRh-ox2LbC"
      }
    }
  ]
}