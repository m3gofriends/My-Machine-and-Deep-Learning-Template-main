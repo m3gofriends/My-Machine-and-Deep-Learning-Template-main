{
  "nbformat": 4,
  "nbformat_minor": 0,
  "metadata": {
    "colab": {
      "provenance": []
    },
    "kernelspec": {
      "name": "python3",
      "display_name": "Python 3"
    },
    "language_info": {
      "name": "python"
    },
    "accelerator": "GPU",
    "gpuClass": "standard"
  },
  "cells": [
    {
      "cell_type": "code",
      "execution_count": 1,
      "metadata": {
        "id": "01pH0ZH6qll5"
      },
      "outputs": [],
      "source": [
        "import torch\n",
        "import torch.nn as nn\n",
        "import torch.nn.functional as F\n",
        "import torch.optim as optim\n",
        "\n",
        "import pandas as pd\n",
        "from scipy.stats import zscore\n",
        "from sklearn.model_selection import train_test_split"
      ]
    },
    {
      "cell_type": "code",
      "source": [
        "epochs = 100\n",
        "\n",
        "torch.backends.cudnn.enabled = True\n",
        "torch.backends.cudnn.benchmark = True"
      ],
      "metadata": {
        "id": "7soWZ4Q9q1Cw"
      },
      "execution_count": 2,
      "outputs": []
    },
    {
      "cell_type": "code",
      "source": [
        "df = pd.read_csv(\n",
        "    \"https://raw.githubusercontent.com/m3gofriends/My-Machine-and-Deep-Learning-Template-main/main/Data/CSV/auto-mpg.csv\",\n",
        "    na_values=['NA', '?'])"
      ],
      "metadata": {
        "id": "OTJyi7YPr836"
      },
      "execution_count": 3,
      "outputs": []
    },
    {
      "cell_type": "code",
      "source": [
        "df.head()"
      ],
      "metadata": {
        "colab": {
          "base_uri": "https://localhost:8080/",
          "height": 206
        },
        "id": "tPGW27JWsHcl",
        "outputId": "dc58b1f9-020b-4015-b8c0-291b3fa6315e"
      },
      "execution_count": 4,
      "outputs": [
        {
          "output_type": "execute_result",
          "data": {
            "text/plain": [
              "    mpg  cylinders  displacement  horsepower  weight  acceleration  year  \\\n",
              "0  18.0          8         307.0       130.0    3504          12.0    70   \n",
              "1  15.0          8         350.0       165.0    3693          11.5    70   \n",
              "2  18.0          8         318.0       150.0    3436          11.0    70   \n",
              "3  16.0          8         304.0       150.0    3433          12.0    70   \n",
              "4  17.0          8         302.0       140.0    3449          10.5    70   \n",
              "\n",
              "   origin                       name  \n",
              "0       1  chevrolet chevelle malibu  \n",
              "1       1          buick skylark 320  \n",
              "2       1         plymouth satellite  \n",
              "3       1              amc rebel sst  \n",
              "4       1                ford torino  "
            ],
            "text/html": [
              "\n",
              "  <div id=\"df-eb264928-bfcb-45da-a622-f38e130e5aba\">\n",
              "    <div class=\"colab-df-container\">\n",
              "      <div>\n",
              "<style scoped>\n",
              "    .dataframe tbody tr th:only-of-type {\n",
              "        vertical-align: middle;\n",
              "    }\n",
              "\n",
              "    .dataframe tbody tr th {\n",
              "        vertical-align: top;\n",
              "    }\n",
              "\n",
              "    .dataframe thead th {\n",
              "        text-align: right;\n",
              "    }\n",
              "</style>\n",
              "<table border=\"1\" class=\"dataframe\">\n",
              "  <thead>\n",
              "    <tr style=\"text-align: right;\">\n",
              "      <th></th>\n",
              "      <th>mpg</th>\n",
              "      <th>cylinders</th>\n",
              "      <th>displacement</th>\n",
              "      <th>horsepower</th>\n",
              "      <th>weight</th>\n",
              "      <th>acceleration</th>\n",
              "      <th>year</th>\n",
              "      <th>origin</th>\n",
              "      <th>name</th>\n",
              "    </tr>\n",
              "  </thead>\n",
              "  <tbody>\n",
              "    <tr>\n",
              "      <th>0</th>\n",
              "      <td>18.0</td>\n",
              "      <td>8</td>\n",
              "      <td>307.0</td>\n",
              "      <td>130.0</td>\n",
              "      <td>3504</td>\n",
              "      <td>12.0</td>\n",
              "      <td>70</td>\n",
              "      <td>1</td>\n",
              "      <td>chevrolet chevelle malibu</td>\n",
              "    </tr>\n",
              "    <tr>\n",
              "      <th>1</th>\n",
              "      <td>15.0</td>\n",
              "      <td>8</td>\n",
              "      <td>350.0</td>\n",
              "      <td>165.0</td>\n",
              "      <td>3693</td>\n",
              "      <td>11.5</td>\n",
              "      <td>70</td>\n",
              "      <td>1</td>\n",
              "      <td>buick skylark 320</td>\n",
              "    </tr>\n",
              "    <tr>\n",
              "      <th>2</th>\n",
              "      <td>18.0</td>\n",
              "      <td>8</td>\n",
              "      <td>318.0</td>\n",
              "      <td>150.0</td>\n",
              "      <td>3436</td>\n",
              "      <td>11.0</td>\n",
              "      <td>70</td>\n",
              "      <td>1</td>\n",
              "      <td>plymouth satellite</td>\n",
              "    </tr>\n",
              "    <tr>\n",
              "      <th>3</th>\n",
              "      <td>16.0</td>\n",
              "      <td>8</td>\n",
              "      <td>304.0</td>\n",
              "      <td>150.0</td>\n",
              "      <td>3433</td>\n",
              "      <td>12.0</td>\n",
              "      <td>70</td>\n",
              "      <td>1</td>\n",
              "      <td>amc rebel sst</td>\n",
              "    </tr>\n",
              "    <tr>\n",
              "      <th>4</th>\n",
              "      <td>17.0</td>\n",
              "      <td>8</td>\n",
              "      <td>302.0</td>\n",
              "      <td>140.0</td>\n",
              "      <td>3449</td>\n",
              "      <td>10.5</td>\n",
              "      <td>70</td>\n",
              "      <td>1</td>\n",
              "      <td>ford torino</td>\n",
              "    </tr>\n",
              "  </tbody>\n",
              "</table>\n",
              "</div>\n",
              "      <button class=\"colab-df-convert\" onclick=\"convertToInteractive('df-eb264928-bfcb-45da-a622-f38e130e5aba')\"\n",
              "              title=\"Convert this dataframe to an interactive table.\"\n",
              "              style=\"display:none;\">\n",
              "        \n",
              "  <svg xmlns=\"http://www.w3.org/2000/svg\" height=\"24px\"viewBox=\"0 0 24 24\"\n",
              "       width=\"24px\">\n",
              "    <path d=\"M0 0h24v24H0V0z\" fill=\"none\"/>\n",
              "    <path d=\"M18.56 5.44l.94 2.06.94-2.06 2.06-.94-2.06-.94-.94-2.06-.94 2.06-2.06.94zm-11 1L8.5 8.5l.94-2.06 2.06-.94-2.06-.94L8.5 2.5l-.94 2.06-2.06.94zm10 10l.94 2.06.94-2.06 2.06-.94-2.06-.94-.94-2.06-.94 2.06-2.06.94z\"/><path d=\"M17.41 7.96l-1.37-1.37c-.4-.4-.92-.59-1.43-.59-.52 0-1.04.2-1.43.59L10.3 9.45l-7.72 7.72c-.78.78-.78 2.05 0 2.83L4 21.41c.39.39.9.59 1.41.59.51 0 1.02-.2 1.41-.59l7.78-7.78 2.81-2.81c.8-.78.8-2.07 0-2.86zM5.41 20L4 18.59l7.72-7.72 1.47 1.35L5.41 20z\"/>\n",
              "  </svg>\n",
              "      </button>\n",
              "      \n",
              "  <style>\n",
              "    .colab-df-container {\n",
              "      display:flex;\n",
              "      flex-wrap:wrap;\n",
              "      gap: 12px;\n",
              "    }\n",
              "\n",
              "    .colab-df-convert {\n",
              "      background-color: #E8F0FE;\n",
              "      border: none;\n",
              "      border-radius: 50%;\n",
              "      cursor: pointer;\n",
              "      display: none;\n",
              "      fill: #1967D2;\n",
              "      height: 32px;\n",
              "      padding: 0 0 0 0;\n",
              "      width: 32px;\n",
              "    }\n",
              "\n",
              "    .colab-df-convert:hover {\n",
              "      background-color: #E2EBFA;\n",
              "      box-shadow: 0px 1px 2px rgba(60, 64, 67, 0.3), 0px 1px 3px 1px rgba(60, 64, 67, 0.15);\n",
              "      fill: #174EA6;\n",
              "    }\n",
              "\n",
              "    [theme=dark] .colab-df-convert {\n",
              "      background-color: #3B4455;\n",
              "      fill: #D2E3FC;\n",
              "    }\n",
              "\n",
              "    [theme=dark] .colab-df-convert:hover {\n",
              "      background-color: #434B5C;\n",
              "      box-shadow: 0px 1px 3px 1px rgba(0, 0, 0, 0.15);\n",
              "      filter: drop-shadow(0px 1px 2px rgba(0, 0, 0, 0.3));\n",
              "      fill: #FFFFFF;\n",
              "    }\n",
              "  </style>\n",
              "\n",
              "      <script>\n",
              "        const buttonEl =\n",
              "          document.querySelector('#df-eb264928-bfcb-45da-a622-f38e130e5aba button.colab-df-convert');\n",
              "        buttonEl.style.display =\n",
              "          google.colab.kernel.accessAllowed ? 'block' : 'none';\n",
              "\n",
              "        async function convertToInteractive(key) {\n",
              "          const element = document.querySelector('#df-eb264928-bfcb-45da-a622-f38e130e5aba');\n",
              "          const dataTable =\n",
              "            await google.colab.kernel.invokeFunction('convertToInteractive',\n",
              "                                                     [key], {});\n",
              "          if (!dataTable) return;\n",
              "\n",
              "          const docLinkHtml = 'Like what you see? Visit the ' +\n",
              "            '<a target=\"_blank\" href=https://colab.research.google.com/notebooks/data_table.ipynb>data table notebook</a>'\n",
              "            + ' to learn more about interactive tables.';\n",
              "          element.innerHTML = '';\n",
              "          dataTable['output_type'] = 'display_data';\n",
              "          await google.colab.output.renderOutput(dataTable, element);\n",
              "          const docLink = document.createElement('div');\n",
              "          docLink.innerHTML = docLinkHtml;\n",
              "          element.appendChild(docLink);\n",
              "        }\n",
              "      </script>\n",
              "    </div>\n",
              "  </div>\n",
              "  "
            ]
          },
          "metadata": {},
          "execution_count": 4
        }
      ]
    },
    {
      "cell_type": "code",
      "source": [
        "mean_std={}\n",
        "\n",
        "# Remove target(Because the name of the car will hinder the training)\n",
        "cars = df['name']\n",
        "\n",
        "# Handle missing value\n",
        "df['horsepower'] = df['horsepower'].fillna(df['horsepower'].median())\n",
        "\n",
        "# Standardization\n",
        "x_columns = df.columns.drop('name')\n",
        "for var in x_columns:\n",
        "  mean_std[var]=(df[var].mean(), df[var].std())\n",
        "  df[var] = (df[var] - df[var].mean()) / df[var].std()\n",
        "\n",
        "# Pandas to Numpy\n",
        "x = df[x_columns].values\n",
        "y = df['acceleration'].values # regression"
      ],
      "metadata": {
        "id": "2BjtrOojsKR6"
      },
      "execution_count": 5,
      "outputs": []
    },
    {
      "cell_type": "code",
      "source": [
        "mean_std"
      ],
      "metadata": {
        "colab": {
          "base_uri": "https://localhost:8080/"
        },
        "id": "I0uSyQSIxqRi",
        "outputId": "9eaff169-60be-4ac4-c3cc-d29dbef8ed0d"
      },
      "execution_count": 6,
      "outputs": [
        {
          "output_type": "execute_result",
          "data": {
            "text/plain": [
              "{'mpg': (23.514572864321607, 7.815984312565782),\n",
              " 'cylinders': (5.454773869346734, 1.7010042445332119),\n",
              " 'displacement': (193.42587939698493, 104.26983817119591),\n",
              " 'horsepower': (104.30402010050251, 38.22262486810867),\n",
              " 'weight': (2970.424623115578, 846.8417741973268),\n",
              " 'acceleration': (15.568090452261307, 2.757688929812676),\n",
              " 'year': (76.01005025125629, 3.697626646732623),\n",
              " 'origin': (1.5728643216080402, 0.8020548777266148)}"
            ]
          },
          "metadata": {},
          "execution_count": 6
        }
      ]
    },
    {
      "cell_type": "code",
      "source": [
        "df.head()"
      ],
      "metadata": {
        "colab": {
          "base_uri": "https://localhost:8080/",
          "height": 206
        },
        "id": "UYd3E_QnsRnw",
        "outputId": "80c1b718-8cc6-40f7-e2b2-fdaf592a23b4"
      },
      "execution_count": 7,
      "outputs": [
        {
          "output_type": "execute_result",
          "data": {
            "text/plain": [
              "        mpg  cylinders  displacement  horsepower    weight  acceleration  \\\n",
              "0 -0.705551   1.496308      1.089233    0.672271  0.630077     -1.293870   \n",
              "1 -1.089379   1.496308      1.501624    1.587959  0.853259     -1.475181   \n",
              "2 -0.705551   1.496308      1.194728    1.195522  0.549778     -1.656492   \n",
              "3 -0.961437   1.496308      1.060461    1.195522  0.546236     -1.293870   \n",
              "4 -0.833494   1.496308      1.041280    0.933897  0.565130     -1.837804   \n",
              "\n",
              "       year    origin                       name  \n",
              "0 -1.625381 -0.714246  chevrolet chevelle malibu  \n",
              "1 -1.625381 -0.714246          buick skylark 320  \n",
              "2 -1.625381 -0.714246         plymouth satellite  \n",
              "3 -1.625381 -0.714246              amc rebel sst  \n",
              "4 -1.625381 -0.714246                ford torino  "
            ],
            "text/html": [
              "\n",
              "  <div id=\"df-e26f12c3-57c2-4111-9ee2-1b84f9b8f993\">\n",
              "    <div class=\"colab-df-container\">\n",
              "      <div>\n",
              "<style scoped>\n",
              "    .dataframe tbody tr th:only-of-type {\n",
              "        vertical-align: middle;\n",
              "    }\n",
              "\n",
              "    .dataframe tbody tr th {\n",
              "        vertical-align: top;\n",
              "    }\n",
              "\n",
              "    .dataframe thead th {\n",
              "        text-align: right;\n",
              "    }\n",
              "</style>\n",
              "<table border=\"1\" class=\"dataframe\">\n",
              "  <thead>\n",
              "    <tr style=\"text-align: right;\">\n",
              "      <th></th>\n",
              "      <th>mpg</th>\n",
              "      <th>cylinders</th>\n",
              "      <th>displacement</th>\n",
              "      <th>horsepower</th>\n",
              "      <th>weight</th>\n",
              "      <th>acceleration</th>\n",
              "      <th>year</th>\n",
              "      <th>origin</th>\n",
              "      <th>name</th>\n",
              "    </tr>\n",
              "  </thead>\n",
              "  <tbody>\n",
              "    <tr>\n",
              "      <th>0</th>\n",
              "      <td>-0.705551</td>\n",
              "      <td>1.496308</td>\n",
              "      <td>1.089233</td>\n",
              "      <td>0.672271</td>\n",
              "      <td>0.630077</td>\n",
              "      <td>-1.293870</td>\n",
              "      <td>-1.625381</td>\n",
              "      <td>-0.714246</td>\n",
              "      <td>chevrolet chevelle malibu</td>\n",
              "    </tr>\n",
              "    <tr>\n",
              "      <th>1</th>\n",
              "      <td>-1.089379</td>\n",
              "      <td>1.496308</td>\n",
              "      <td>1.501624</td>\n",
              "      <td>1.587959</td>\n",
              "      <td>0.853259</td>\n",
              "      <td>-1.475181</td>\n",
              "      <td>-1.625381</td>\n",
              "      <td>-0.714246</td>\n",
              "      <td>buick skylark 320</td>\n",
              "    </tr>\n",
              "    <tr>\n",
              "      <th>2</th>\n",
              "      <td>-0.705551</td>\n",
              "      <td>1.496308</td>\n",
              "      <td>1.194728</td>\n",
              "      <td>1.195522</td>\n",
              "      <td>0.549778</td>\n",
              "      <td>-1.656492</td>\n",
              "      <td>-1.625381</td>\n",
              "      <td>-0.714246</td>\n",
              "      <td>plymouth satellite</td>\n",
              "    </tr>\n",
              "    <tr>\n",
              "      <th>3</th>\n",
              "      <td>-0.961437</td>\n",
              "      <td>1.496308</td>\n",
              "      <td>1.060461</td>\n",
              "      <td>1.195522</td>\n",
              "      <td>0.546236</td>\n",
              "      <td>-1.293870</td>\n",
              "      <td>-1.625381</td>\n",
              "      <td>-0.714246</td>\n",
              "      <td>amc rebel sst</td>\n",
              "    </tr>\n",
              "    <tr>\n",
              "      <th>4</th>\n",
              "      <td>-0.833494</td>\n",
              "      <td>1.496308</td>\n",
              "      <td>1.041280</td>\n",
              "      <td>0.933897</td>\n",
              "      <td>0.565130</td>\n",
              "      <td>-1.837804</td>\n",
              "      <td>-1.625381</td>\n",
              "      <td>-0.714246</td>\n",
              "      <td>ford torino</td>\n",
              "    </tr>\n",
              "  </tbody>\n",
              "</table>\n",
              "</div>\n",
              "      <button class=\"colab-df-convert\" onclick=\"convertToInteractive('df-e26f12c3-57c2-4111-9ee2-1b84f9b8f993')\"\n",
              "              title=\"Convert this dataframe to an interactive table.\"\n",
              "              style=\"display:none;\">\n",
              "        \n",
              "  <svg xmlns=\"http://www.w3.org/2000/svg\" height=\"24px\"viewBox=\"0 0 24 24\"\n",
              "       width=\"24px\">\n",
              "    <path d=\"M0 0h24v24H0V0z\" fill=\"none\"/>\n",
              "    <path d=\"M18.56 5.44l.94 2.06.94-2.06 2.06-.94-2.06-.94-.94-2.06-.94 2.06-2.06.94zm-11 1L8.5 8.5l.94-2.06 2.06-.94-2.06-.94L8.5 2.5l-.94 2.06-2.06.94zm10 10l.94 2.06.94-2.06 2.06-.94-2.06-.94-.94-2.06-.94 2.06-2.06.94z\"/><path d=\"M17.41 7.96l-1.37-1.37c-.4-.4-.92-.59-1.43-.59-.52 0-1.04.2-1.43.59L10.3 9.45l-7.72 7.72c-.78.78-.78 2.05 0 2.83L4 21.41c.39.39.9.59 1.41.59.51 0 1.02-.2 1.41-.59l7.78-7.78 2.81-2.81c.8-.78.8-2.07 0-2.86zM5.41 20L4 18.59l7.72-7.72 1.47 1.35L5.41 20z\"/>\n",
              "  </svg>\n",
              "      </button>\n",
              "      \n",
              "  <style>\n",
              "    .colab-df-container {\n",
              "      display:flex;\n",
              "      flex-wrap:wrap;\n",
              "      gap: 12px;\n",
              "    }\n",
              "\n",
              "    .colab-df-convert {\n",
              "      background-color: #E8F0FE;\n",
              "      border: none;\n",
              "      border-radius: 50%;\n",
              "      cursor: pointer;\n",
              "      display: none;\n",
              "      fill: #1967D2;\n",
              "      height: 32px;\n",
              "      padding: 0 0 0 0;\n",
              "      width: 32px;\n",
              "    }\n",
              "\n",
              "    .colab-df-convert:hover {\n",
              "      background-color: #E2EBFA;\n",
              "      box-shadow: 0px 1px 2px rgba(60, 64, 67, 0.3), 0px 1px 3px 1px rgba(60, 64, 67, 0.15);\n",
              "      fill: #174EA6;\n",
              "    }\n",
              "\n",
              "    [theme=dark] .colab-df-convert {\n",
              "      background-color: #3B4455;\n",
              "      fill: #D2E3FC;\n",
              "    }\n",
              "\n",
              "    [theme=dark] .colab-df-convert:hover {\n",
              "      background-color: #434B5C;\n",
              "      box-shadow: 0px 1px 3px 1px rgba(0, 0, 0, 0.15);\n",
              "      filter: drop-shadow(0px 1px 2px rgba(0, 0, 0, 0.3));\n",
              "      fill: #FFFFFF;\n",
              "    }\n",
              "  </style>\n",
              "\n",
              "      <script>\n",
              "        const buttonEl =\n",
              "          document.querySelector('#df-e26f12c3-57c2-4111-9ee2-1b84f9b8f993 button.colab-df-convert');\n",
              "        buttonEl.style.display =\n",
              "          google.colab.kernel.accessAllowed ? 'block' : 'none';\n",
              "\n",
              "        async function convertToInteractive(key) {\n",
              "          const element = document.querySelector('#df-e26f12c3-57c2-4111-9ee2-1b84f9b8f993');\n",
              "          const dataTable =\n",
              "            await google.colab.kernel.invokeFunction('convertToInteractive',\n",
              "                                                     [key], {});\n",
              "          if (!dataTable) return;\n",
              "\n",
              "          const docLinkHtml = 'Like what you see? Visit the ' +\n",
              "            '<a target=\"_blank\" href=https://colab.research.google.com/notebooks/data_table.ipynb>data table notebook</a>'\n",
              "            + ' to learn more about interactive tables.';\n",
              "          element.innerHTML = '';\n",
              "          dataTable['output_type'] = 'display_data';\n",
              "          await google.colab.output.renderOutput(dataTable, element);\n",
              "          const docLink = document.createElement('div');\n",
              "          docLink.innerHTML = docLinkHtml;\n",
              "          element.appendChild(docLink);\n",
              "        }\n",
              "      </script>\n",
              "    </div>\n",
              "  </div>\n",
              "  "
            ]
          },
          "metadata": {},
          "execution_count": 7
        }
      ]
    },
    {
      "cell_type": "code",
      "source": [
        "# Split into train/test\n",
        "x_train, y_train, x_test, y_test = train_test_split(x, y, test_size=0.2)"
      ],
      "metadata": {
        "id": "7xT9q_S-sTB-"
      },
      "execution_count": 8,
      "outputs": []
    },
    {
      "cell_type": "code",
      "source": [
        "# Train\n",
        "print(x_train.shape)\n",
        "print(x_test.shape) # Label\n",
        "\n",
        "# Test\n",
        "print(y_train.shape)\n",
        "print(y_test.shape) # Label"
      ],
      "metadata": {
        "colab": {
          "base_uri": "https://localhost:8080/"
        },
        "id": "JJcnC9bMsU4w",
        "outputId": "ebb9941a-86eb-463c-cae3-83e80543f586"
      },
      "execution_count": 9,
      "outputs": [
        {
          "output_type": "stream",
          "name": "stdout",
          "text": [
            "(318, 8)\n",
            "(318,)\n",
            "(80, 8)\n",
            "(80,)\n"
          ]
        }
      ]
    },
    {
      "cell_type": "code",
      "source": [
        "x_train = torch.Tensor(x_train).cuda()\n",
        "x_test = torch.Tensor(x_test).cuda()\n",
        "y_train = torch.Tensor(y_train).cuda()\n",
        "y_test = torch.Tensor(y_test).cuda()"
      ],
      "metadata": {
        "id": "_HPuNW2gsaD_"
      },
      "execution_count": 10,
      "outputs": []
    },
    {
      "cell_type": "code",
      "source": [
        "class Net(nn.Module):\n",
        "    def __init__(self):\n",
        "        super(Net, self).__init__()\n",
        "        self.fc1 = nn.Linear(8, 256)\n",
        "        self.dropout1 = nn.Dropout(0.5)\n",
        "        self.fc2 = nn.Linear(256, 128)\n",
        "        self.dropout2 = nn.Dropout(0.5)\n",
        "        self.fc3 = nn.Linear(128, 1)\n",
        "\n",
        "    def forward(self, x):\n",
        "        x = self.fc1(x)\n",
        "        x = F.relu(x)\n",
        "        x = self.dropout1(x)\n",
        "        x = self.fc2(x)\n",
        "        x = F.relu(x)\n",
        "        x = self.dropout2(x)\n",
        "        x = self.fc3(x)\n",
        "        return x"
      ],
      "metadata": {
        "id": "d93GaYSjscwn"
      },
      "execution_count": 11,
      "outputs": []
    },
    {
      "cell_type": "code",
      "source": [
        "network = Net()\n",
        "network.cuda()\n",
        "optimizer = torch.optim.Adam(network.parameters(), lr=1e-2, weight_decay=1e-3)\n",
        "scheduler = torch.optim.lr_scheduler.ReduceLROnPlateau(optimizer, 'min', factor=0.5, patience=5, verbose=True, min_lr=1e-10)"
      ],
      "metadata": {
        "id": "ko3OrbLUsk92"
      },
      "execution_count": 12,
      "outputs": []
    },
    {
      "cell_type": "code",
      "source": [
        "train_losses = []\n",
        "test_losses = []"
      ],
      "metadata": {
        "id": "pNQP1OuBsp8B"
      },
      "execution_count": 13,
      "outputs": []
    },
    {
      "cell_type": "code",
      "source": [
        "def train(epoch):\n",
        "  network.train()\n",
        "  optimizer.zero_grad()\n",
        "  pred = network(x_train)\n",
        "  loss = F.mse_loss(pred.view(-1), x_test)\n",
        "  loss.backward()\n",
        "  optimizer.step()\n",
        "  #scheduler.step(loss)\n",
        "\n",
        "  print('Train Epoch : {}, MSE Loss : {:.6f}'.format(epoch, loss.item()))\n",
        "  train_losses.append(loss.item())"
      ],
      "metadata": {
        "id": "dPdHhYfessP6"
      },
      "execution_count": 14,
      "outputs": []
    },
    {
      "cell_type": "code",
      "source": [
        "def test(epoch):\n",
        "  network.eval()\n",
        "  with torch.no_grad():\n",
        "    pred = network(y_train)\n",
        "    loss = F.mse_loss(pred.view(-1), y_test)\n",
        "    scheduler.step(loss)\n",
        "\n",
        "  print('Test Epoch : {}, MSE Loss ; {:.6f}'.format(epoch, loss.item()))\n",
        "  test_losses.append(loss.item())"
      ],
      "metadata": {
        "id": "suG9T_zEst1V"
      },
      "execution_count": 15,
      "outputs": []
    },
    {
      "cell_type": "code",
      "source": [
        "for epoch in range(1, epochs+1):\n",
        "  train(epoch)\n",
        "  test(epoch)"
      ],
      "metadata": {
        "colab": {
          "base_uri": "https://localhost:8080/"
        },
        "id": "mM_X60JIsvHJ",
        "outputId": "5a009db2-01de-450c-841b-2757f69b1ca4"
      },
      "execution_count": 16,
      "outputs": [
        {
          "output_type": "stream",
          "name": "stdout",
          "text": [
            "Train Epoch : 1, MSE Loss : 1.180588\n",
            "Test Epoch : 1, MSE Loss ; 0.609303\n",
            "Train Epoch : 2, MSE Loss : 0.637263\n",
            "Test Epoch : 2, MSE Loss ; 0.197642\n",
            "Train Epoch : 3, MSE Loss : 0.274517\n",
            "Test Epoch : 3, MSE Loss ; 0.132542\n",
            "Train Epoch : 4, MSE Loss : 0.201544\n",
            "Test Epoch : 4, MSE Loss ; 0.091832\n",
            "Train Epoch : 5, MSE Loss : 0.161148\n",
            "Test Epoch : 5, MSE Loss ; 0.101695\n",
            "Train Epoch : 6, MSE Loss : 0.160088\n",
            "Test Epoch : 6, MSE Loss ; 0.085642\n",
            "Train Epoch : 7, MSE Loss : 0.160174\n",
            "Test Epoch : 7, MSE Loss ; 0.044472\n",
            "Train Epoch : 8, MSE Loss : 0.123014\n",
            "Test Epoch : 8, MSE Loss ; 0.053343\n",
            "Train Epoch : 9, MSE Loss : 0.105110\n",
            "Test Epoch : 9, MSE Loss ; 0.079567\n",
            "Train Epoch : 10, MSE Loss : 0.153389\n",
            "Test Epoch : 10, MSE Loss ; 0.074885\n",
            "Train Epoch : 11, MSE Loss : 0.139608\n",
            "Test Epoch : 11, MSE Loss ; 0.053638\n",
            "Train Epoch : 12, MSE Loss : 0.136023\n",
            "Test Epoch : 12, MSE Loss ; 0.035502\n",
            "Train Epoch : 13, MSE Loss : 0.112530\n",
            "Test Epoch : 13, MSE Loss ; 0.035349\n",
            "Train Epoch : 14, MSE Loss : 0.110670\n",
            "Test Epoch : 14, MSE Loss ; 0.035502\n",
            "Train Epoch : 15, MSE Loss : 0.099853\n",
            "Test Epoch : 15, MSE Loss ; 0.017912\n",
            "Train Epoch : 16, MSE Loss : 0.086926\n",
            "Test Epoch : 16, MSE Loss ; 0.011929\n",
            "Train Epoch : 17, MSE Loss : 0.097857\n",
            "Test Epoch : 17, MSE Loss ; 0.028462\n",
            "Train Epoch : 18, MSE Loss : 0.101791\n",
            "Test Epoch : 18, MSE Loss ; 0.046116\n",
            "Train Epoch : 19, MSE Loss : 0.127060\n",
            "Test Epoch : 19, MSE Loss ; 0.051378\n",
            "Train Epoch : 20, MSE Loss : 0.105000\n",
            "Test Epoch : 20, MSE Loss ; 0.032312\n",
            "Train Epoch : 21, MSE Loss : 0.097411\n",
            "Test Epoch : 21, MSE Loss ; 0.013365\n",
            "Train Epoch : 22, MSE Loss : 0.080519\n",
            "Epoch 00022: reducing learning rate of group 0 to 5.0000e-03.\n",
            "Test Epoch : 22, MSE Loss ; 0.015307\n",
            "Train Epoch : 23, MSE Loss : 0.079220\n",
            "Test Epoch : 23, MSE Loss ; 0.016437\n",
            "Train Epoch : 24, MSE Loss : 0.110538\n",
            "Test Epoch : 24, MSE Loss ; 0.014029\n",
            "Train Epoch : 25, MSE Loss : 0.100756\n",
            "Test Epoch : 25, MSE Loss ; 0.013306\n",
            "Train Epoch : 26, MSE Loss : 0.056435\n",
            "Test Epoch : 26, MSE Loss ; 0.017395\n",
            "Train Epoch : 27, MSE Loss : 0.080523\n",
            "Test Epoch : 27, MSE Loss ; 0.020403\n",
            "Train Epoch : 28, MSE Loss : 0.081103\n",
            "Epoch 00028: reducing learning rate of group 0 to 2.5000e-03.\n",
            "Test Epoch : 28, MSE Loss ; 0.022143\n",
            "Train Epoch : 29, MSE Loss : 0.061476\n",
            "Test Epoch : 29, MSE Loss ; 0.021309\n",
            "Train Epoch : 30, MSE Loss : 0.089480\n",
            "Test Epoch : 30, MSE Loss ; 0.019709\n",
            "Train Epoch : 31, MSE Loss : 0.078785\n",
            "Test Epoch : 31, MSE Loss ; 0.016862\n",
            "Train Epoch : 32, MSE Loss : 0.069243\n",
            "Test Epoch : 32, MSE Loss ; 0.013792\n",
            "Train Epoch : 33, MSE Loss : 0.074636\n",
            "Test Epoch : 33, MSE Loss ; 0.011654\n",
            "Train Epoch : 34, MSE Loss : 0.080396\n",
            "Test Epoch : 34, MSE Loss ; 0.010234\n",
            "Train Epoch : 35, MSE Loss : 0.063944\n",
            "Test Epoch : 35, MSE Loss ; 0.010889\n",
            "Train Epoch : 36, MSE Loss : 0.053299\n",
            "Test Epoch : 36, MSE Loss ; 0.013233\n",
            "Train Epoch : 37, MSE Loss : 0.081571\n",
            "Test Epoch : 37, MSE Loss ; 0.015424\n",
            "Train Epoch : 38, MSE Loss : 0.068725\n",
            "Test Epoch : 38, MSE Loss ; 0.016537\n",
            "Train Epoch : 39, MSE Loss : 0.071545\n",
            "Test Epoch : 39, MSE Loss ; 0.014990\n",
            "Train Epoch : 40, MSE Loss : 0.060980\n",
            "Epoch 00040: reducing learning rate of group 0 to 1.2500e-03.\n",
            "Test Epoch : 40, MSE Loss ; 0.012285\n",
            "Train Epoch : 41, MSE Loss : 0.068048\n",
            "Test Epoch : 41, MSE Loss ; 0.010690\n",
            "Train Epoch : 42, MSE Loss : 0.060745\n",
            "Test Epoch : 42, MSE Loss ; 0.009567\n",
            "Train Epoch : 43, MSE Loss : 0.055408\n",
            "Test Epoch : 43, MSE Loss ; 0.008752\n",
            "Train Epoch : 44, MSE Loss : 0.068157\n",
            "Test Epoch : 44, MSE Loss ; 0.008193\n",
            "Train Epoch : 45, MSE Loss : 0.067279\n",
            "Test Epoch : 45, MSE Loss ; 0.007950\n",
            "Train Epoch : 46, MSE Loss : 0.061704\n",
            "Test Epoch : 46, MSE Loss ; 0.008236\n",
            "Train Epoch : 47, MSE Loss : 0.061230\n",
            "Test Epoch : 47, MSE Loss ; 0.008806\n",
            "Train Epoch : 48, MSE Loss : 0.063738\n",
            "Test Epoch : 48, MSE Loss ; 0.009252\n",
            "Train Epoch : 49, MSE Loss : 0.066798\n",
            "Test Epoch : 49, MSE Loss ; 0.009753\n",
            "Train Epoch : 50, MSE Loss : 0.070901\n",
            "Test Epoch : 50, MSE Loss ; 0.009694\n",
            "Train Epoch : 51, MSE Loss : 0.062614\n",
            "Epoch 00051: reducing learning rate of group 0 to 6.2500e-04.\n",
            "Test Epoch : 51, MSE Loss ; 0.009644\n",
            "Train Epoch : 52, MSE Loss : 0.068282\n",
            "Test Epoch : 52, MSE Loss ; 0.009468\n",
            "Train Epoch : 53, MSE Loss : 0.061668\n",
            "Test Epoch : 53, MSE Loss ; 0.009250\n",
            "Train Epoch : 54, MSE Loss : 0.050292\n",
            "Test Epoch : 54, MSE Loss ; 0.009034\n",
            "Train Epoch : 55, MSE Loss : 0.065090\n",
            "Test Epoch : 55, MSE Loss ; 0.008640\n",
            "Train Epoch : 56, MSE Loss : 0.054487\n",
            "Test Epoch : 56, MSE Loss ; 0.008339\n",
            "Train Epoch : 57, MSE Loss : 0.054249\n",
            "Epoch 00057: reducing learning rate of group 0 to 3.1250e-04.\n",
            "Test Epoch : 57, MSE Loss ; 0.008000\n",
            "Train Epoch : 58, MSE Loss : 0.068853\n",
            "Test Epoch : 58, MSE Loss ; 0.007771\n",
            "Train Epoch : 59, MSE Loss : 0.051281\n",
            "Test Epoch : 59, MSE Loss ; 0.007600\n",
            "Train Epoch : 60, MSE Loss : 0.063509\n",
            "Test Epoch : 60, MSE Loss ; 0.007550\n",
            "Train Epoch : 61, MSE Loss : 0.064471\n",
            "Test Epoch : 61, MSE Loss ; 0.007490\n",
            "Train Epoch : 62, MSE Loss : 0.052680\n",
            "Test Epoch : 62, MSE Loss ; 0.007451\n",
            "Train Epoch : 63, MSE Loss : 0.057696\n",
            "Test Epoch : 63, MSE Loss ; 0.007367\n",
            "Train Epoch : 64, MSE Loss : 0.063026\n",
            "Test Epoch : 64, MSE Loss ; 0.007304\n",
            "Train Epoch : 65, MSE Loss : 0.053186\n",
            "Test Epoch : 65, MSE Loss ; 0.007259\n",
            "Train Epoch : 66, MSE Loss : 0.055543\n",
            "Test Epoch : 66, MSE Loss ; 0.007221\n",
            "Train Epoch : 67, MSE Loss : 0.057513\n",
            "Test Epoch : 67, MSE Loss ; 0.007160\n",
            "Train Epoch : 68, MSE Loss : 0.053172\n",
            "Test Epoch : 68, MSE Loss ; 0.007046\n",
            "Train Epoch : 69, MSE Loss : 0.052232\n",
            "Test Epoch : 69, MSE Loss ; 0.006898\n",
            "Train Epoch : 70, MSE Loss : 0.061508\n",
            "Test Epoch : 70, MSE Loss ; 0.006757\n",
            "Train Epoch : 71, MSE Loss : 0.068425\n",
            "Test Epoch : 71, MSE Loss ; 0.006632\n",
            "Train Epoch : 72, MSE Loss : 0.060530\n",
            "Test Epoch : 72, MSE Loss ; 0.006504\n",
            "Train Epoch : 73, MSE Loss : 0.060385\n",
            "Test Epoch : 73, MSE Loss ; 0.006419\n",
            "Train Epoch : 74, MSE Loss : 0.062859\n",
            "Test Epoch : 74, MSE Loss ; 0.006353\n",
            "Train Epoch : 75, MSE Loss : 0.063129\n",
            "Test Epoch : 75, MSE Loss ; 0.006282\n",
            "Train Epoch : 76, MSE Loss : 0.058018\n",
            "Test Epoch : 76, MSE Loss ; 0.006213\n",
            "Train Epoch : 77, MSE Loss : 0.043789\n",
            "Test Epoch : 77, MSE Loss ; 0.006141\n",
            "Train Epoch : 78, MSE Loss : 0.064764\n",
            "Test Epoch : 78, MSE Loss ; 0.006094\n",
            "Train Epoch : 79, MSE Loss : 0.064915\n",
            "Test Epoch : 79, MSE Loss ; 0.006065\n",
            "Train Epoch : 80, MSE Loss : 0.054203\n",
            "Test Epoch : 80, MSE Loss ; 0.006025\n",
            "Train Epoch : 81, MSE Loss : 0.055240\n",
            "Test Epoch : 81, MSE Loss ; 0.006012\n",
            "Train Epoch : 82, MSE Loss : 0.068939\n",
            "Test Epoch : 82, MSE Loss ; 0.005948\n",
            "Train Epoch : 83, MSE Loss : 0.056990\n",
            "Test Epoch : 83, MSE Loss ; 0.005878\n",
            "Train Epoch : 84, MSE Loss : 0.072109\n",
            "Test Epoch : 84, MSE Loss ; 0.005929\n",
            "Train Epoch : 85, MSE Loss : 0.057260\n",
            "Test Epoch : 85, MSE Loss ; 0.005990\n",
            "Train Epoch : 86, MSE Loss : 0.051520\n",
            "Test Epoch : 86, MSE Loss ; 0.006035\n",
            "Train Epoch : 87, MSE Loss : 0.060065\n",
            "Test Epoch : 87, MSE Loss ; 0.006122\n",
            "Train Epoch : 88, MSE Loss : 0.065574\n",
            "Test Epoch : 88, MSE Loss ; 0.006220\n",
            "Train Epoch : 89, MSE Loss : 0.058438\n",
            "Epoch 00089: reducing learning rate of group 0 to 1.5625e-04.\n",
            "Test Epoch : 89, MSE Loss ; 0.006395\n",
            "Train Epoch : 90, MSE Loss : 0.074937\n",
            "Test Epoch : 90, MSE Loss ; 0.006488\n",
            "Train Epoch : 91, MSE Loss : 0.058528\n",
            "Test Epoch : 91, MSE Loss ; 0.006602\n",
            "Train Epoch : 92, MSE Loss : 0.055658\n",
            "Test Epoch : 92, MSE Loss ; 0.006680\n",
            "Train Epoch : 93, MSE Loss : 0.059693\n",
            "Test Epoch : 93, MSE Loss ; 0.006771\n",
            "Train Epoch : 94, MSE Loss : 0.058594\n",
            "Test Epoch : 94, MSE Loss ; 0.006866\n",
            "Train Epoch : 95, MSE Loss : 0.051807\n",
            "Epoch 00095: reducing learning rate of group 0 to 7.8125e-05.\n",
            "Test Epoch : 95, MSE Loss ; 0.006972\n",
            "Train Epoch : 96, MSE Loss : 0.052257\n",
            "Test Epoch : 96, MSE Loss ; 0.007017\n",
            "Train Epoch : 97, MSE Loss : 0.058849\n",
            "Test Epoch : 97, MSE Loss ; 0.007059\n",
            "Train Epoch : 98, MSE Loss : 0.056318\n",
            "Test Epoch : 98, MSE Loss ; 0.007112\n",
            "Train Epoch : 99, MSE Loss : 0.067079\n",
            "Test Epoch : 99, MSE Loss ; 0.007163\n",
            "Train Epoch : 100, MSE Loss : 0.058907\n",
            "Test Epoch : 100, MSE Loss ; 0.007232\n"
          ]
        }
      ]
    },
    {
      "cell_type": "code",
      "source": [
        "import matplotlib.pyplot as plt\n",
        "\n",
        "fig = plt.figure()\n",
        "plt.plot(range(epochs), train_losses, color='red')\n",
        "plt.plot(range(epochs), test_losses, color='blue')\n",
        "plt.legend(['Train Loss', 'Test Loss'], loc='upper right')\n",
        "plt.xlabel('Epoch')\n",
        "plt.ylabel('Loss')"
      ],
      "metadata": {
        "colab": {
          "base_uri": "https://localhost:8080/",
          "height": 296
        },
        "id": "rNGz2th1sw36",
        "outputId": "95449201-2521-4b75-f02a-f1b8a3e59f4d"
      },
      "execution_count": 17,
      "outputs": [
        {
          "output_type": "execute_result",
          "data": {
            "text/plain": [
              "Text(0, 0.5, 'Loss')"
            ]
          },
          "metadata": {},
          "execution_count": 17
        },
        {
          "output_type": "display_data",
          "data": {
            "text/plain": [
              "<Figure size 432x288 with 1 Axes>"
            ],
            "image/png": "[encoded data removed]"
          },
          "metadata": {
            "needs_background": "light"
          }
        }
      ]
    },
    {
      "cell_type": "code",
      "source": [
        "def reverse_standardization(dict, data, col_name):\n",
        "  return data * dict[col_name][1] + dict[col_name][0]"
      ],
      "metadata": {
        "id": "USjPNmuxx24t"
      },
      "execution_count": 18,
      "outputs": []
    },
    {
      "cell_type": "code",
      "source": [
        "pred = network(y_train)\n",
        "pred = pred.view(-1).data.cpu().numpy()\n",
        "y_test = y_test.data.cpu().numpy()\n",
        "pred = reverse_standardization(mean_std, pred, 'acceleration') # Reverse Standardization\n",
        "y_test = reverse_standardization(mean_std, y_test, 'acceleration') # Reverse Standardization"
      ],
      "metadata": {
        "id": "8_nCvK7yu7hI"
      },
      "execution_count": 19,
      "outputs": []
    },
    {
      "cell_type": "code",
      "source": [
        "import matplotlib.pyplot as plt\n",
        "\n",
        "fig = plt.figure()\n",
        "plt.plot(range(80), pred, color='red')\n",
        "plt.plot(range(80), y_test, color='blue')\n",
        "plt.legend(['Expected', 'Prediction'])\n",
        "plt.xlabel('Epoch')\n",
        "plt.ylabel('Value')"
      ],
      "metadata": {
        "colab": {
          "base_uri": "https://localhost:8080/",
          "height": 296
        },
        "id": "OT5Jvit4u5qZ",
        "outputId": "bc57bb72-f668-490a-d9f9-74e82f2e5baa"
      },
      "execution_count": 20,
      "outputs": [
        {
          "output_type": "execute_result",
          "data": {
            "text/plain": [
              "Text(0, 0.5, 'Value')"
            ]
          },
          "metadata": {},
          "execution_count": 20
        },
        {
          "output_type": "display_data",
          "data": {
            "text/plain": [
              "<Figure size 432x288 with 1 Axes>"
            ],
            "image/png": "[encoded data removed]"
          },
          "metadata": {
            "needs_background": "light"
          }
        }
      ]
    }
  ]
}