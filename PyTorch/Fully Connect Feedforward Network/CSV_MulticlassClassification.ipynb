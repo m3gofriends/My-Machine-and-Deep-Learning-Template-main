{
  "nbformat": 4,
  "nbformat_minor": 0,
  "metadata": {
    "colab": {
      "provenance": []
    },
    "kernelspec": {
      "name": "python3",
      "display_name": "Python 3"
    },
    "language_info": {
      "name": "python"
    },
    "accelerator": "GPU",
    "gpuClass": "standard"
  },
  "cells": [
    {
      "cell_type": "code",
      "execution_count": 19,
      "metadata": {
        "id": "jehQ6J-qApBD"
      },
      "outputs": [],
      "source": [
        "import torch\n",
        "import torch.nn as nn\n",
        "import torch.nn.functional as F\n",
        "import torch.optim as optim\n",
        "from torch.autograd import Variable\n",
        "\n",
        "import numpy as np\n",
        "import pandas as pd\n",
        "from sklearn import metrics\n",
        "from scipy.stats import zscore\n",
        "from sklearn.model_selection import train_test_split"
      ]
    },
    {
      "cell_type": "code",
      "source": [
        "epochs = 100\n",
        "learning_rate = 0.001\n",
        "\n",
        "torch.backends.cudnn.enabled = True\n",
        "torch.backends.cudnn.benchmark = True"
      ],
      "metadata": {
        "id": "jgWUd3iWCjv5"
      },
      "execution_count": 2,
      "outputs": []
    },
    {
      "cell_type": "code",
      "source": [
        "df = pd.read_csv(\n",
        "    \"https://raw.githubusercontent.com/m3gofriends/My-Machine-and-Deep-Learning-Template-main/main/Data/CSV/iris.csv\", \n",
        "    na_values=['NA', '?'])"
      ],
      "metadata": {
        "id": "vauPm69-AxCW"
      },
      "execution_count": 3,
      "outputs": []
    },
    {
      "cell_type": "code",
      "source": [
        "df.head()"
      ],
      "metadata": {
        "colab": {
          "base_uri": "https://localhost:8080/",
          "height": 206
        },
        "id": "VuVwZj9vCEGJ",
        "outputId": "83cbb273-a3ba-4a8e-9f7e-abd9dcb399c9"
      },
      "execution_count": 4,
      "outputs": [
        {
          "output_type": "execute_result",
          "data": {
            "text/plain": [
              "   sepal_l  sepal_w  petal_l  petal_w      species\n",
              "0      5.1      3.5      1.4      0.2  Iris-setosa\n",
              "1      4.9      3.0      1.4      0.2  Iris-setosa\n",
              "2      4.7      3.2      1.3      0.2  Iris-setosa\n",
              "3      4.6      3.1      1.5      0.2  Iris-setosa\n",
              "4      5.0      3.6      1.4      0.2  Iris-setosa"
            ],
            "text/html": [
              "\n",
              "  <div id=\"df-10cd61c8-6212-457a-9a41-44ba0e4fe122\">\n",
              "    <div class=\"colab-df-container\">\n",
              "      <div>\n",
              "<style scoped>\n",
              "    .dataframe tbody tr th:only-of-type {\n",
              "        vertical-align: middle;\n",
              "    }\n",
              "\n",
              "    .dataframe tbody tr th {\n",
              "        vertical-align: top;\n",
              "    }\n",
              "\n",
              "    .dataframe thead th {\n",
              "        text-align: right;\n",
              "    }\n",
              "</style>\n",
              "<table border=\"1\" class=\"dataframe\">\n",
              "  <thead>\n",
              "    <tr style=\"text-align: right;\">\n",
              "      <th></th>\n",
              "      <th>sepal_l</th>\n",
              "      <th>sepal_w</th>\n",
              "      <th>petal_l</th>\n",
              "      <th>petal_w</th>\n",
              "      <th>species</th>\n",
              "    </tr>\n",
              "  </thead>\n",
              "  <tbody>\n",
              "    <tr>\n",
              "      <th>0</th>\n",
              "      <td>5.1</td>\n",
              "      <td>3.5</td>\n",
              "      <td>1.4</td>\n",
              "      <td>0.2</td>\n",
              "      <td>Iris-setosa</td>\n",
              "    </tr>\n",
              "    <tr>\n",
              "      <th>1</th>\n",
              "      <td>4.9</td>\n",
              "      <td>3.0</td>\n",
              "      <td>1.4</td>\n",
              "      <td>0.2</td>\n",
              "      <td>Iris-setosa</td>\n",
              "    </tr>\n",
              "    <tr>\n",
              "      <th>2</th>\n",
              "      <td>4.7</td>\n",
              "      <td>3.2</td>\n",
              "      <td>1.3</td>\n",
              "      <td>0.2</td>\n",
              "      <td>Iris-setosa</td>\n",
              "    </tr>\n",
              "    <tr>\n",
              "      <th>3</th>\n",
              "      <td>4.6</td>\n",
              "      <td>3.1</td>\n",
              "      <td>1.5</td>\n",
              "      <td>0.2</td>\n",
              "      <td>Iris-setosa</td>\n",
              "    </tr>\n",
              "    <tr>\n",
              "      <th>4</th>\n",
              "      <td>5.0</td>\n",
              "      <td>3.6</td>\n",
              "      <td>1.4</td>\n",
              "      <td>0.2</td>\n",
              "      <td>Iris-setosa</td>\n",
              "    </tr>\n",
              "  </tbody>\n",
              "</table>\n",
              "</div>\n",
              "      <button class=\"colab-df-convert\" onclick=\"convertToInteractive('df-10cd61c8-6212-457a-9a41-44ba0e4fe122')\"\n",
              "              title=\"Convert this dataframe to an interactive table.\"\n",
              "              style=\"display:none;\">\n",
              "        \n",
              "  <svg xmlns=\"http://www.w3.org/2000/svg\" height=\"24px\"viewBox=\"0 0 24 24\"\n",
              "       width=\"24px\">\n",
              "    <path d=\"M0 0h24v24H0V0z\" fill=\"none\"/>\n",
              "    <path d=\"M18.56 5.44l.94 2.06.94-2.06 2.06-.94-2.06-.94-.94-2.06-.94 2.06-2.06.94zm-11 1L8.5 8.5l.94-2.06 2.06-.94-2.06-.94L8.5 2.5l-.94 2.06-2.06.94zm10 10l.94 2.06.94-2.06 2.06-.94-2.06-.94-.94-2.06-.94 2.06-2.06.94z\"/><path d=\"M17.41 7.96l-1.37-1.37c-.4-.4-.92-.59-1.43-.59-.52 0-1.04.2-1.43.59L10.3 9.45l-7.72 7.72c-.78.78-.78 2.05 0 2.83L4 21.41c.39.39.9.59 1.41.59.51 0 1.02-.2 1.41-.59l7.78-7.78 2.81-2.81c.8-.78.8-2.07 0-2.86zM5.41 20L4 18.59l7.72-7.72 1.47 1.35L5.41 20z\"/>\n",
              "  </svg>\n",
              "      </button>\n",
              "      \n",
              "  <style>\n",
              "    .colab-df-container {\n",
              "      display:flex;\n",
              "      flex-wrap:wrap;\n",
              "      gap: 12px;\n",
              "    }\n",
              "\n",
              "    .colab-df-convert {\n",
              "      background-color: #E8F0FE;\n",
              "      border: none;\n",
              "      border-radius: 50%;\n",
              "      cursor: pointer;\n",
              "      display: none;\n",
              "      fill: #1967D2;\n",
              "      height: 32px;\n",
              "      padding: 0 0 0 0;\n",
              "      width: 32px;\n",
              "    }\n",
              "\n",
              "    .colab-df-convert:hover {\n",
              "      background-color: #E2EBFA;\n",
              "      box-shadow: 0px 1px 2px rgba(60, 64, 67, 0.3), 0px 1px 3px 1px rgba(60, 64, 67, 0.15);\n",
              "      fill: #174EA6;\n",
              "    }\n",
              "\n",
              "    [theme=dark] .colab-df-convert {\n",
              "      background-color: #3B4455;\n",
              "      fill: #D2E3FC;\n",
              "    }\n",
              "\n",
              "    [theme=dark] .colab-df-convert:hover {\n",
              "      background-color: #434B5C;\n",
              "      box-shadow: 0px 1px 3px 1px rgba(0, 0, 0, 0.15);\n",
              "      filter: drop-shadow(0px 1px 2px rgba(0, 0, 0, 0.3));\n",
              "      fill: #FFFFFF;\n",
              "    }\n",
              "  </style>\n",
              "\n",
              "      <script>\n",
              "        const buttonEl =\n",
              "          document.querySelector('#df-10cd61c8-6212-457a-9a41-44ba0e4fe122 button.colab-df-convert');\n",
              "        buttonEl.style.display =\n",
              "          google.colab.kernel.accessAllowed ? 'block' : 'none';\n",
              "\n",
              "        async function convertToInteractive(key) {\n",
              "          const element = document.querySelector('#df-10cd61c8-6212-457a-9a41-44ba0e4fe122');\n",
              "          const dataTable =\n",
              "            await google.colab.kernel.invokeFunction('convertToInteractive',\n",
              "                                                     [key], {});\n",
              "          if (!dataTable) return;\n",
              "\n",
              "          const docLinkHtml = 'Like what you see? Visit the ' +\n",
              "            '<a target=\"_blank\" href=https://colab.research.google.com/notebooks/data_table.ipynb>data table notebook</a>'\n",
              "            + ' to learn more about interactive tables.';\n",
              "          element.innerHTML = '';\n",
              "          dataTable['output_type'] = 'display_data';\n",
              "          await google.colab.output.renderOutput(dataTable, element);\n",
              "          const docLink = document.createElement('div');\n",
              "          docLink.innerHTML = docLinkHtml;\n",
              "          element.appendChild(docLink);\n",
              "        }\n",
              "      </script>\n",
              "    </div>\n",
              "  </div>\n",
              "  "
            ]
          },
          "metadata": {},
          "execution_count": 4
        }
      ]
    },
    {
      "cell_type": "code",
      "source": [
        "# Convert to numpy - Classification\n",
        "x_columns = df.columns.drop('species')\n",
        "for col in x_columns:\n",
        "  df[col] = zscore(df[col])\n",
        "\n",
        "x = df[x_columns].values\n",
        "dummies = pd.get_dummies(df['species']) # Classification\n",
        "species = dummies.columns\n",
        "y = dummies.values"
      ],
      "metadata": {
        "id": "_KYfhtcHCEXY"
      },
      "execution_count": 5,
      "outputs": []
    },
    {
      "cell_type": "code",
      "source": [
        "print(x.shape)\n",
        "print(y.shape)"
      ],
      "metadata": {
        "colab": {
          "base_uri": "https://localhost:8080/"
        },
        "id": "XrVaMWvfCFpd",
        "outputId": "7c5698fc-dc2c-490f-c6b7-af39b2a5b2aa"
      },
      "execution_count": 6,
      "outputs": [
        {
          "output_type": "stream",
          "name": "stdout",
          "text": [
            "(150, 4)\n",
            "(150, 3)\n"
          ]
        }
      ]
    },
    {
      "cell_type": "code",
      "source": [
        "df.head()"
      ],
      "metadata": {
        "colab": {
          "base_uri": "https://localhost:8080/",
          "height": 206
        },
        "id": "7JNI1PxOCHAL",
        "outputId": "3bc19ef1-bd7a-4a9e-ccc5-bed277f8ea22"
      },
      "execution_count": 7,
      "outputs": [
        {
          "output_type": "execute_result",
          "data": {
            "text/plain": [
              "    sepal_l   sepal_w   petal_l   petal_w      species\n",
              "0 -0.900681  1.019004 -1.340227 -1.315444  Iris-setosa\n",
              "1 -1.143017 -0.131979 -1.340227 -1.315444  Iris-setosa\n",
              "2 -1.385353  0.328414 -1.397064 -1.315444  Iris-setosa\n",
              "3 -1.506521  0.098217 -1.283389 -1.315444  Iris-setosa\n",
              "4 -1.021849  1.249201 -1.340227 -1.315444  Iris-setosa"
            ],
            "text/html": [
              "\n",
              "  <div id=\"df-fb37b8ef-ba11-453d-9e3e-8149982faaae\">\n",
              "    <div class=\"colab-df-container\">\n",
              "      <div>\n",
              "<style scoped>\n",
              "    .dataframe tbody tr th:only-of-type {\n",
              "        vertical-align: middle;\n",
              "    }\n",
              "\n",
              "    .dataframe tbody tr th {\n",
              "        vertical-align: top;\n",
              "    }\n",
              "\n",
              "    .dataframe thead th {\n",
              "        text-align: right;\n",
              "    }\n",
              "</style>\n",
              "<table border=\"1\" class=\"dataframe\">\n",
              "  <thead>\n",
              "    <tr style=\"text-align: right;\">\n",
              "      <th></th>\n",
              "      <th>sepal_l</th>\n",
              "      <th>sepal_w</th>\n",
              "      <th>petal_l</th>\n",
              "      <th>petal_w</th>\n",
              "      <th>species</th>\n",
              "    </tr>\n",
              "  </thead>\n",
              "  <tbody>\n",
              "    <tr>\n",
              "      <th>0</th>\n",
              "      <td>-0.900681</td>\n",
              "      <td>1.019004</td>\n",
              "      <td>-1.340227</td>\n",
              "      <td>-1.315444</td>\n",
              "      <td>Iris-setosa</td>\n",
              "    </tr>\n",
              "    <tr>\n",
              "      <th>1</th>\n",
              "      <td>-1.143017</td>\n",
              "      <td>-0.131979</td>\n",
              "      <td>-1.340227</td>\n",
              "      <td>-1.315444</td>\n",
              "      <td>Iris-setosa</td>\n",
              "    </tr>\n",
              "    <tr>\n",
              "      <th>2</th>\n",
              "      <td>-1.385353</td>\n",
              "      <td>0.328414</td>\n",
              "      <td>-1.397064</td>\n",
              "      <td>-1.315444</td>\n",
              "      <td>Iris-setosa</td>\n",
              "    </tr>\n",
              "    <tr>\n",
              "      <th>3</th>\n",
              "      <td>-1.506521</td>\n",
              "      <td>0.098217</td>\n",
              "      <td>-1.283389</td>\n",
              "      <td>-1.315444</td>\n",
              "      <td>Iris-setosa</td>\n",
              "    </tr>\n",
              "    <tr>\n",
              "      <th>4</th>\n",
              "      <td>-1.021849</td>\n",
              "      <td>1.249201</td>\n",
              "      <td>-1.340227</td>\n",
              "      <td>-1.315444</td>\n",
              "      <td>Iris-setosa</td>\n",
              "    </tr>\n",
              "  </tbody>\n",
              "</table>\n",
              "</div>\n",
              "      <button class=\"colab-df-convert\" onclick=\"convertToInteractive('df-fb37b8ef-ba11-453d-9e3e-8149982faaae')\"\n",
              "              title=\"Convert this dataframe to an interactive table.\"\n",
              "              style=\"display:none;\">\n",
              "        \n",
              "  <svg xmlns=\"http://www.w3.org/2000/svg\" height=\"24px\"viewBox=\"0 0 24 24\"\n",
              "       width=\"24px\">\n",
              "    <path d=\"M0 0h24v24H0V0z\" fill=\"none\"/>\n",
              "    <path d=\"M18.56 5.44l.94 2.06.94-2.06 2.06-.94-2.06-.94-.94-2.06-.94 2.06-2.06.94zm-11 1L8.5 8.5l.94-2.06 2.06-.94-2.06-.94L8.5 2.5l-.94 2.06-2.06.94zm10 10l.94 2.06.94-2.06 2.06-.94-2.06-.94-.94-2.06-.94 2.06-2.06.94z\"/><path d=\"M17.41 7.96l-1.37-1.37c-.4-.4-.92-.59-1.43-.59-.52 0-1.04.2-1.43.59L10.3 9.45l-7.72 7.72c-.78.78-.78 2.05 0 2.83L4 21.41c.39.39.9.59 1.41.59.51 0 1.02-.2 1.41-.59l7.78-7.78 2.81-2.81c.8-.78.8-2.07 0-2.86zM5.41 20L4 18.59l7.72-7.72 1.47 1.35L5.41 20z\"/>\n",
              "  </svg>\n",
              "      </button>\n",
              "      \n",
              "  <style>\n",
              "    .colab-df-container {\n",
              "      display:flex;\n",
              "      flex-wrap:wrap;\n",
              "      gap: 12px;\n",
              "    }\n",
              "\n",
              "    .colab-df-convert {\n",
              "      background-color: #E8F0FE;\n",
              "      border: none;\n",
              "      border-radius: 50%;\n",
              "      cursor: pointer;\n",
              "      display: none;\n",
              "      fill: #1967D2;\n",
              "      height: 32px;\n",
              "      padding: 0 0 0 0;\n",
              "      width: 32px;\n",
              "    }\n",
              "\n",
              "    .colab-df-convert:hover {\n",
              "      background-color: #E2EBFA;\n",
              "      box-shadow: 0px 1px 2px rgba(60, 64, 67, 0.3), 0px 1px 3px 1px rgba(60, 64, 67, 0.15);\n",
              "      fill: #174EA6;\n",
              "    }\n",
              "\n",
              "    [theme=dark] .colab-df-convert {\n",
              "      background-color: #3B4455;\n",
              "      fill: #D2E3FC;\n",
              "    }\n",
              "\n",
              "    [theme=dark] .colab-df-convert:hover {\n",
              "      background-color: #434B5C;\n",
              "      box-shadow: 0px 1px 3px 1px rgba(0, 0, 0, 0.15);\n",
              "      filter: drop-shadow(0px 1px 2px rgba(0, 0, 0, 0.3));\n",
              "      fill: #FFFFFF;\n",
              "    }\n",
              "  </style>\n",
              "\n",
              "      <script>\n",
              "        const buttonEl =\n",
              "          document.querySelector('#df-fb37b8ef-ba11-453d-9e3e-8149982faaae button.colab-df-convert');\n",
              "        buttonEl.style.display =\n",
              "          google.colab.kernel.accessAllowed ? 'block' : 'none';\n",
              "\n",
              "        async function convertToInteractive(key) {\n",
              "          const element = document.querySelector('#df-fb37b8ef-ba11-453d-9e3e-8149982faaae');\n",
              "          const dataTable =\n",
              "            await google.colab.kernel.invokeFunction('convertToInteractive',\n",
              "                                                     [key], {});\n",
              "          if (!dataTable) return;\n",
              "\n",
              "          const docLinkHtml = 'Like what you see? Visit the ' +\n",
              "            '<a target=\"_blank\" href=https://colab.research.google.com/notebooks/data_table.ipynb>data table notebook</a>'\n",
              "            + ' to learn more about interactive tables.';\n",
              "          element.innerHTML = '';\n",
              "          dataTable['output_type'] = 'display_data';\n",
              "          await google.colab.output.renderOutput(dataTable, element);\n",
              "          const docLink = document.createElement('div');\n",
              "          docLink.innerHTML = docLinkHtml;\n",
              "          element.appendChild(docLink);\n",
              "        }\n",
              "      </script>\n",
              "    </div>\n",
              "  </div>\n",
              "  "
            ]
          },
          "metadata": {},
          "execution_count": 7
        }
      ]
    },
    {
      "cell_type": "code",
      "source": [
        "# Split into train/test\n",
        "x_train, y_train, x_test, y_test = train_test_split(x, y, test_size=0.2)"
      ],
      "metadata": {
        "id": "9Pbh_97aCH7G"
      },
      "execution_count": 8,
      "outputs": []
    },
    {
      "cell_type": "code",
      "source": [
        "# Train\n",
        "print(x_train.shape)\n",
        "print(x_test.shape) # Label\n",
        "\n",
        "# Test\n",
        "print(y_train.shape)\n",
        "print(y_test.shape) # Label"
      ],
      "metadata": {
        "colab": {
          "base_uri": "https://localhost:8080/"
        },
        "id": "OUfDxEzkTMA7",
        "outputId": "38d6ced9-680b-4019-9698-13c07559a3e4"
      },
      "execution_count": 9,
      "outputs": [
        {
          "output_type": "stream",
          "name": "stdout",
          "text": [
            "(120, 4)\n",
            "(120, 3)\n",
            "(30, 4)\n",
            "(30, 3)\n"
          ]
        }
      ]
    },
    {
      "cell_type": "code",
      "source": [
        "x_train = torch.Tensor(x_train).cuda()\n",
        "x_test = torch.Tensor(x_test).cuda()\n",
        "y_train = torch.Tensor(y_train).cuda()\n",
        "y_test = torch.Tensor(y_test).cuda()\n",
        "y_test = y_test.data.max(1, keepdim=True)[1]"
      ],
      "metadata": {
        "id": "OtsJouxMTkBN"
      },
      "execution_count": 10,
      "outputs": []
    },
    {
      "cell_type": "code",
      "source": [
        "class Net(nn.Module):\n",
        "    def __init__(self):\n",
        "        super(Net, self).__init__()\n",
        "        self.fc1 = nn.Linear(4, 256)\n",
        "        self.dropout1 = nn.Dropout(0.5)\n",
        "        self.fc2 = nn.Linear(256, 128)\n",
        "        self.dropout2 = nn.Dropout(0.5)\n",
        "        self.fc3 = nn.Linear(128, 3)\n",
        "\n",
        "    def forward(self, x):\n",
        "        x = self.fc1(x)\n",
        "        x = F.relu(x)\n",
        "        x = self.dropout1(x)\n",
        "        x = self.fc2(x)\n",
        "        x = F.relu(x)\n",
        "        x = self.dropout2(x)\n",
        "        x = self.fc3(x)\n",
        "        return x"
      ],
      "metadata": {
        "id": "qa6biePDCgK9"
      },
      "execution_count": 11,
      "outputs": []
    },
    {
      "cell_type": "code",
      "source": [
        "network = Net()\n",
        "network.cuda()\n",
        "optimizer = optim.Adam(network.parameters(), lr=learning_rate)"
      ],
      "metadata": {
        "id": "izxsjPSNCa8S"
      },
      "execution_count": 12,
      "outputs": []
    },
    {
      "cell_type": "code",
      "source": [
        "train_losses = []\n",
        "train_counter = []\n",
        "test_accuracy = []"
      ],
      "metadata": {
        "id": "0XFzhMfl2MYk"
      },
      "execution_count": 13,
      "outputs": []
    },
    {
      "cell_type": "code",
      "source": [
        "def train(epoch):\n",
        "  network.train()\n",
        "  optimizer.zero_grad()\n",
        "  pred = network(x_train)\n",
        "  loss = F.cross_entropy(pred, x_test)\n",
        "  loss.backward()\n",
        "  torch.nn.utils.clip_grad_norm_(network.parameters(), 5)\n",
        "  optimizer.step()\n",
        "\n",
        "  print('Train Epoch : {}, Loss : {:.6f}'.format(epoch, loss.item()))\n",
        "  train_losses.append(loss.item())\n",
        "  train_counter.append(epoch)"
      ],
      "metadata": {
        "id": "dUStdZKZElho"
      },
      "execution_count": 14,
      "outputs": []
    },
    {
      "cell_type": "code",
      "source": [
        "def test(epoch):\n",
        "  correct = 0\n",
        "  network.eval()\n",
        "  with torch.no_grad():\n",
        "    result = network(y_train)\n",
        "  result = result.data.max(1, keepdim=True)[1]\n",
        "  correct=torch.eq(result, y_test).sum().item()\n",
        "\n",
        "  print('Test Epoch : {}, Accuracy : [{}/{}] {:.1f}%'.format(epoch, correct ,len(y_test) ,100 * correct / len(y_test)))\n",
        "  test_accuracy.append(100 * correct / len(y_test))"
      ],
      "metadata": {
        "id": "KHjWfSgUJHG9"
      },
      "execution_count": 15,
      "outputs": []
    },
    {
      "cell_type": "code",
      "source": [
        "for epoch in range(epochs):\n",
        "  train(epoch)\n",
        "  test(epoch)"
      ],
      "metadata": {
        "colab": {
          "base_uri": "https://localhost:8080/"
        },
        "id": "tUXyqimZJLJY",
        "outputId": "e69aa685-d2ae-4f44-ba90-35159e449cc6"
      },
      "execution_count": 16,
      "outputs": [
        {
          "output_type": "stream",
          "name": "stdout",
          "text": [
            "Train Epoch : 0, Loss : 1.073453\n",
            "Test Epoch : 0, Accuracy : [23/30] 76.7%\n",
            "Train Epoch : 1, Loss : 1.011313\n",
            "Test Epoch : 1, Accuracy : [29/30] 96.7%\n",
            "Train Epoch : 2, Loss : 0.952839\n",
            "Test Epoch : 2, Accuracy : [29/30] 96.7%\n",
            "Train Epoch : 3, Loss : 0.885827\n",
            "Test Epoch : 3, Accuracy : [29/30] 96.7%\n",
            "Train Epoch : 4, Loss : 0.809885\n",
            "Test Epoch : 4, Accuracy : [28/30] 93.3%\n",
            "Train Epoch : 5, Loss : 0.741686\n",
            "Test Epoch : 5, Accuracy : [28/30] 93.3%\n",
            "Train Epoch : 6, Loss : 0.710969\n",
            "Test Epoch : 6, Accuracy : [28/30] 93.3%\n",
            "Train Epoch : 7, Loss : 0.660575\n",
            "Test Epoch : 7, Accuracy : [28/30] 93.3%\n",
            "Train Epoch : 8, Loss : 0.630176\n",
            "Test Epoch : 8, Accuracy : [28/30] 93.3%\n",
            "Train Epoch : 9, Loss : 0.589515\n",
            "Test Epoch : 9, Accuracy : [29/30] 96.7%\n",
            "Train Epoch : 10, Loss : 0.576343\n",
            "Test Epoch : 10, Accuracy : [29/30] 96.7%\n",
            "Train Epoch : 11, Loss : 0.519009\n",
            "Test Epoch : 11, Accuracy : [29/30] 96.7%\n",
            "Train Epoch : 12, Loss : 0.498948\n",
            "Test Epoch : 12, Accuracy : [29/30] 96.7%\n",
            "Train Epoch : 13, Loss : 0.456125\n",
            "Test Epoch : 13, Accuracy : [29/30] 96.7%\n",
            "Train Epoch : 14, Loss : 0.428531\n",
            "Test Epoch : 14, Accuracy : [29/30] 96.7%\n",
            "Train Epoch : 15, Loss : 0.436365\n",
            "Test Epoch : 15, Accuracy : [29/30] 96.7%\n",
            "Train Epoch : 16, Loss : 0.403106\n",
            "Test Epoch : 16, Accuracy : [29/30] 96.7%\n",
            "Train Epoch : 17, Loss : 0.386895\n",
            "Test Epoch : 17, Accuracy : [29/30] 96.7%\n",
            "Train Epoch : 18, Loss : 0.364437\n",
            "Test Epoch : 18, Accuracy : [29/30] 96.7%\n",
            "Train Epoch : 19, Loss : 0.361590\n",
            "Test Epoch : 19, Accuracy : [29/30] 96.7%\n",
            "Train Epoch : 20, Loss : 0.353857\n",
            "Test Epoch : 20, Accuracy : [29/30] 96.7%\n",
            "Train Epoch : 21, Loss : 0.323104\n",
            "Test Epoch : 21, Accuracy : [29/30] 96.7%\n",
            "Train Epoch : 22, Loss : 0.322760\n",
            "Test Epoch : 22, Accuracy : [29/30] 96.7%\n",
            "Train Epoch : 23, Loss : 0.313535\n",
            "Test Epoch : 23, Accuracy : [29/30] 96.7%\n",
            "Train Epoch : 24, Loss : 0.309526\n",
            "Test Epoch : 24, Accuracy : [29/30] 96.7%\n",
            "Train Epoch : 25, Loss : 0.355180\n",
            "Test Epoch : 25, Accuracy : [29/30] 96.7%\n",
            "Train Epoch : 26, Loss : 0.307775\n",
            "Test Epoch : 26, Accuracy : [29/30] 96.7%\n",
            "Train Epoch : 27, Loss : 0.300165\n",
            "Test Epoch : 27, Accuracy : [29/30] 96.7%\n",
            "Train Epoch : 28, Loss : 0.300892\n",
            "Test Epoch : 28, Accuracy : [29/30] 96.7%\n",
            "Train Epoch : 29, Loss : 0.238264\n",
            "Test Epoch : 29, Accuracy : [29/30] 96.7%\n",
            "Train Epoch : 30, Loss : 0.262275\n",
            "Test Epoch : 30, Accuracy : [29/30] 96.7%\n",
            "Train Epoch : 31, Loss : 0.228762\n",
            "Test Epoch : 31, Accuracy : [29/30] 96.7%\n",
            "Train Epoch : 32, Loss : 0.237622\n",
            "Test Epoch : 32, Accuracy : [29/30] 96.7%\n",
            "Train Epoch : 33, Loss : 0.219060\n",
            "Test Epoch : 33, Accuracy : [29/30] 96.7%\n",
            "Train Epoch : 34, Loss : 0.265603\n",
            "Test Epoch : 34, Accuracy : [29/30] 96.7%\n",
            "Train Epoch : 35, Loss : 0.255812\n",
            "Test Epoch : 35, Accuracy : [29/30] 96.7%\n",
            "Train Epoch : 36, Loss : 0.254325\n",
            "Test Epoch : 36, Accuracy : [29/30] 96.7%\n",
            "Train Epoch : 37, Loss : 0.192807\n",
            "Test Epoch : 37, Accuracy : [29/30] 96.7%\n",
            "Train Epoch : 38, Loss : 0.191457\n",
            "Test Epoch : 38, Accuracy : [29/30] 96.7%\n",
            "Train Epoch : 39, Loss : 0.214454\n",
            "Test Epoch : 39, Accuracy : [29/30] 96.7%\n",
            "Train Epoch : 40, Loss : 0.203609\n",
            "Test Epoch : 40, Accuracy : [30/30] 100.0%\n",
            "Train Epoch : 41, Loss : 0.207971\n",
            "Test Epoch : 41, Accuracy : [30/30] 100.0%\n",
            "Train Epoch : 42, Loss : 0.192561\n",
            "Test Epoch : 42, Accuracy : [30/30] 100.0%\n",
            "Train Epoch : 43, Loss : 0.182614\n",
            "Test Epoch : 43, Accuracy : [30/30] 100.0%\n",
            "Train Epoch : 44, Loss : 0.196143\n",
            "Test Epoch : 44, Accuracy : [30/30] 100.0%\n",
            "Train Epoch : 45, Loss : 0.167165\n",
            "Test Epoch : 45, Accuracy : [30/30] 100.0%\n",
            "Train Epoch : 46, Loss : 0.169628\n",
            "Test Epoch : 46, Accuracy : [30/30] 100.0%\n",
            "Train Epoch : 47, Loss : 0.193285\n",
            "Test Epoch : 47, Accuracy : [30/30] 100.0%\n",
            "Train Epoch : 48, Loss : 0.159275\n",
            "Test Epoch : 48, Accuracy : [30/30] 100.0%\n",
            "Train Epoch : 49, Loss : 0.185568\n",
            "Test Epoch : 49, Accuracy : [30/30] 100.0%\n",
            "Train Epoch : 50, Loss : 0.145066\n",
            "Test Epoch : 50, Accuracy : [30/30] 100.0%\n",
            "Train Epoch : 51, Loss : 0.187100\n",
            "Test Epoch : 51, Accuracy : [30/30] 100.0%\n",
            "Train Epoch : 52, Loss : 0.136091\n",
            "Test Epoch : 52, Accuracy : [30/30] 100.0%\n",
            "Train Epoch : 53, Loss : 0.167646\n",
            "Test Epoch : 53, Accuracy : [30/30] 100.0%\n",
            "Train Epoch : 54, Loss : 0.142666\n",
            "Test Epoch : 54, Accuracy : [30/30] 100.0%\n",
            "Train Epoch : 55, Loss : 0.132133\n",
            "Test Epoch : 55, Accuracy : [30/30] 100.0%\n",
            "Train Epoch : 56, Loss : 0.167541\n",
            "Test Epoch : 56, Accuracy : [30/30] 100.0%\n",
            "Train Epoch : 57, Loss : 0.163015\n",
            "Test Epoch : 57, Accuracy : [30/30] 100.0%\n",
            "Train Epoch : 58, Loss : 0.118838\n",
            "Test Epoch : 58, Accuracy : [30/30] 100.0%\n",
            "Train Epoch : 59, Loss : 0.111204\n",
            "Test Epoch : 59, Accuracy : [30/30] 100.0%\n",
            "Train Epoch : 60, Loss : 0.136756\n",
            "Test Epoch : 60, Accuracy : [30/30] 100.0%\n",
            "Train Epoch : 61, Loss : 0.139484\n",
            "Test Epoch : 61, Accuracy : [30/30] 100.0%\n",
            "Train Epoch : 62, Loss : 0.115954\n",
            "Test Epoch : 62, Accuracy : [30/30] 100.0%\n",
            "Train Epoch : 63, Loss : 0.170707\n",
            "Test Epoch : 63, Accuracy : [30/30] 100.0%\n",
            "Train Epoch : 64, Loss : 0.157476\n",
            "Test Epoch : 64, Accuracy : [30/30] 100.0%\n",
            "Train Epoch : 65, Loss : 0.109591\n",
            "Test Epoch : 65, Accuracy : [30/30] 100.0%\n",
            "Train Epoch : 66, Loss : 0.115931\n",
            "Test Epoch : 66, Accuracy : [30/30] 100.0%\n",
            "Train Epoch : 67, Loss : 0.118712\n",
            "Test Epoch : 67, Accuracy : [30/30] 100.0%\n",
            "Train Epoch : 68, Loss : 0.106364\n",
            "Test Epoch : 68, Accuracy : [30/30] 100.0%\n",
            "Train Epoch : 69, Loss : 0.105212\n",
            "Test Epoch : 69, Accuracy : [30/30] 100.0%\n",
            "Train Epoch : 70, Loss : 0.099351\n",
            "Test Epoch : 70, Accuracy : [30/30] 100.0%\n",
            "Train Epoch : 71, Loss : 0.151543\n",
            "Test Epoch : 71, Accuracy : [30/30] 100.0%\n",
            "Train Epoch : 72, Loss : 0.133870\n",
            "Test Epoch : 72, Accuracy : [30/30] 100.0%\n",
            "Train Epoch : 73, Loss : 0.134919\n",
            "Test Epoch : 73, Accuracy : [30/30] 100.0%\n",
            "Train Epoch : 74, Loss : 0.111200\n",
            "Test Epoch : 74, Accuracy : [30/30] 100.0%\n",
            "Train Epoch : 75, Loss : 0.111434\n",
            "Test Epoch : 75, Accuracy : [30/30] 100.0%\n",
            "Train Epoch : 76, Loss : 0.090083\n",
            "Test Epoch : 76, Accuracy : [30/30] 100.0%\n",
            "Train Epoch : 77, Loss : 0.118717\n",
            "Test Epoch : 77, Accuracy : [30/30] 100.0%\n",
            "Train Epoch : 78, Loss : 0.118889\n",
            "Test Epoch : 78, Accuracy : [30/30] 100.0%\n",
            "Train Epoch : 79, Loss : 0.105522\n",
            "Test Epoch : 79, Accuracy : [30/30] 100.0%\n",
            "Train Epoch : 80, Loss : 0.109783\n",
            "Test Epoch : 80, Accuracy : [30/30] 100.0%\n",
            "Train Epoch : 81, Loss : 0.116147\n",
            "Test Epoch : 81, Accuracy : [30/30] 100.0%\n",
            "Train Epoch : 82, Loss : 0.097240\n",
            "Test Epoch : 82, Accuracy : [30/30] 100.0%\n",
            "Train Epoch : 83, Loss : 0.114964\n",
            "Test Epoch : 83, Accuracy : [30/30] 100.0%\n",
            "Train Epoch : 84, Loss : 0.094564\n",
            "Test Epoch : 84, Accuracy : [30/30] 100.0%\n",
            "Train Epoch : 85, Loss : 0.133867\n",
            "Test Epoch : 85, Accuracy : [30/30] 100.0%\n",
            "Train Epoch : 86, Loss : 0.083666\n",
            "Test Epoch : 86, Accuracy : [30/30] 100.0%\n",
            "Train Epoch : 87, Loss : 0.111026\n",
            "Test Epoch : 87, Accuracy : [30/30] 100.0%\n",
            "Train Epoch : 88, Loss : 0.140269\n",
            "Test Epoch : 88, Accuracy : [30/30] 100.0%\n",
            "Train Epoch : 89, Loss : 0.108383\n",
            "Test Epoch : 89, Accuracy : [30/30] 100.0%\n",
            "Train Epoch : 90, Loss : 0.149408\n",
            "Test Epoch : 90, Accuracy : [30/30] 100.0%\n",
            "Train Epoch : 91, Loss : 0.121776\n",
            "Test Epoch : 91, Accuracy : [30/30] 100.0%\n",
            "Train Epoch : 92, Loss : 0.082489\n",
            "Test Epoch : 92, Accuracy : [30/30] 100.0%\n",
            "Train Epoch : 93, Loss : 0.104905\n",
            "Test Epoch : 93, Accuracy : [30/30] 100.0%\n",
            "Train Epoch : 94, Loss : 0.112600\n",
            "Test Epoch : 94, Accuracy : [30/30] 100.0%\n",
            "Train Epoch : 95, Loss : 0.114753\n",
            "Test Epoch : 95, Accuracy : [30/30] 100.0%\n",
            "Train Epoch : 96, Loss : 0.113744\n",
            "Test Epoch : 96, Accuracy : [30/30] 100.0%\n",
            "Train Epoch : 97, Loss : 0.088281\n",
            "Test Epoch : 97, Accuracy : [30/30] 100.0%\n",
            "Train Epoch : 98, Loss : 0.077931\n",
            "Test Epoch : 98, Accuracy : [30/30] 100.0%\n",
            "Train Epoch : 99, Loss : 0.127714\n",
            "Test Epoch : 99, Accuracy : [30/30] 100.0%\n"
          ]
        }
      ]
    },
    {
      "cell_type": "code",
      "source": [
        "import matplotlib.pyplot as plt\n",
        "\n",
        "fig = plt.figure()\n",
        "plt.plot(train_counter, train_losses, color='red')\n",
        "plt.legend(['Train Loss'], loc='upper right')\n",
        "plt.xlabel('Epoch')\n",
        "plt.ylabel('Loss')"
      ],
      "metadata": {
        "colab": {
          "base_uri": "https://localhost:8080/",
          "height": 296
        },
        "id": "ccLxQMATOq76",
        "outputId": "790dfdf0-390d-46ff-d066-6ed359c50d1e"
      },
      "execution_count": 17,
      "outputs": [
        {
          "output_type": "execute_result",
          "data": {
            "text/plain": [
              "Text(0, 0.5, 'Loss')"
            ]
          },
          "metadata": {},
          "execution_count": 17
        },
        {
          "output_type": "display_data",
          "data": {
            "text/plain": [
              "<Figure size 432x288 with 1 Axes>"
            ],
            "image/png": "[encoded data removed]"
          },
          "metadata": {
            "needs_background": "light"
          }
        }
      ]
    },
    {
      "cell_type": "code",
      "source": [
        "fig = plt.figure()\n",
        "plt.plot(train_counter, test_accuracy, color='blue')\n",
        "plt.legend(['Test Accuracy'], loc='lower right')\n",
        "plt.xlabel('Epoch')\n",
        "plt.ylabel('Accuracy')"
      ],
      "metadata": {
        "colab": {
          "base_uri": "https://localhost:8080/",
          "height": 296
        },
        "id": "xYmtg7SwJN9m",
        "outputId": "2bc44228-237d-45c6-fd37-d0e1b571440f"
      },
      "execution_count": 18,
      "outputs": [
        {
          "output_type": "execute_result",
          "data": {
            "text/plain": [
              "Text(0, 0.5, 'Accuracy')"
            ]
          },
          "metadata": {},
          "execution_count": 18
        },
        {
          "output_type": "display_data",
          "data": {
            "text/plain": [
              "<Figure size 432x288 with 1 Axes>"
            ],
            "image/png": "[encoded data removed]"
          },
          "metadata": {
            "needs_background": "light"
          }
        }
      ]
    }
  ]
}