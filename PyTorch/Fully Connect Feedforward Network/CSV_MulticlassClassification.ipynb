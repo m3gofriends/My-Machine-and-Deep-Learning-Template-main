{
  "nbformat": 4,
  "nbformat_minor": 0,
  "metadata": {
    "colab": {
      "provenance": []
    },
    "kernelspec": {
      "name": "python3",
      "display_name": "Python 3"
    },
    "language_info": {
      "name": "python"
    },
    "accelerator": "GPU",
    "gpuClass": "standard"
  },
  "cells": [
    {
      "cell_type": "code",
      "execution_count": 43,
      "metadata": {
        "id": "jehQ6J-qApBD"
      },
      "outputs": [],
      "source": [
        "import torch\n",
        "import torch.nn as nn\n",
        "import torch.nn.functional as F\n",
        "import torch.optim as optim\n",
        "\n",
        "import pandas as pd\n",
        "from scipy.stats import zscore\n",
        "from sklearn.model_selection import train_test_split"
      ]
    },
    {
      "cell_type": "code",
      "source": [
        "epochs = 100\n",
        "learning_rate = 0.001\n",
        "# Early Stopping parameters\n",
        "ES_patience = 20\n",
        "ES_counter = 0 \n",
        "best_epoch = 0\n",
        "best_correct = 0\n",
        "\n",
        "torch.backends.cudnn.enabled = True\n",
        "torch.backends.cudnn.benchmark = True"
      ],
      "metadata": {
        "id": "jgWUd3iWCjv5"
      },
      "execution_count": 44,
      "outputs": []
    },
    {
      "cell_type": "code",
      "source": [
        "df = pd.read_csv(\n",
        "    \"https://raw.githubusercontent.com/m3gofriends/My-Machine-and-Deep-Learning-Template-main/main/Data/CSV/iris.csv\", \n",
        "    na_values=['NA', '?'])"
      ],
      "metadata": {
        "id": "vauPm69-AxCW"
      },
      "execution_count": 45,
      "outputs": []
    },
    {
      "cell_type": "code",
      "source": [
        "df.head()"
      ],
      "metadata": {
        "colab": {
          "base_uri": "https://localhost:8080/",
          "height": 206
        },
        "id": "VuVwZj9vCEGJ",
        "outputId": "5ff7dc32-6f47-4cd7-886e-78e0172e4dc5"
      },
      "execution_count": 46,
      "outputs": [
        {
          "output_type": "execute_result",
          "data": {
            "text/plain": [
              "   sepal_l  sepal_w  petal_l  petal_w      species\n",
              "0      5.1      3.5      1.4      0.2  Iris-setosa\n",
              "1      4.9      3.0      1.4      0.2  Iris-setosa\n",
              "2      4.7      3.2      1.3      0.2  Iris-setosa\n",
              "3      4.6      3.1      1.5      0.2  Iris-setosa\n",
              "4      5.0      3.6      1.4      0.2  Iris-setosa"
            ],
            "text/html": [
              "\n",
              "  <div id=\"df-20a9f4bb-6109-432a-93db-2d2223b669df\">\n",
              "    <div class=\"colab-df-container\">\n",
              "      <div>\n",
              "<style scoped>\n",
              "    .dataframe tbody tr th:only-of-type {\n",
              "        vertical-align: middle;\n",
              "    }\n",
              "\n",
              "    .dataframe tbody tr th {\n",
              "        vertical-align: top;\n",
              "    }\n",
              "\n",
              "    .dataframe thead th {\n",
              "        text-align: right;\n",
              "    }\n",
              "</style>\n",
              "<table border=\"1\" class=\"dataframe\">\n",
              "  <thead>\n",
              "    <tr style=\"text-align: right;\">\n",
              "      <th></th>\n",
              "      <th>sepal_l</th>\n",
              "      <th>sepal_w</th>\n",
              "      <th>petal_l</th>\n",
              "      <th>petal_w</th>\n",
              "      <th>species</th>\n",
              "    </tr>\n",
              "  </thead>\n",
              "  <tbody>\n",
              "    <tr>\n",
              "      <th>0</th>\n",
              "      <td>5.1</td>\n",
              "      <td>3.5</td>\n",
              "      <td>1.4</td>\n",
              "      <td>0.2</td>\n",
              "      <td>Iris-setosa</td>\n",
              "    </tr>\n",
              "    <tr>\n",
              "      <th>1</th>\n",
              "      <td>4.9</td>\n",
              "      <td>3.0</td>\n",
              "      <td>1.4</td>\n",
              "      <td>0.2</td>\n",
              "      <td>Iris-setosa</td>\n",
              "    </tr>\n",
              "    <tr>\n",
              "      <th>2</th>\n",
              "      <td>4.7</td>\n",
              "      <td>3.2</td>\n",
              "      <td>1.3</td>\n",
              "      <td>0.2</td>\n",
              "      <td>Iris-setosa</td>\n",
              "    </tr>\n",
              "    <tr>\n",
              "      <th>3</th>\n",
              "      <td>4.6</td>\n",
              "      <td>3.1</td>\n",
              "      <td>1.5</td>\n",
              "      <td>0.2</td>\n",
              "      <td>Iris-setosa</td>\n",
              "    </tr>\n",
              "    <tr>\n",
              "      <th>4</th>\n",
              "      <td>5.0</td>\n",
              "      <td>3.6</td>\n",
              "      <td>1.4</td>\n",
              "      <td>0.2</td>\n",
              "      <td>Iris-setosa</td>\n",
              "    </tr>\n",
              "  </tbody>\n",
              "</table>\n",
              "</div>\n",
              "      <button class=\"colab-df-convert\" onclick=\"convertToInteractive('df-20a9f4bb-6109-432a-93db-2d2223b669df')\"\n",
              "              title=\"Convert this dataframe to an interactive table.\"\n",
              "              style=\"display:none;\">\n",
              "        \n",
              "  <svg xmlns=\"http://www.w3.org/2000/svg\" height=\"24px\"viewBox=\"0 0 24 24\"\n",
              "       width=\"24px\">\n",
              "    <path d=\"M0 0h24v24H0V0z\" fill=\"none\"/>\n",
              "    <path d=\"M18.56 5.44l.94 2.06.94-2.06 2.06-.94-2.06-.94-.94-2.06-.94 2.06-2.06.94zm-11 1L8.5 8.5l.94-2.06 2.06-.94-2.06-.94L8.5 2.5l-.94 2.06-2.06.94zm10 10l.94 2.06.94-2.06 2.06-.94-2.06-.94-.94-2.06-.94 2.06-2.06.94z\"/><path d=\"M17.41 7.96l-1.37-1.37c-.4-.4-.92-.59-1.43-.59-.52 0-1.04.2-1.43.59L10.3 9.45l-7.72 7.72c-.78.78-.78 2.05 0 2.83L4 21.41c.39.39.9.59 1.41.59.51 0 1.02-.2 1.41-.59l7.78-7.78 2.81-2.81c.8-.78.8-2.07 0-2.86zM5.41 20L4 18.59l7.72-7.72 1.47 1.35L5.41 20z\"/>\n",
              "  </svg>\n",
              "      </button>\n",
              "      \n",
              "  <style>\n",
              "    .colab-df-container {\n",
              "      display:flex;\n",
              "      flex-wrap:wrap;\n",
              "      gap: 12px;\n",
              "    }\n",
              "\n",
              "    .colab-df-convert {\n",
              "      background-color: #E8F0FE;\n",
              "      border: none;\n",
              "      border-radius: 50%;\n",
              "      cursor: pointer;\n",
              "      display: none;\n",
              "      fill: #1967D2;\n",
              "      height: 32px;\n",
              "      padding: 0 0 0 0;\n",
              "      width: 32px;\n",
              "    }\n",
              "\n",
              "    .colab-df-convert:hover {\n",
              "      background-color: #E2EBFA;\n",
              "      box-shadow: 0px 1px 2px rgba(60, 64, 67, 0.3), 0px 1px 3px 1px rgba(60, 64, 67, 0.15);\n",
              "      fill: #174EA6;\n",
              "    }\n",
              "\n",
              "    [theme=dark] .colab-df-convert {\n",
              "      background-color: #3B4455;\n",
              "      fill: #D2E3FC;\n",
              "    }\n",
              "\n",
              "    [theme=dark] .colab-df-convert:hover {\n",
              "      background-color: #434B5C;\n",
              "      box-shadow: 0px 1px 3px 1px rgba(0, 0, 0, 0.15);\n",
              "      filter: drop-shadow(0px 1px 2px rgba(0, 0, 0, 0.3));\n",
              "      fill: #FFFFFF;\n",
              "    }\n",
              "  </style>\n",
              "\n",
              "      <script>\n",
              "        const buttonEl =\n",
              "          document.querySelector('#df-20a9f4bb-6109-432a-93db-2d2223b669df button.colab-df-convert');\n",
              "        buttonEl.style.display =\n",
              "          google.colab.kernel.accessAllowed ? 'block' : 'none';\n",
              "\n",
              "        async function convertToInteractive(key) {\n",
              "          const element = document.querySelector('#df-20a9f4bb-6109-432a-93db-2d2223b669df');\n",
              "          const dataTable =\n",
              "            await google.colab.kernel.invokeFunction('convertToInteractive',\n",
              "                                                     [key], {});\n",
              "          if (!dataTable) return;\n",
              "\n",
              "          const docLinkHtml = 'Like what you see? Visit the ' +\n",
              "            '<a target=\"_blank\" href=https://colab.research.google.com/notebooks/data_table.ipynb>data table notebook</a>'\n",
              "            + ' to learn more about interactive tables.';\n",
              "          element.innerHTML = '';\n",
              "          dataTable['output_type'] = 'display_data';\n",
              "          await google.colab.output.renderOutput(dataTable, element);\n",
              "          const docLink = document.createElement('div');\n",
              "          docLink.innerHTML = docLinkHtml;\n",
              "          element.appendChild(docLink);\n",
              "        }\n",
              "      </script>\n",
              "    </div>\n",
              "  </div>\n",
              "  "
            ]
          },
          "metadata": {},
          "execution_count": 46
        }
      ]
    },
    {
      "cell_type": "code",
      "source": [
        "# Convert to numpy - Classification\n",
        "x_columns = df.columns.drop('species')\n",
        "for col in x_columns:\n",
        "  df[col] = zscore(df[col])\n",
        "\n",
        "x = df[x_columns].values\n",
        "dummies = pd.get_dummies(df['species']) # Classification\n",
        "species = dummies.columns\n",
        "y = dummies.values"
      ],
      "metadata": {
        "id": "_KYfhtcHCEXY"
      },
      "execution_count": 47,
      "outputs": []
    },
    {
      "cell_type": "code",
      "source": [
        "print(x.shape)\n",
        "print(y.shape)"
      ],
      "metadata": {
        "colab": {
          "base_uri": "https://localhost:8080/"
        },
        "id": "XrVaMWvfCFpd",
        "outputId": "80baacf4-df98-4630-d68c-e4b9102bfcfe"
      },
      "execution_count": 48,
      "outputs": [
        {
          "output_type": "stream",
          "name": "stdout",
          "text": [
            "(150, 4)\n",
            "(150, 3)\n"
          ]
        }
      ]
    },
    {
      "cell_type": "code",
      "source": [
        "df.head()"
      ],
      "metadata": {
        "colab": {
          "base_uri": "https://localhost:8080/",
          "height": 206
        },
        "id": "7JNI1PxOCHAL",
        "outputId": "cdb50416-a548-46c6-eda7-4fc381ee1448"
      },
      "execution_count": 49,
      "outputs": [
        {
          "output_type": "execute_result",
          "data": {
            "text/plain": [
              "    sepal_l   sepal_w   petal_l   petal_w      species\n",
              "0 -0.900681  1.019004 -1.340227 -1.315444  Iris-setosa\n",
              "1 -1.143017 -0.131979 -1.340227 -1.315444  Iris-setosa\n",
              "2 -1.385353  0.328414 -1.397064 -1.315444  Iris-setosa\n",
              "3 -1.506521  0.098217 -1.283389 -1.315444  Iris-setosa\n",
              "4 -1.021849  1.249201 -1.340227 -1.315444  Iris-setosa"
            ],
            "text/html": [
              "\n",
              "  <div id=\"df-cab33efd-d885-4e1a-a64b-6103d44fa88d\">\n",
              "    <div class=\"colab-df-container\">\n",
              "      <div>\n",
              "<style scoped>\n",
              "    .dataframe tbody tr th:only-of-type {\n",
              "        vertical-align: middle;\n",
              "    }\n",
              "\n",
              "    .dataframe tbody tr th {\n",
              "        vertical-align: top;\n",
              "    }\n",
              "\n",
              "    .dataframe thead th {\n",
              "        text-align: right;\n",
              "    }\n",
              "</style>\n",
              "<table border=\"1\" class=\"dataframe\">\n",
              "  <thead>\n",
              "    <tr style=\"text-align: right;\">\n",
              "      <th></th>\n",
              "      <th>sepal_l</th>\n",
              "      <th>sepal_w</th>\n",
              "      <th>petal_l</th>\n",
              "      <th>petal_w</th>\n",
              "      <th>species</th>\n",
              "    </tr>\n",
              "  </thead>\n",
              "  <tbody>\n",
              "    <tr>\n",
              "      <th>0</th>\n",
              "      <td>-0.900681</td>\n",
              "      <td>1.019004</td>\n",
              "      <td>-1.340227</td>\n",
              "      <td>-1.315444</td>\n",
              "      <td>Iris-setosa</td>\n",
              "    </tr>\n",
              "    <tr>\n",
              "      <th>1</th>\n",
              "      <td>-1.143017</td>\n",
              "      <td>-0.131979</td>\n",
              "      <td>-1.340227</td>\n",
              "      <td>-1.315444</td>\n",
              "      <td>Iris-setosa</td>\n",
              "    </tr>\n",
              "    <tr>\n",
              "      <th>2</th>\n",
              "      <td>-1.385353</td>\n",
              "      <td>0.328414</td>\n",
              "      <td>-1.397064</td>\n",
              "      <td>-1.315444</td>\n",
              "      <td>Iris-setosa</td>\n",
              "    </tr>\n",
              "    <tr>\n",
              "      <th>3</th>\n",
              "      <td>-1.506521</td>\n",
              "      <td>0.098217</td>\n",
              "      <td>-1.283389</td>\n",
              "      <td>-1.315444</td>\n",
              "      <td>Iris-setosa</td>\n",
              "    </tr>\n",
              "    <tr>\n",
              "      <th>4</th>\n",
              "      <td>-1.021849</td>\n",
              "      <td>1.249201</td>\n",
              "      <td>-1.340227</td>\n",
              "      <td>-1.315444</td>\n",
              "      <td>Iris-setosa</td>\n",
              "    </tr>\n",
              "  </tbody>\n",
              "</table>\n",
              "</div>\n",
              "      <button class=\"colab-df-convert\" onclick=\"convertToInteractive('df-cab33efd-d885-4e1a-a64b-6103d44fa88d')\"\n",
              "              title=\"Convert this dataframe to an interactive table.\"\n",
              "              style=\"display:none;\">\n",
              "        \n",
              "  <svg xmlns=\"http://www.w3.org/2000/svg\" height=\"24px\"viewBox=\"0 0 24 24\"\n",
              "       width=\"24px\">\n",
              "    <path d=\"M0 0h24v24H0V0z\" fill=\"none\"/>\n",
              "    <path d=\"M18.56 5.44l.94 2.06.94-2.06 2.06-.94-2.06-.94-.94-2.06-.94 2.06-2.06.94zm-11 1L8.5 8.5l.94-2.06 2.06-.94-2.06-.94L8.5 2.5l-.94 2.06-2.06.94zm10 10l.94 2.06.94-2.06 2.06-.94-2.06-.94-.94-2.06-.94 2.06-2.06.94z\"/><path d=\"M17.41 7.96l-1.37-1.37c-.4-.4-.92-.59-1.43-.59-.52 0-1.04.2-1.43.59L10.3 9.45l-7.72 7.72c-.78.78-.78 2.05 0 2.83L4 21.41c.39.39.9.59 1.41.59.51 0 1.02-.2 1.41-.59l7.78-7.78 2.81-2.81c.8-.78.8-2.07 0-2.86zM5.41 20L4 18.59l7.72-7.72 1.47 1.35L5.41 20z\"/>\n",
              "  </svg>\n",
              "      </button>\n",
              "      \n",
              "  <style>\n",
              "    .colab-df-container {\n",
              "      display:flex;\n",
              "      flex-wrap:wrap;\n",
              "      gap: 12px;\n",
              "    }\n",
              "\n",
              "    .colab-df-convert {\n",
              "      background-color: #E8F0FE;\n",
              "      border: none;\n",
              "      border-radius: 50%;\n",
              "      cursor: pointer;\n",
              "      display: none;\n",
              "      fill: #1967D2;\n",
              "      height: 32px;\n",
              "      padding: 0 0 0 0;\n",
              "      width: 32px;\n",
              "    }\n",
              "\n",
              "    .colab-df-convert:hover {\n",
              "      background-color: #E2EBFA;\n",
              "      box-shadow: 0px 1px 2px rgba(60, 64, 67, 0.3), 0px 1px 3px 1px rgba(60, 64, 67, 0.15);\n",
              "      fill: #174EA6;\n",
              "    }\n",
              "\n",
              "    [theme=dark] .colab-df-convert {\n",
              "      background-color: #3B4455;\n",
              "      fill: #D2E3FC;\n",
              "    }\n",
              "\n",
              "    [theme=dark] .colab-df-convert:hover {\n",
              "      background-color: #434B5C;\n",
              "      box-shadow: 0px 1px 3px 1px rgba(0, 0, 0, 0.15);\n",
              "      filter: drop-shadow(0px 1px 2px rgba(0, 0, 0, 0.3));\n",
              "      fill: #FFFFFF;\n",
              "    }\n",
              "  </style>\n",
              "\n",
              "      <script>\n",
              "        const buttonEl =\n",
              "          document.querySelector('#df-cab33efd-d885-4e1a-a64b-6103d44fa88d button.colab-df-convert');\n",
              "        buttonEl.style.display =\n",
              "          google.colab.kernel.accessAllowed ? 'block' : 'none';\n",
              "\n",
              "        async function convertToInteractive(key) {\n",
              "          const element = document.querySelector('#df-cab33efd-d885-4e1a-a64b-6103d44fa88d');\n",
              "          const dataTable =\n",
              "            await google.colab.kernel.invokeFunction('convertToInteractive',\n",
              "                                                     [key], {});\n",
              "          if (!dataTable) return;\n",
              "\n",
              "          const docLinkHtml = 'Like what you see? Visit the ' +\n",
              "            '<a target=\"_blank\" href=https://colab.research.google.com/notebooks/data_table.ipynb>data table notebook</a>'\n",
              "            + ' to learn more about interactive tables.';\n",
              "          element.innerHTML = '';\n",
              "          dataTable['output_type'] = 'display_data';\n",
              "          await google.colab.output.renderOutput(dataTable, element);\n",
              "          const docLink = document.createElement('div');\n",
              "          docLink.innerHTML = docLinkHtml;\n",
              "          element.appendChild(docLink);\n",
              "        }\n",
              "      </script>\n",
              "    </div>\n",
              "  </div>\n",
              "  "
            ]
          },
          "metadata": {},
          "execution_count": 49
        }
      ]
    },
    {
      "cell_type": "code",
      "source": [
        "# Split into train/test\n",
        "x_train, y_train, x_test, y_test = train_test_split(x, y, test_size=0.2)"
      ],
      "metadata": {
        "id": "9Pbh_97aCH7G"
      },
      "execution_count": 50,
      "outputs": []
    },
    {
      "cell_type": "code",
      "source": [
        "# Train\n",
        "print(x_train.shape)\n",
        "print(x_test.shape) # Label\n",
        "\n",
        "# Test\n",
        "print(y_train.shape)\n",
        "print(y_test.shape) # Label"
      ],
      "metadata": {
        "colab": {
          "base_uri": "https://localhost:8080/"
        },
        "id": "OUfDxEzkTMA7",
        "outputId": "156001ed-8d66-4bf9-82a0-177407a8f72d"
      },
      "execution_count": 51,
      "outputs": [
        {
          "output_type": "stream",
          "name": "stdout",
          "text": [
            "(120, 4)\n",
            "(120, 3)\n",
            "(30, 4)\n",
            "(30, 3)\n"
          ]
        }
      ]
    },
    {
      "cell_type": "code",
      "source": [
        "x_train = torch.Tensor(x_train).cuda()\n",
        "x_test = torch.Tensor(x_test).cuda()\n",
        "y_train = torch.Tensor(y_train).cuda()\n",
        "y_test = torch.Tensor(y_test).cuda()\n",
        "y_test = y_test.data.max(1, keepdim=True)[1]"
      ],
      "metadata": {
        "id": "OtsJouxMTkBN"
      },
      "execution_count": 52,
      "outputs": []
    },
    {
      "cell_type": "code",
      "source": [
        "class Net(nn.Module):\n",
        "    def __init__(self):\n",
        "        super(Net, self).__init__()\n",
        "        self.fc1 = nn.Linear(4, 256)\n",
        "        self.dropout1 = nn.Dropout(0.5)\n",
        "        self.fc2 = nn.Linear(256, 128)\n",
        "        self.dropout2 = nn.Dropout(0.5)\n",
        "        self.fc3 = nn.Linear(128, 3)\n",
        "\n",
        "    def forward(self, x):\n",
        "        x = self.fc1(x)\n",
        "        x = F.relu(x)\n",
        "        x = self.dropout1(x)\n",
        "        x = self.fc2(x)\n",
        "        x = F.relu(x)\n",
        "        x = self.dropout2(x)\n",
        "        x = self.fc3(x)\n",
        "        return x"
      ],
      "metadata": {
        "id": "qa6biePDCgK9"
      },
      "execution_count": 53,
      "outputs": []
    },
    {
      "cell_type": "code",
      "source": [
        "network = Net()\n",
        "network.cuda()\n",
        "optimizer = optim.Adam(network.parameters(), lr=learning_rate)"
      ],
      "metadata": {
        "id": "izxsjPSNCa8S"
      },
      "execution_count": 54,
      "outputs": []
    },
    {
      "cell_type": "code",
      "source": [
        "train_losses = []\n",
        "train_counter = []\n",
        "test_accuracy = []\n",
        "test_losses = []"
      ],
      "metadata": {
        "id": "0XFzhMfl2MYk"
      },
      "execution_count": 55,
      "outputs": []
    },
    {
      "cell_type": "code",
      "source": [
        "def train(epoch):\n",
        "  network.train()\n",
        "  optimizer.zero_grad()\n",
        "  pred = network(x_train)\n",
        "  loss = F.cross_entropy(pred, x_test)\n",
        "  loss.backward()\n",
        "  optimizer.step()\n",
        "\n",
        "  print('Train Epoch : {}, Loss : {:.6f}'.format(epoch, loss.item()))\n",
        "  train_losses.append(loss.item())\n",
        "  train_counter.append(epoch)"
      ],
      "metadata": {
        "id": "dUStdZKZElho"
      },
      "execution_count": 56,
      "outputs": []
    },
    {
      "cell_type": "code",
      "source": [
        "def test(epoch, best_epoch, best_correct, ES_counter):\n",
        "  correct = 0\n",
        "  network.eval()\n",
        "  with torch.no_grad():\n",
        "    pred = network(y_train)\n",
        "    pred = pred.data.max(1, keepdim=True)[1]\n",
        "    correct = torch.eq(pred, y_test).sum().item()\n",
        "\n",
        "  # Early Stopping\n",
        "  if best_correct < correct:\n",
        "    ES_counter, best_epoch, best_correct = 0, epoch, correct\n",
        "    # Save best model\n",
        "    torch.save(network.state_dict(), '/content/model.pth')\n",
        "    torch.save(optimizer.state_dict(), '/content/optimizer.pth')\n",
        "    print('---Save best model--- Best Epoch : {}, Best Accuracy : [{}/{}] {:.1f}%'.format(best_epoch, best_correct, len(y_test) ,100 * best_correct / len(y_test)))\n",
        "  else:\n",
        "    ES_counter += 1\n",
        "    if ES_counter == ES_patience:\n",
        "      print('---Early Stopping--- Best Epoch : {}, Best Accuracy : [{}/{}] {:.1f}%'.format(best_epoch, best_correct, len(y_test) ,100 * best_correct / len(y_test)))\n",
        "      test_accuracy.append(100 * correct / len(y_test))\n",
        "      return best_epoch, best_correct, ES_counter\n",
        "  # Early Stopping\n",
        "\n",
        "  print('Test Epoch : {}, Accuracy : [{}/{}] {:.1f}%'.format(epoch, correct ,len(y_test) ,100 * correct / len(y_test)))\n",
        "  test_accuracy.append(100 * correct / len(y_test))\n",
        "  return best_epoch, best_correct, ES_counter"
      ],
      "metadata": {
        "id": "KHjWfSgUJHG9"
      },
      "execution_count": 57,
      "outputs": []
    },
    {
      "cell_type": "code",
      "source": [
        "for epoch in range(1, epochs+1):\n",
        "  train(epoch)\n",
        "  best_epoch, best_correct, ES_counter = test(epoch, best_epoch, best_correct, ES_counter)\n",
        "  if ES_counter == ES_patience:\n",
        "    break"
      ],
      "metadata": {
        "colab": {
          "base_uri": "https://localhost:8080/"
        },
        "id": "tUXyqimZJLJY",
        "outputId": "3a703e66-e024-4b2d-dcdc-6dad1e755076"
      },
      "execution_count": 58,
      "outputs": [
        {
          "output_type": "stream",
          "name": "stdout",
          "text": [
            "Train Epoch : 1, Loss : 1.137479\n",
            "---Save best model--- Best Epoch : 1, Best Accuracy : [9/30] 30.0%\n",
            "Test Epoch : 1, Accuracy : [9/30] 30.0%\n",
            "Train Epoch : 2, Loss : 1.036685\n",
            "---Save best model--- Best Epoch : 2, Best Accuracy : [11/30] 36.7%\n",
            "Test Epoch : 2, Accuracy : [11/30] 36.7%\n",
            "Train Epoch : 3, Loss : 0.963397\n",
            "---Save best model--- Best Epoch : 3, Best Accuracy : [17/30] 56.7%\n",
            "Test Epoch : 3, Accuracy : [17/30] 56.7%\n",
            "Train Epoch : 4, Loss : 0.912433\n",
            "---Save best model--- Best Epoch : 4, Best Accuracy : [21/30] 70.0%\n",
            "Test Epoch : 4, Accuracy : [21/30] 70.0%\n",
            "Train Epoch : 5, Loss : 0.854449\n",
            "Test Epoch : 5, Accuracy : [21/30] 70.0%\n",
            "Train Epoch : 6, Loss : 0.771957\n",
            "Test Epoch : 6, Accuracy : [21/30] 70.0%\n",
            "Train Epoch : 7, Loss : 0.734078\n",
            "---Save best model--- Best Epoch : 7, Best Accuracy : [23/30] 76.7%\n",
            "Test Epoch : 7, Accuracy : [23/30] 76.7%\n",
            "Train Epoch : 8, Loss : 0.704973\n",
            "Test Epoch : 8, Accuracy : [23/30] 76.7%\n",
            "Train Epoch : 9, Loss : 0.659356\n",
            "---Save best model--- Best Epoch : 9, Best Accuracy : [24/30] 80.0%\n",
            "Test Epoch : 9, Accuracy : [24/30] 80.0%\n",
            "Train Epoch : 10, Loss : 0.605599\n",
            "Test Epoch : 10, Accuracy : [24/30] 80.0%\n",
            "Train Epoch : 11, Loss : 0.570911\n",
            "Test Epoch : 11, Accuracy : [24/30] 80.0%\n",
            "Train Epoch : 12, Loss : 0.539306\n",
            "Test Epoch : 12, Accuracy : [24/30] 80.0%\n",
            "Train Epoch : 13, Loss : 0.515307\n",
            "---Save best model--- Best Epoch : 13, Best Accuracy : [25/30] 83.3%\n",
            "Test Epoch : 13, Accuracy : [25/30] 83.3%\n",
            "Train Epoch : 14, Loss : 0.496415\n",
            "Test Epoch : 14, Accuracy : [25/30] 83.3%\n",
            "Train Epoch : 15, Loss : 0.465255\n",
            "Test Epoch : 15, Accuracy : [25/30] 83.3%\n",
            "Train Epoch : 16, Loss : 0.452392\n",
            "Test Epoch : 16, Accuracy : [25/30] 83.3%\n",
            "Train Epoch : 17, Loss : 0.442405\n",
            "Test Epoch : 17, Accuracy : [25/30] 83.3%\n",
            "Train Epoch : 18, Loss : 0.433746\n",
            "Test Epoch : 18, Accuracy : [25/30] 83.3%\n",
            "Train Epoch : 19, Loss : 0.414963\n",
            "Test Epoch : 19, Accuracy : [25/30] 83.3%\n",
            "Train Epoch : 20, Loss : 0.370085\n",
            "---Save best model--- Best Epoch : 20, Best Accuracy : [26/30] 86.7%\n",
            "Test Epoch : 20, Accuracy : [26/30] 86.7%\n",
            "Train Epoch : 21, Loss : 0.365246\n",
            "Test Epoch : 21, Accuracy : [26/30] 86.7%\n",
            "Train Epoch : 22, Loss : 0.360957\n",
            "Test Epoch : 22, Accuracy : [26/30] 86.7%\n",
            "Train Epoch : 23, Loss : 0.353188\n",
            "Test Epoch : 23, Accuracy : [25/30] 83.3%\n",
            "Train Epoch : 24, Loss : 0.347594\n",
            "Test Epoch : 24, Accuracy : [25/30] 83.3%\n",
            "Train Epoch : 25, Loss : 0.319270\n",
            "Test Epoch : 25, Accuracy : [26/30] 86.7%\n",
            "Train Epoch : 26, Loss : 0.288088\n",
            "Test Epoch : 26, Accuracy : [26/30] 86.7%\n",
            "Train Epoch : 27, Loss : 0.318628\n",
            "Test Epoch : 27, Accuracy : [26/30] 86.7%\n",
            "Train Epoch : 28, Loss : 0.299067\n",
            "Test Epoch : 28, Accuracy : [26/30] 86.7%\n",
            "Train Epoch : 29, Loss : 0.297026\n",
            "Test Epoch : 29, Accuracy : [26/30] 86.7%\n",
            "Train Epoch : 30, Loss : 0.324187\n",
            "Test Epoch : 30, Accuracy : [26/30] 86.7%\n",
            "Train Epoch : 31, Loss : 0.291120\n",
            "Test Epoch : 31, Accuracy : [26/30] 86.7%\n",
            "Train Epoch : 32, Loss : 0.282385\n",
            "---Save best model--- Best Epoch : 32, Best Accuracy : [27/30] 90.0%\n",
            "Test Epoch : 32, Accuracy : [27/30] 90.0%\n",
            "Train Epoch : 33, Loss : 0.302565\n",
            "Test Epoch : 33, Accuracy : [27/30] 90.0%\n",
            "Train Epoch : 34, Loss : 0.274917\n",
            "Test Epoch : 34, Accuracy : [27/30] 90.0%\n",
            "Train Epoch : 35, Loss : 0.236977\n",
            "Test Epoch : 35, Accuracy : [27/30] 90.0%\n",
            "Train Epoch : 36, Loss : 0.252764\n",
            "Test Epoch : 36, Accuracy : [27/30] 90.0%\n",
            "Train Epoch : 37, Loss : 0.250981\n",
            "Test Epoch : 37, Accuracy : [27/30] 90.0%\n",
            "Train Epoch : 38, Loss : 0.242561\n",
            "Test Epoch : 38, Accuracy : [27/30] 90.0%\n",
            "Train Epoch : 39, Loss : 0.227748\n",
            "---Save best model--- Best Epoch : 39, Best Accuracy : [28/30] 93.3%\n",
            "Test Epoch : 39, Accuracy : [28/30] 93.3%\n",
            "Train Epoch : 40, Loss : 0.255831\n",
            "---Save best model--- Best Epoch : 40, Best Accuracy : [29/30] 96.7%\n",
            "Test Epoch : 40, Accuracy : [29/30] 96.7%\n",
            "Train Epoch : 41, Loss : 0.215451\n",
            "Test Epoch : 41, Accuracy : [29/30] 96.7%\n",
            "Train Epoch : 42, Loss : 0.248433\n",
            "Test Epoch : 42, Accuracy : [29/30] 96.7%\n",
            "Train Epoch : 43, Loss : 0.232283\n",
            "Test Epoch : 43, Accuracy : [29/30] 96.7%\n",
            "Train Epoch : 44, Loss : 0.218857\n",
            "Test Epoch : 44, Accuracy : [29/30] 96.7%\n",
            "Train Epoch : 45, Loss : 0.190137\n",
            "---Save best model--- Best Epoch : 45, Best Accuracy : [30/30] 100.0%\n",
            "Test Epoch : 45, Accuracy : [30/30] 100.0%\n",
            "Train Epoch : 46, Loss : 0.207846\n",
            "Test Epoch : 46, Accuracy : [30/30] 100.0%\n",
            "Train Epoch : 47, Loss : 0.192230\n",
            "Test Epoch : 47, Accuracy : [30/30] 100.0%\n",
            "Train Epoch : 48, Loss : 0.193402\n",
            "Test Epoch : 48, Accuracy : [30/30] 100.0%\n",
            "Train Epoch : 49, Loss : 0.228374\n",
            "Test Epoch : 49, Accuracy : [30/30] 100.0%\n",
            "Train Epoch : 50, Loss : 0.191787\n",
            "Test Epoch : 50, Accuracy : [30/30] 100.0%\n",
            "Train Epoch : 51, Loss : 0.173637\n",
            "Test Epoch : 51, Accuracy : [30/30] 100.0%\n",
            "Train Epoch : 52, Loss : 0.195242\n",
            "Test Epoch : 52, Accuracy : [30/30] 100.0%\n",
            "Train Epoch : 53, Loss : 0.178447\n",
            "Test Epoch : 53, Accuracy : [30/30] 100.0%\n",
            "Train Epoch : 54, Loss : 0.159281\n",
            "Test Epoch : 54, Accuracy : [30/30] 100.0%\n",
            "Train Epoch : 55, Loss : 0.179291\n",
            "Test Epoch : 55, Accuracy : [30/30] 100.0%\n",
            "Train Epoch : 56, Loss : 0.191095\n",
            "Test Epoch : 56, Accuracy : [30/30] 100.0%\n",
            "Train Epoch : 57, Loss : 0.139381\n",
            "Test Epoch : 57, Accuracy : [30/30] 100.0%\n",
            "Train Epoch : 58, Loss : 0.167018\n",
            "Test Epoch : 58, Accuracy : [30/30] 100.0%\n",
            "Train Epoch : 59, Loss : 0.144595\n",
            "Test Epoch : 59, Accuracy : [30/30] 100.0%\n",
            "Train Epoch : 60, Loss : 0.146433\n",
            "Test Epoch : 60, Accuracy : [30/30] 100.0%\n",
            "Train Epoch : 61, Loss : 0.151671\n",
            "Test Epoch : 61, Accuracy : [30/30] 100.0%\n",
            "Train Epoch : 62, Loss : 0.146384\n",
            "Test Epoch : 62, Accuracy : [30/30] 100.0%\n",
            "Train Epoch : 63, Loss : 0.147847\n",
            "Test Epoch : 63, Accuracy : [30/30] 100.0%\n",
            "Train Epoch : 64, Loss : 0.140042\n",
            "Test Epoch : 64, Accuracy : [30/30] 100.0%\n",
            "Train Epoch : 65, Loss : 0.134283\n",
            "---Early Stopping--- Best Epoch : 45, Best Accuracy : [30/30] 100.0%\n"
          ]
        }
      ]
    },
    {
      "cell_type": "code",
      "source": [
        "load_network = Net().cuda()\n",
        "load_optimizer = optim.Adam(network.parameters(), lr=learning_rate)"
      ],
      "metadata": {
        "id": "DAFx35k1plh9"
      },
      "execution_count": 59,
      "outputs": []
    },
    {
      "cell_type": "code",
      "source": [
        "network_state_dict = torch.load('/content/model.pth')\n",
        "load_network.load_state_dict(network_state_dict)\n",
        "\n",
        "optimizer_state_dict = torch.load('/content/optimizer.pth')\n",
        "load_optimizer.load_state_dict(optimizer_state_dict)"
      ],
      "metadata": {
        "id": "4Fn8k78apt2C"
      },
      "execution_count": 60,
      "outputs": []
    },
    {
      "cell_type": "code",
      "source": [
        "from torchsummary import summary\n",
        "\n",
        "summary(load_network, (1, 4))"
      ],
      "metadata": {
        "colab": {
          "base_uri": "https://localhost:8080/"
        },
        "id": "Hw61oQKmp_aT",
        "outputId": "91fc350a-0d01-4f02-e33d-519b7b2b8eb4"
      },
      "execution_count": 61,
      "outputs": [
        {
          "output_type": "stream",
          "name": "stdout",
          "text": [
            "----------------------------------------------------------------\n",
            "        Layer (type)               Output Shape         Param #\n",
            "================================================================\n",
            "            Linear-1               [-1, 1, 256]           1,280\n",
            "           Dropout-2               [-1, 1, 256]               0\n",
            "            Linear-3               [-1, 1, 128]          32,896\n",
            "           Dropout-4               [-1, 1, 128]               0\n",
            "            Linear-5                 [-1, 1, 3]             387\n",
            "================================================================\n",
            "Total params: 34,563\n",
            "Trainable params: 34,563\n",
            "Non-trainable params: 0\n",
            "----------------------------------------------------------------\n",
            "Input size (MB): 0.00\n",
            "Forward/backward pass size (MB): 0.01\n",
            "Params size (MB): 0.13\n",
            "Estimated Total Size (MB): 0.14\n",
            "----------------------------------------------------------------\n"
          ]
        }
      ]
    },
    {
      "cell_type": "code",
      "source": [
        "import matplotlib.pyplot as plt\n",
        "\n",
        "fig = plt.figure()\n",
        "plt.plot(train_counter[:best_epoch], train_losses[:best_epoch], color='red')\n",
        "plt.legend(['Train Loss'], loc='upper right')\n",
        "plt.xlabel('Epoch')\n",
        "plt.ylabel('Loss')"
      ],
      "metadata": {
        "colab": {
          "base_uri": "https://localhost:8080/",
          "height": 296
        },
        "id": "ccLxQMATOq76",
        "outputId": "168f1cda-a802-4ae3-f129-94e95812e225"
      },
      "execution_count": 62,
      "outputs": [
        {
          "output_type": "execute_result",
          "data": {
            "text/plain": [
              "Text(0, 0.5, 'Loss')"
            ]
          },
          "metadata": {},
          "execution_count": 62
        },
        {
          "output_type": "display_data",
          "data": {
            "text/plain": [
              "<Figure size 432x288 with 1 Axes>"
            ],
            "image/png": "[encoded data removed]"
          },
          "metadata": {
            "needs_background": "light"
          }
        }
      ]
    },
    {
      "cell_type": "code",
      "source": [
        "fig = plt.figure()\n",
        "plt.plot(train_counter[:best_epoch], test_accuracy[:best_epoch], color='blue')\n",
        "plt.legend(['Test Accuracy'], loc='lower right')\n",
        "plt.xlabel('Epoch')\n",
        "plt.ylabel('Accuracy')"
      ],
      "metadata": {
        "colab": {
          "base_uri": "https://localhost:8080/",
          "height": 296
        },
        "id": "xYmtg7SwJN9m",
        "outputId": "48e8811d-312d-46d5-9dc0-f6254375c203"
      },
      "execution_count": 63,
      "outputs": [
        {
          "output_type": "execute_result",
          "data": {
            "text/plain": [
              "Text(0, 0.5, 'Accuracy')"
            ]
          },
          "metadata": {},
          "execution_count": 63
        },
        {
          "output_type": "display_data",
          "data": {
            "text/plain": [
              "<Figure size 432x288 with 1 Axes>"
            ],
            "image/png": "[encoded data removed]"
          },
          "metadata": {
            "needs_background": "light"
          }
        }
      ]
    }
  ]
}