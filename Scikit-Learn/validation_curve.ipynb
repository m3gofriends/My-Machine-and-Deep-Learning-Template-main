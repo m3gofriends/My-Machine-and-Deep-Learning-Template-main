{
  "nbformat": 4,
  "nbformat_minor": 0,
  "metadata": {
    "colab": {
      "provenance": []
    },
    "kernelspec": {
      "name": "python3",
      "display_name": "Python 3"
    },
    "language_info": {
      "name": "python"
    }
  },
  "cells": [
    {
      "cell_type": "code",
      "execution_count": 6,
      "metadata": {
        "id": "H2I1-9B1Rb4i"
      },
      "outputs": [],
      "source": [
        "from sklearn.model_selection import validation_curve\n",
        "from sklearn.datasets import load_digits\n",
        "from sklearn.svm import SVC\n",
        "import matplotlib.pyplot as plt\n",
        "import numpy as np"
      ]
    },
    {
      "cell_type": "code",
      "source": [
        "digits = load_digits()\n",
        "x = digits.data\n",
        "y = digits.target"
      ],
      "metadata": {
        "id": "t2ER68EqRvVZ"
      },
      "execution_count": 7,
      "outputs": []
    },
    {
      "cell_type": "code",
      "source": [
        "param_range = np.logspace(-6, -2.3, 10)\n",
        "train_loss, test_loss = validation_curve(\n",
        "        SVC(), x, y, param_name='gamma', param_range=param_range, cv=10,\n",
        "        scoring='neg_mean_squared_error')"
      ],
      "metadata": {
        "id": "b-3j72iOR6pu"
      },
      "execution_count": 8,
      "outputs": []
    },
    {
      "cell_type": "code",
      "source": [
        "train_loss_mean = -np.mean(train_loss, axis=1)\n",
        "test_loss_mean = -np.mean(test_loss, axis=1)"
      ],
      "metadata": {
        "id": "7mUz2LIERxbi"
      },
      "execution_count": 9,
      "outputs": []
    },
    {
      "cell_type": "code",
      "source": [
        "plt.plot(param_range, train_loss_mean, 'o-', color=\"r\", label=\"Training\")\n",
        "\n",
        "plt.plot(param_range, test_loss_mean, 'o-', color=\"g\", label=\"Cross-validation\")\n",
        "\n",
        "plt.xlabel(\"gamma\")\n",
        "plt.ylabel(\"Loss\")\n",
        "plt.legend(loc=\"best\")\n",
        "plt.show()"
      ],
      "metadata": {
        "colab": {
          "base_uri": "https://localhost:8080/",
          "height": 279
        },
        "id": "7vCFs5iKRzfy",
        "outputId": "eb67458d-8ebe-49e4-ba42-a19cb318ab83"
      },
      "execution_count": 10,
      "outputs": [
        {
          "output_type": "display_data",
          "data": {
            "text/plain": [
              "<Figure size 432x288 with 1 Axes>"
            ],
            "image/png": "[encoded data removed]"
          },
          "metadata": {
            "needs_background": "light"
          }
        }
      ]
    }
  ]
}