{
  "nbformat": 4,
  "nbformat_minor": 0,
  "metadata": {
    "colab": {
      "provenance": []
    },
    "kernelspec": {
      "name": "python3",
      "display_name": "Python 3"
    },
    "language_info": {
      "name": "python"
    }
  },
  "cells": [
    {
      "cell_type": "code",
      "execution_count": 12,
      "metadata": {
        "id": "1WcGZ6mW0F9r"
      },
      "outputs": [],
      "source": [
        "from sklearn import datasets\n",
        "from sklearn.linear_model import LinearRegression\n",
        "import matplotlib.pyplot as plt"
      ]
    },
    {
      "cell_type": "markdown",
      "source": [
        "#LinearRegression"
      ],
      "metadata": {
        "id": "c7Fp3CjW2PhK"
      }
    },
    {
      "cell_type": "code",
      "source": [
        "loaded_data = datasets.load_boston()"
      ],
      "metadata": {
        "colab": {
          "base_uri": "https://localhost:8080/"
        },
        "id": "TrYZX1JJ0cAH",
        "outputId": "cb147b33-1129-435c-826c-88177d45ce4d"
      },
      "execution_count": 13,
      "outputs": [
        {
          "output_type": "stream",
          "name": "stderr",
          "text": [
            "/usr/local/lib/python3.7/dist-packages/sklearn/utils/deprecation.py:87: FutureWarning: Function load_boston is deprecated; `load_boston` is deprecated in 1.0 and will be removed in 1.2.\n",
            "\n",
            "    The Boston housing prices dataset has an ethical problem. You can refer to\n",
            "    the documentation of this function for further details.\n",
            "\n",
            "    The scikit-learn maintainers therefore strongly discourage the use of this\n",
            "    dataset unless the purpose of the code is to study and educate about\n",
            "    ethical issues in data science and machine learning.\n",
            "\n",
            "    In this special case, you can fetch the dataset from the original\n",
            "    source::\n",
            "\n",
            "        import pandas as pd\n",
            "        import numpy as np\n",
            "\n",
            "\n",
            "        data_url = \"http://lib.stat.cmu.edu/datasets/boston\"\n",
            "        raw_df = pd.read_csv(data_url, sep=\"\\s+\", skiprows=22, header=None)\n",
            "        data = np.hstack([raw_df.values[::2, :], raw_df.values[1::2, :2]])\n",
            "        target = raw_df.values[1::2, 2]\n",
            "\n",
            "    Alternative datasets include the California housing dataset (i.e.\n",
            "    :func:`~sklearn.datasets.fetch_california_housing`) and the Ames housing\n",
            "    dataset. You can load the datasets as follows::\n",
            "\n",
            "        from sklearn.datasets import fetch_california_housing\n",
            "        housing = fetch_california_housing()\n",
            "\n",
            "    for the California housing dataset and::\n",
            "\n",
            "        from sklearn.datasets import fetch_openml\n",
            "        housing = fetch_openml(name=\"house_prices\", as_frame=True)\n",
            "\n",
            "    for the Ames housing dataset.\n",
            "    \n",
            "  warnings.warn(msg, category=FutureWarning)\n"
          ]
        }
      ]
    },
    {
      "cell_type": "code",
      "source": [
        "data_x = loaded_data.data\n",
        "data_y = loaded_data.target"
      ],
      "metadata": {
        "id": "98g2ZpvR0laK"
      },
      "execution_count": 14,
      "outputs": []
    },
    {
      "cell_type": "code",
      "source": [
        "model = LinearRegression()\n",
        "model.fit(data_x, data_y)\n",
        "\n",
        "print(f\"Real target:\\n{model.predict(data_x)}\\n\")\n",
        "print(f\"Predict target:\\n{data_y}\")"
      ],
      "metadata": {
        "colab": {
          "base_uri": "https://localhost:8080/"
        },
        "id": "Jijxuost0vUp",
        "outputId": "796d63c6-eec8-4448-a412-d99dbe7e3ecb"
      },
      "execution_count": 15,
      "outputs": [
        {
          "output_type": "stream",
          "name": "stdout",
          "text": [
            "Real target:\n",
            "[30.00384338 25.02556238 30.56759672 28.60703649 27.94352423 25.25628446\n",
            " 23.00180827 19.53598843 11.52363685 18.92026211 18.99949651 21.58679568\n",
            " 20.90652153 19.55290281 19.28348205 19.29748321 20.52750979 16.91140135\n",
            " 16.17801106 18.40613603 12.52385753 17.67103669 15.83288129 13.80628535\n",
            " 15.67833832 13.38668561 15.46397655 14.70847428 19.54737285 20.8764282\n",
            " 11.45511759 18.05923295  8.81105736 14.28275814 13.70675891 23.81463526\n",
            " 22.34193708 23.10891142 22.91502612 31.35762569 34.21510225 28.02056414\n",
            " 25.20386628 24.60979273 22.94149176 22.09669817 20.42320032 18.03655088\n",
            "  9.10655377 17.20607751 21.28152535 23.97222285 27.6558508  24.04901809\n",
            " 15.3618477  31.15264947 24.85686978 33.10919806 21.77537987 21.08493555\n",
            " 17.8725804  18.51110208 23.98742856 22.55408869 23.37308644 30.36148358\n",
            " 25.53056512 21.11338564 17.42153786 20.78483633 25.20148859 21.7426577\n",
            " 24.55744957 24.04295712 25.50499716 23.9669302  22.94545403 23.35699818\n",
            " 21.26198266 22.42817373 28.40576968 26.99486086 26.03576297 25.05873482\n",
            " 24.78456674 27.79049195 22.16853423 25.89276415 30.67461827 30.83110623\n",
            " 27.1190194  27.41266734 28.94122762 29.08105546 27.03977365 28.62459949\n",
            " 24.72744978 35.78159518 35.11454587 32.25102801 24.58022019 25.59413475\n",
            " 19.79013684 20.31167129 21.43482591 18.53994008 17.18755992 20.75049026\n",
            " 22.64829115 19.7720367  20.64965864 26.52586744 20.77323638 20.71548315\n",
            " 25.17208881 20.43025591 23.37724626 23.69043261 20.33578364 20.79180873\n",
            " 21.91632071 22.47107777 20.55738556 16.36661977 20.56099819 22.48178446\n",
            " 14.61706633 15.17876684 18.93868592 14.05573285 20.03527399 19.41013402\n",
            " 20.06191566 15.75807673 13.25645238 17.26277735 15.87841883 19.36163954\n",
            " 13.81483897 16.44881475 13.57141932  3.98885508 14.59495478 12.1488148\n",
            "  8.72822362 12.03585343 15.82082058  8.5149902   9.71844139 14.80451374\n",
            " 20.83858153 18.30101169 20.12282558 17.28601894 22.36600228 20.10375923\n",
            " 13.62125891 33.25982697 29.03017268 25.56752769 32.70827666 36.77467015\n",
            " 40.55765844 41.84728168 24.78867379 25.37889238 37.20347455 23.08748747\n",
            " 26.40273955 26.65382114 22.5551466  24.29082812 22.97657219 29.07194308\n",
            " 26.5219434  30.72209056 25.61669307 29.13740979 31.43571968 32.92231568\n",
            " 34.72440464 27.76552111 33.88787321 30.99238036 22.71820008 24.7664781\n",
            " 35.88497226 33.42476722 32.41199147 34.51509949 30.76109485 30.28934141\n",
            " 32.91918714 32.11260771 31.55871004 40.84555721 36.12770079 32.6692081\n",
            " 34.70469116 30.09345162 30.64393906 29.28719501 37.07148392 42.03193124\n",
            " 43.18949844 22.69034796 23.68284712 17.85447214 23.49428992 17.00587718\n",
            " 22.39251096 17.06042754 22.73892921 25.21942554 11.11916737 24.51049148\n",
            " 26.60334775 28.35518713 24.91525464 29.68652768 33.18419746 23.77456656\n",
            " 32.14051958 29.7458199  38.37102453 39.81461867 37.58605755 32.3995325\n",
            " 35.45665242 31.23411512 24.48449227 33.28837292 38.0481048  37.16328631\n",
            " 31.71383523 25.26705571 30.10010745 32.71987156 28.42717057 28.42940678\n",
            " 27.29375938 23.74262478 24.12007891 27.40208414 16.3285756  13.39891261\n",
            " 20.01638775 19.86184428 21.2883131  24.0798915  24.20633547 25.04215821\n",
            " 24.91964007 29.94563374 23.97228316 21.69580887 37.51109239 43.30239043\n",
            " 36.48361421 34.98988594 34.81211508 37.16631331 40.98928501 34.44634089\n",
            " 35.83397547 28.245743   31.22673593 40.8395575  39.31792393 25.70817905\n",
            " 22.30295533 27.20340972 28.51169472 35.47676598 36.10639164 33.79668274\n",
            " 35.61085858 34.83993382 30.35192656 35.30980701 38.79756966 34.33123186\n",
            " 40.33963075 44.67308339 31.59689086 27.3565923  20.10174154 27.04206674\n",
            " 27.2136458  26.91395839 33.43563311 34.40349633 31.8333982  25.81783237\n",
            " 24.42982348 28.45764337 27.36266999 19.53928758 29.11309844 31.91054611\n",
            " 30.77159449 28.94275871 28.88191022 32.79887232 33.20905456 30.76831792\n",
            " 35.56226857 32.70905124 28.64244237 23.58965827 18.54266897 26.87889843\n",
            " 23.28133979 25.54580246 25.48120057 20.53909901 17.61572573 18.37581686\n",
            " 24.29070277 21.32529039 24.88682244 24.86937282 22.86952447 19.45123791\n",
            " 25.11783401 24.66786913 23.68076177 19.34089616 21.17418105 24.25249073\n",
            " 21.59260894 19.98446605 23.33888    22.14060692 21.55509929 20.61872907\n",
            " 20.16097176 19.28490387 22.1667232  21.24965774 21.42939305 30.32788796\n",
            " 22.04734975 27.70647912 28.54794117 16.54501121 14.78359641 25.27380082\n",
            " 27.54205117 22.14837562 20.45944095 20.54605423 16.88063827 25.40253506\n",
            " 14.32486632 16.59488462 19.63704691 22.71806607 22.20218887 19.20548057\n",
            " 22.66616105 18.93192618 18.22846804 20.23150811 37.4944739  14.28190734\n",
            " 15.54286248 10.83162324 23.80072902 32.6440736  34.60684042 24.94331333\n",
            " 25.9998091   6.126325    0.77779806 25.30713064 17.74061065 20.23274414\n",
            " 15.83331301 16.83512587 14.36994825 18.47682833 13.4276828  13.06177512\n",
            "  3.27918116  8.06022171  6.12842196  5.6186481   6.4519857  14.20764735\n",
            " 17.21225183 17.29887265  9.89116643 20.22124193 17.94181175 20.30445783\n",
            " 19.29559075 16.33632779  6.55162319 10.89016778 11.88145871 17.81174507\n",
            " 18.26126587 12.97948781  7.37816361  8.21115861  8.06626193 19.98294786\n",
            " 13.70756369 19.85268454 15.22308298 16.96071981  1.71851807 11.80578387\n",
            " -4.28131071  9.58376737 13.36660811  6.89562363  6.14779852 14.60661794\n",
            " 19.6000267  18.12427476 18.52177132 13.1752861  14.62617624  9.92374976\n",
            " 16.34590647 14.07519426 14.25756243 13.04234787 18.15955693 18.69554354\n",
            " 21.527283   17.03141861 15.96090435 13.36141611 14.52079384  8.81976005\n",
            "  4.86751102 13.06591313 12.70609699 17.29558059 18.740485   18.05901029\n",
            " 11.51474683 11.97400359 17.68344618 18.12695239 17.5183465  17.22742507\n",
            " 16.52271631 19.41291095 18.58215236 22.48944791 15.28000133 15.82089335\n",
            " 12.68725581 12.8763379  17.18668531 18.51247609 19.04860533 20.17208927\n",
            " 19.7740732  22.42940768 20.31911854 17.88616253 14.37478523 16.94776851\n",
            " 16.98405762 18.58838397 20.16719441 22.97718032 22.45580726 25.57824627\n",
            " 16.39147632 16.1114628  20.534816   11.54272738 19.20496304 21.86276391\n",
            " 23.46878866 27.09887315 28.56994302 21.08398783 19.45516196 22.22225914\n",
            " 19.65591961 21.32536104 11.85583717  8.22386687  3.66399672 13.75908538\n",
            " 15.93118545 20.62662054 20.61249414 16.88541964 14.01320787 19.10854144\n",
            " 21.29805174 18.45498841 20.46870847 23.53334055 22.37571892 27.6274261\n",
            " 26.12796681 22.34421229]\n",
            "\n",
            "Predict target:\n",
            "[24.  21.6 34.7 33.4 36.2 28.7 22.9 27.1 16.5 18.9 15.  18.9 21.7 20.4\n",
            " 18.2 19.9 23.1 17.5 20.2 18.2 13.6 19.6 15.2 14.5 15.6 13.9 16.6 14.8\n",
            " 18.4 21.  12.7 14.5 13.2 13.1 13.5 18.9 20.  21.  24.7 30.8 34.9 26.6\n",
            " 25.3 24.7 21.2 19.3 20.  16.6 14.4 19.4 19.7 20.5 25.  23.4 18.9 35.4\n",
            " 24.7 31.6 23.3 19.6 18.7 16.  22.2 25.  33.  23.5 19.4 22.  17.4 20.9\n",
            " 24.2 21.7 22.8 23.4 24.1 21.4 20.  20.8 21.2 20.3 28.  23.9 24.8 22.9\n",
            " 23.9 26.6 22.5 22.2 23.6 28.7 22.6 22.  22.9 25.  20.6 28.4 21.4 38.7\n",
            " 43.8 33.2 27.5 26.5 18.6 19.3 20.1 19.5 19.5 20.4 19.8 19.4 21.7 22.8\n",
            " 18.8 18.7 18.5 18.3 21.2 19.2 20.4 19.3 22.  20.3 20.5 17.3 18.8 21.4\n",
            " 15.7 16.2 18.  14.3 19.2 19.6 23.  18.4 15.6 18.1 17.4 17.1 13.3 17.8\n",
            " 14.  14.4 13.4 15.6 11.8 13.8 15.6 14.6 17.8 15.4 21.5 19.6 15.3 19.4\n",
            " 17.  15.6 13.1 41.3 24.3 23.3 27.  50.  50.  50.  22.7 25.  50.  23.8\n",
            " 23.8 22.3 17.4 19.1 23.1 23.6 22.6 29.4 23.2 24.6 29.9 37.2 39.8 36.2\n",
            " 37.9 32.5 26.4 29.6 50.  32.  29.8 34.9 37.  30.5 36.4 31.1 29.1 50.\n",
            " 33.3 30.3 34.6 34.9 32.9 24.1 42.3 48.5 50.  22.6 24.4 22.5 24.4 20.\n",
            " 21.7 19.3 22.4 28.1 23.7 25.  23.3 28.7 21.5 23.  26.7 21.7 27.5 30.1\n",
            " 44.8 50.  37.6 31.6 46.7 31.5 24.3 31.7 41.7 48.3 29.  24.  25.1 31.5\n",
            " 23.7 23.3 22.  20.1 22.2 23.7 17.6 18.5 24.3 20.5 24.5 26.2 24.4 24.8\n",
            " 29.6 42.8 21.9 20.9 44.  50.  36.  30.1 33.8 43.1 48.8 31.  36.5 22.8\n",
            " 30.7 50.  43.5 20.7 21.1 25.2 24.4 35.2 32.4 32.  33.2 33.1 29.1 35.1\n",
            " 45.4 35.4 46.  50.  32.2 22.  20.1 23.2 22.3 24.8 28.5 37.3 27.9 23.9\n",
            " 21.7 28.6 27.1 20.3 22.5 29.  24.8 22.  26.4 33.1 36.1 28.4 33.4 28.2\n",
            " 22.8 20.3 16.1 22.1 19.4 21.6 23.8 16.2 17.8 19.8 23.1 21.  23.8 23.1\n",
            " 20.4 18.5 25.  24.6 23.  22.2 19.3 22.6 19.8 17.1 19.4 22.2 20.7 21.1\n",
            " 19.5 18.5 20.6 19.  18.7 32.7 16.5 23.9 31.2 17.5 17.2 23.1 24.5 26.6\n",
            " 22.9 24.1 18.6 30.1 18.2 20.6 17.8 21.7 22.7 22.6 25.  19.9 20.8 16.8\n",
            " 21.9 27.5 21.9 23.1 50.  50.  50.  50.  50.  13.8 13.8 15.  13.9 13.3\n",
            " 13.1 10.2 10.4 10.9 11.3 12.3  8.8  7.2 10.5  7.4 10.2 11.5 15.1 23.2\n",
            "  9.7 13.8 12.7 13.1 12.5  8.5  5.   6.3  5.6  7.2 12.1  8.3  8.5  5.\n",
            " 11.9 27.9 17.2 27.5 15.  17.2 17.9 16.3  7.   7.2  7.5 10.4  8.8  8.4\n",
            " 16.7 14.2 20.8 13.4 11.7  8.3 10.2 10.9 11.   9.5 14.5 14.1 16.1 14.3\n",
            " 11.7 13.4  9.6  8.7  8.4 12.8 10.5 17.1 18.4 15.4 10.8 11.8 14.9 12.6\n",
            " 14.1 13.  13.4 15.2 16.1 17.8 14.9 14.1 12.7 13.5 14.9 20.  16.4 17.7\n",
            " 19.5 20.2 21.4 19.9 19.  19.1 19.1 20.1 19.9 19.6 23.2 29.8 13.8 13.3\n",
            " 16.7 12.  14.6 21.4 23.  23.7 25.  21.8 20.6 21.2 19.1 20.6 15.2  7.\n",
            "  8.1 13.6 20.1 21.8 24.5 23.1 19.7 18.3 21.2 17.5 16.8 22.4 20.6 23.9\n",
            " 22.  11.9]\n"
          ]
        }
      ]
    },
    {
      "cell_type": "markdown",
      "source": [
        "#make_regression"
      ],
      "metadata": {
        "id": "BdFyBUEQ2fNn"
      }
    },
    {
      "cell_type": "code",
      "source": [
        "x,y = datasets.make_regression(n_samples=100, n_features=1, n_targets=1, noise=1)\n",
        "plt.scatter(x,y)\n",
        "plt.show()"
      ],
      "metadata": {
        "colab": {
          "base_uri": "https://localhost:8080/",
          "height": 265
        },
        "id": "t-yexGEX2juc",
        "outputId": "e8ea4ca7-a91f-4185-9c33-d93e2ba51553"
      },
      "execution_count": 17,
      "outputs": [
        {
          "output_type": "display_data",
          "data": {
            "text/plain": [
              "<Figure size 432x288 with 1 Axes>"
            ],
            "image/png": "[encoded data removed]"
          },
          "metadata": {
            "needs_background": "light"
          }
        }
      ]
    },
    {
      "cell_type": "code",
      "source": [
        "x,y = datasets.make_regression(n_samples=100, n_features=1, n_targets=1, noise=100)\n",
        "plt.scatter(x,y)\n",
        "plt.show()"
      ],
      "metadata": {
        "colab": {
          "base_uri": "https://localhost:8080/",
          "height": 265
        },
        "id": "e8nPzSN63FcX",
        "outputId": "1c8d75ed-c86b-4651-bb08-0d05dae70cb9"
      },
      "execution_count": 20,
      "outputs": [
        {
          "output_type": "display_data",
          "data": {
            "text/plain": [
              "<Figure size 432x288 with 1 Axes>"
            ],
            "image/png": "[encoded data removed]"
          },
          "metadata": {
            "needs_background": "light"
          }
        }
      ]
    }
  ]
}