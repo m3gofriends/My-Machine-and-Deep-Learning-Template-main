{
  "nbformat": 4,
  "nbformat_minor": 0,
  "metadata": {
    "colab": {
      "provenance": []
    },
    "kernelspec": {
      "name": "python3",
      "display_name": "Python 3"
    },
    "language_info": {
      "name": "python"
    }
  },
  "cells": [
    {
      "cell_type": "code",
      "execution_count": 22,
      "metadata": {
        "id": "7TufQ04Qo_em"
      },
      "outputs": [],
      "source": [
        "from sklearn.model_selection import learning_curve\n",
        "from sklearn.datasets import load_digits\n",
        "from sklearn.svm import SVC\n",
        "import matplotlib.pyplot as plt\n",
        "import numpy as np"
      ]
    },
    {
      "cell_type": "code",
      "source": [
        "digits = load_digits()\n",
        "x = digits.data\n",
        "y = digits.target"
      ],
      "metadata": {
        "id": "GZEJPEGvrTdA"
      },
      "execution_count": 23,
      "outputs": []
    },
    {
      "cell_type": "code",
      "source": [
        "train_sizes, train_loss, test_loss= learning_curve(\n",
        "        SVC(gamma=0.00001), x, y, cv=10, scoring='neg_mean_squared_error',\n",
        "        train_sizes=[0.1, 0.25, 0.5, 0.75, 1])"
      ],
      "metadata": {
        "id": "9uQa885mrAdO"
      },
      "execution_count": 24,
      "outputs": []
    },
    {
      "cell_type": "code",
      "source": [
        "train_loss_mean = -np.mean(train_loss, axis=1)\n",
        "test_loss_mean = -np.mean(test_loss, axis=1)"
      ],
      "metadata": {
        "id": "vIwSx5o8rXB-"
      },
      "execution_count": 25,
      "outputs": []
    },
    {
      "cell_type": "code",
      "source": [
        "plt.plot(train_sizes, train_loss_mean, 'o-', color=\"r\",\n",
        "             label=\"Training\")\n",
        "\n",
        "plt.plot(train_sizes, test_loss_mean, 'o-', color=\"g\",\n",
        "             label=\"Cross-validation\")\n",
        "\n",
        "plt.xlabel(\"Training examples\")\n",
        "plt.ylabel(\"Loss\")\n",
        "plt.legend(loc=\"best\")\n",
        "plt.show()"
      ],
      "metadata": {
        "colab": {
          "base_uri": "https://localhost:8080/",
          "height": 279
        },
        "id": "JZ1zK_v_rdIp",
        "outputId": "b9600fe7-daa7-4862-ff22-0686b26b2992"
      },
      "execution_count": 26,
      "outputs": [
        {
          "output_type": "display_data",
          "data": {
            "text/plain": [
              "<Figure size 432x288 with 1 Axes>"
            ],
            "image/png": "[encoded data removed]"
          },
          "metadata": {
            "needs_background": "light"
          }
        }
      ]
    }
  ]
}