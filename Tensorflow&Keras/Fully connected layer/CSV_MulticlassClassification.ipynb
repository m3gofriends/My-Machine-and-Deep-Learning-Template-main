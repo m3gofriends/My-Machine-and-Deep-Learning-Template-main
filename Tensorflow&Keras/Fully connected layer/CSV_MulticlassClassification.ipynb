{
  "nbformat": 4,
  "nbformat_minor": 0,
  "metadata": {
    "colab": {
      "provenance": []
    },
    "kernelspec": {
      "name": "python3",
      "display_name": "Python 3"
    },
    "language_info": {
      "name": "python"
    }
  },
  "cells": [
    {
      "cell_type": "code",
      "execution_count": 12,
      "metadata": {
        "colab": {
          "base_uri": "https://localhost:8080/"
        },
        "id": "Y0ROan_jgvFB",
        "outputId": "d2dc3e0d-c735-40f1-e27c-2e9f265c82f8"
      },
      "outputs": [
        {
          "output_type": "stream",
          "name": "stdout",
          "text": [
            "Colab only includes TensorFlow 2.x; %tensorflow_version has no effect.\n",
            "Note: using Google CoLab\n"
          ]
        }
      ],
      "source": [
        "try:\n",
        "    %tensorflow_version 2.x\n",
        "    COLAB = True\n",
        "    print(\"Note: using Google CoLab\")\n",
        "except:\n",
        "    print(\"Note: not using Google CoLab\")\n",
        "    COLAB = False"
      ]
    },
    {
      "cell_type": "code",
      "source": [
        "import pandas as pd\n",
        "import io\n",
        "import requests\n",
        "import numpy as np\n",
        "from sklearn import metrics\n",
        "from tensorflow.keras.models import Sequential\n",
        "from tensorflow.keras.layers import Dense, Activation\n",
        "from tensorflow.keras.callbacks import EarlyStopping"
      ],
      "metadata": {
        "id": "qHsu9fMJhf1Z"
      },
      "execution_count": 13,
      "outputs": []
    },
    {
      "cell_type": "code",
      "source": [
        "df = pd.read_csv(\n",
        "    \"https://raw.githubusercontent.com/m3gofriends/My-Machine-and-Deep-Learning-Template-main/main/TrainingSet/iris.csv?token=GHSAT0AAAAAABYGU6UF4HT32E6HQ2BMRJJGYYVNHTQ\", \n",
        "    na_values=['NA', '?'])"
      ],
      "metadata": {
        "id": "SB7ZaNTuhjQR"
      },
      "execution_count": 14,
      "outputs": []
    },
    {
      "cell_type": "code",
      "source": [
        "df.head()"
      ],
      "metadata": {
        "colab": {
          "base_uri": "https://localhost:8080/",
          "height": 206
        },
        "id": "jkPogO9shr4S",
        "outputId": "e185618d-317e-42f2-cb06-c7232129e784"
      },
      "execution_count": 15,
      "outputs": [
        {
          "output_type": "execute_result",
          "data": {
            "text/plain": [
              "   sepal_l  sepal_w  petal_l  petal_w      species\n",
              "0      5.1      3.5      1.4      0.2  Iris-setosa\n",
              "1      4.9      3.0      1.4      0.2  Iris-setosa\n",
              "2      4.7      3.2      1.3      0.2  Iris-setosa\n",
              "3      4.6      3.1      1.5      0.2  Iris-setosa\n",
              "4      5.0      3.6      1.4      0.2  Iris-setosa"
            ],
            "text/html": [
              "\n",
              "  <div id=\"df-122a641b-4049-421a-87c5-f05704d788e8\">\n",
              "    <div class=\"colab-df-container\">\n",
              "      <div>\n",
              "<style scoped>\n",
              "    .dataframe tbody tr th:only-of-type {\n",
              "        vertical-align: middle;\n",
              "    }\n",
              "\n",
              "    .dataframe tbody tr th {\n",
              "        vertical-align: top;\n",
              "    }\n",
              "\n",
              "    .dataframe thead th {\n",
              "        text-align: right;\n",
              "    }\n",
              "</style>\n",
              "<table border=\"1\" class=\"dataframe\">\n",
              "  <thead>\n",
              "    <tr style=\"text-align: right;\">\n",
              "      <th></th>\n",
              "      <th>sepal_l</th>\n",
              "      <th>sepal_w</th>\n",
              "      <th>petal_l</th>\n",
              "      <th>petal_w</th>\n",
              "      <th>species</th>\n",
              "    </tr>\n",
              "  </thead>\n",
              "  <tbody>\n",
              "    <tr>\n",
              "      <th>0</th>\n",
              "      <td>5.1</td>\n",
              "      <td>3.5</td>\n",
              "      <td>1.4</td>\n",
              "      <td>0.2</td>\n",
              "      <td>Iris-setosa</td>\n",
              "    </tr>\n",
              "    <tr>\n",
              "      <th>1</th>\n",
              "      <td>4.9</td>\n",
              "      <td>3.0</td>\n",
              "      <td>1.4</td>\n",
              "      <td>0.2</td>\n",
              "      <td>Iris-setosa</td>\n",
              "    </tr>\n",
              "    <tr>\n",
              "      <th>2</th>\n",
              "      <td>4.7</td>\n",
              "      <td>3.2</td>\n",
              "      <td>1.3</td>\n",
              "      <td>0.2</td>\n",
              "      <td>Iris-setosa</td>\n",
              "    </tr>\n",
              "    <tr>\n",
              "      <th>3</th>\n",
              "      <td>4.6</td>\n",
              "      <td>3.1</td>\n",
              "      <td>1.5</td>\n",
              "      <td>0.2</td>\n",
              "      <td>Iris-setosa</td>\n",
              "    </tr>\n",
              "    <tr>\n",
              "      <th>4</th>\n",
              "      <td>5.0</td>\n",
              "      <td>3.6</td>\n",
              "      <td>1.4</td>\n",
              "      <td>0.2</td>\n",
              "      <td>Iris-setosa</td>\n",
              "    </tr>\n",
              "  </tbody>\n",
              "</table>\n",
              "</div>\n",
              "      <button class=\"colab-df-convert\" onclick=\"convertToInteractive('df-122a641b-4049-421a-87c5-f05704d788e8')\"\n",
              "              title=\"Convert this dataframe to an interactive table.\"\n",
              "              style=\"display:none;\">\n",
              "        \n",
              "  <svg xmlns=\"http://www.w3.org/2000/svg\" height=\"24px\"viewBox=\"0 0 24 24\"\n",
              "       width=\"24px\">\n",
              "    <path d=\"M0 0h24v24H0V0z\" fill=\"none\"/>\n",
              "    <path d=\"M18.56 5.44l.94 2.06.94-2.06 2.06-.94-2.06-.94-.94-2.06-.94 2.06-2.06.94zm-11 1L8.5 8.5l.94-2.06 2.06-.94-2.06-.94L8.5 2.5l-.94 2.06-2.06.94zm10 10l.94 2.06.94-2.06 2.06-.94-2.06-.94-.94-2.06-.94 2.06-2.06.94z\"/><path d=\"M17.41 7.96l-1.37-1.37c-.4-.4-.92-.59-1.43-.59-.52 0-1.04.2-1.43.59L10.3 9.45l-7.72 7.72c-.78.78-.78 2.05 0 2.83L4 21.41c.39.39.9.59 1.41.59.51 0 1.02-.2 1.41-.59l7.78-7.78 2.81-2.81c.8-.78.8-2.07 0-2.86zM5.41 20L4 18.59l7.72-7.72 1.47 1.35L5.41 20z\"/>\n",
              "  </svg>\n",
              "      </button>\n",
              "      \n",
              "  <style>\n",
              "    .colab-df-container {\n",
              "      display:flex;\n",
              "      flex-wrap:wrap;\n",
              "      gap: 12px;\n",
              "    }\n",
              "\n",
              "    .colab-df-convert {\n",
              "      background-color: #E8F0FE;\n",
              "      border: none;\n",
              "      border-radius: 50%;\n",
              "      cursor: pointer;\n",
              "      display: none;\n",
              "      fill: #1967D2;\n",
              "      height: 32px;\n",
              "      padding: 0 0 0 0;\n",
              "      width: 32px;\n",
              "    }\n",
              "\n",
              "    .colab-df-convert:hover {\n",
              "      background-color: #E2EBFA;\n",
              "      box-shadow: 0px 1px 2px rgba(60, 64, 67, 0.3), 0px 1px 3px 1px rgba(60, 64, 67, 0.15);\n",
              "      fill: #174EA6;\n",
              "    }\n",
              "\n",
              "    [theme=dark] .colab-df-convert {\n",
              "      background-color: #3B4455;\n",
              "      fill: #D2E3FC;\n",
              "    }\n",
              "\n",
              "    [theme=dark] .colab-df-convert:hover {\n",
              "      background-color: #434B5C;\n",
              "      box-shadow: 0px 1px 3px 1px rgba(0, 0, 0, 0.15);\n",
              "      filter: drop-shadow(0px 1px 2px rgba(0, 0, 0, 0.3));\n",
              "      fill: #FFFFFF;\n",
              "    }\n",
              "  </style>\n",
              "\n",
              "      <script>\n",
              "        const buttonEl =\n",
              "          document.querySelector('#df-122a641b-4049-421a-87c5-f05704d788e8 button.colab-df-convert');\n",
              "        buttonEl.style.display =\n",
              "          google.colab.kernel.accessAllowed ? 'block' : 'none';\n",
              "\n",
              "        async function convertToInteractive(key) {\n",
              "          const element = document.querySelector('#df-122a641b-4049-421a-87c5-f05704d788e8');\n",
              "          const dataTable =\n",
              "            await google.colab.kernel.invokeFunction('convertToInteractive',\n",
              "                                                     [key], {});\n",
              "          if (!dataTable) return;\n",
              "\n",
              "          const docLinkHtml = 'Like what you see? Visit the ' +\n",
              "            '<a target=\"_blank\" href=https://colab.research.google.com/notebooks/data_table.ipynb>data table notebook</a>'\n",
              "            + ' to learn more about interactive tables.';\n",
              "          element.innerHTML = '';\n",
              "          dataTable['output_type'] = 'display_data';\n",
              "          await google.colab.output.renderOutput(dataTable, element);\n",
              "          const docLink = document.createElement('div');\n",
              "          docLink.innerHTML = docLinkHtml;\n",
              "          element.appendChild(docLink);\n",
              "        }\n",
              "      </script>\n",
              "    </div>\n",
              "  </div>\n",
              "  "
            ]
          },
          "metadata": {},
          "execution_count": 15
        }
      ]
    },
    {
      "cell_type": "code",
      "source": [
        "# Convert to numpy - Classification\n",
        "x = df[['sepal_l', 'sepal_w', 'petal_l', 'petal_w']].values\n",
        "dummies = pd.get_dummies(df['species']) # Classification\n",
        "species = dummies.columns\n",
        "y = dummies.values"
      ],
      "metadata": {
        "id": "W37f4LcNhnSy"
      },
      "execution_count": 16,
      "outputs": []
    },
    {
      "cell_type": "code",
      "source": [
        "y.shape"
      ],
      "metadata": {
        "colab": {
          "base_uri": "https://localhost:8080/"
        },
        "id": "mtgjQ-Qah8TL",
        "outputId": "c3fe9beb-4bfc-469b-af99-f73dadaf0542"
      },
      "execution_count": 17,
      "outputs": [
        {
          "output_type": "execute_result",
          "data": {
            "text/plain": [
              "(150, 3)"
            ]
          },
          "metadata": {},
          "execution_count": 17
        }
      ]
    },
    {
      "cell_type": "code",
      "source": [
        "# Build neural network\n",
        "model = Sequential()\n",
        "model.add(Dense(50, input_dim=x.shape[1], activation='relu')) # Hidden 1\n",
        "model.add(Dense(25, activation='relu')) # Hidden 2\n",
        "model.add(Dense(y.shape[1],activation='softmax')) # Output\n",
        "\n",
        "model.compile(loss='categorical_crossentropy', optimizer='adam')\n",
        "model.fit(x,y,verbose=2,epochs=100)"
      ],
      "metadata": {
        "colab": {
          "base_uri": "https://localhost:8080/"
        },
        "id": "CeDuBocfhprJ",
        "outputId": "0b9908b9-7fe1-41fb-9e0a-e9b8e74b20de"
      },
      "execution_count": 18,
      "outputs": [
        {
          "output_type": "stream",
          "name": "stdout",
          "text": [
            "Epoch 1/100\n",
            "5/5 - 1s - loss: 1.0490 - 648ms/epoch - 130ms/step\n",
            "Epoch 2/100\n",
            "5/5 - 0s - loss: 0.9462 - 15ms/epoch - 3ms/step\n",
            "Epoch 3/100\n",
            "5/5 - 0s - loss: 0.8612 - 14ms/epoch - 3ms/step\n",
            "Epoch 4/100\n",
            "5/5 - 0s - loss: 0.8014 - 19ms/epoch - 4ms/step\n",
            "Epoch 5/100\n",
            "5/5 - 0s - loss: 0.7493 - 14ms/epoch - 3ms/step\n",
            "Epoch 6/100\n",
            "5/5 - 0s - loss: 0.7017 - 14ms/epoch - 3ms/step\n",
            "Epoch 7/100\n",
            "5/5 - 0s - loss: 0.6579 - 15ms/epoch - 3ms/step\n",
            "Epoch 8/100\n",
            "5/5 - 0s - loss: 0.6184 - 15ms/epoch - 3ms/step\n",
            "Epoch 9/100\n",
            "5/5 - 0s - loss: 0.5816 - 21ms/epoch - 4ms/step\n",
            "Epoch 10/100\n",
            "5/5 - 0s - loss: 0.5492 - 18ms/epoch - 4ms/step\n",
            "Epoch 11/100\n",
            "5/5 - 0s - loss: 0.5189 - 14ms/epoch - 3ms/step\n",
            "Epoch 12/100\n",
            "5/5 - 0s - loss: 0.4894 - 14ms/epoch - 3ms/step\n",
            "Epoch 13/100\n",
            "5/5 - 0s - loss: 0.4654 - 16ms/epoch - 3ms/step\n",
            "Epoch 14/100\n",
            "5/5 - 0s - loss: 0.4461 - 12ms/epoch - 2ms/step\n",
            "Epoch 15/100\n",
            "5/5 - 0s - loss: 0.4265 - 12ms/epoch - 2ms/step\n",
            "Epoch 16/100\n",
            "5/5 - 0s - loss: 0.4093 - 15ms/epoch - 3ms/step\n",
            "Epoch 17/100\n",
            "5/5 - 0s - loss: 0.3921 - 15ms/epoch - 3ms/step\n",
            "Epoch 18/100\n",
            "5/5 - 0s - loss: 0.3797 - 15ms/epoch - 3ms/step\n",
            "Epoch 19/100\n",
            "5/5 - 0s - loss: 0.3665 - 16ms/epoch - 3ms/step\n",
            "Epoch 20/100\n",
            "5/5 - 0s - loss: 0.3532 - 16ms/epoch - 3ms/step\n",
            "Epoch 21/100\n",
            "5/5 - 0s - loss: 0.3416 - 13ms/epoch - 3ms/step\n",
            "Epoch 22/100\n",
            "5/5 - 0s - loss: 0.3308 - 16ms/epoch - 3ms/step\n",
            "Epoch 23/100\n",
            "5/5 - 0s - loss: 0.3216 - 15ms/epoch - 3ms/step\n",
            "Epoch 24/100\n",
            "5/5 - 0s - loss: 0.3096 - 13ms/epoch - 3ms/step\n",
            "Epoch 25/100\n",
            "5/5 - 0s - loss: 0.2996 - 15ms/epoch - 3ms/step\n",
            "Epoch 26/100\n",
            "5/5 - 0s - loss: 0.2898 - 13ms/epoch - 3ms/step\n",
            "Epoch 27/100\n",
            "5/5 - 0s - loss: 0.2787 - 16ms/epoch - 3ms/step\n",
            "Epoch 28/100\n",
            "5/5 - 0s - loss: 0.2706 - 15ms/epoch - 3ms/step\n",
            "Epoch 29/100\n",
            "5/5 - 0s - loss: 0.2599 - 16ms/epoch - 3ms/step\n",
            "Epoch 30/100\n",
            "5/5 - 0s - loss: 0.2535 - 15ms/epoch - 3ms/step\n",
            "Epoch 31/100\n",
            "5/5 - 0s - loss: 0.2422 - 15ms/epoch - 3ms/step\n",
            "Epoch 32/100\n",
            "5/5 - 0s - loss: 0.2345 - 15ms/epoch - 3ms/step\n",
            "Epoch 33/100\n",
            "5/5 - 0s - loss: 0.2278 - 16ms/epoch - 3ms/step\n",
            "Epoch 34/100\n",
            "5/5 - 0s - loss: 0.2192 - 15ms/epoch - 3ms/step\n",
            "Epoch 35/100\n",
            "5/5 - 0s - loss: 0.2112 - 15ms/epoch - 3ms/step\n",
            "Epoch 36/100\n",
            "5/5 - 0s - loss: 0.2048 - 18ms/epoch - 4ms/step\n",
            "Epoch 37/100\n",
            "5/5 - 0s - loss: 0.1973 - 15ms/epoch - 3ms/step\n",
            "Epoch 38/100\n",
            "5/5 - 0s - loss: 0.1927 - 16ms/epoch - 3ms/step\n",
            "Epoch 39/100\n",
            "5/5 - 0s - loss: 0.1858 - 13ms/epoch - 3ms/step\n",
            "Epoch 40/100\n",
            "5/5 - 0s - loss: 0.1812 - 17ms/epoch - 3ms/step\n",
            "Epoch 41/100\n",
            "5/5 - 0s - loss: 0.1734 - 16ms/epoch - 3ms/step\n",
            "Epoch 42/100\n",
            "5/5 - 0s - loss: 0.1697 - 22ms/epoch - 4ms/step\n",
            "Epoch 43/100\n",
            "5/5 - 0s - loss: 0.1670 - 17ms/epoch - 3ms/step\n",
            "Epoch 44/100\n",
            "5/5 - 0s - loss: 0.1598 - 17ms/epoch - 3ms/step\n",
            "Epoch 45/100\n",
            "5/5 - 0s - loss: 0.1570 - 14ms/epoch - 3ms/step\n",
            "Epoch 46/100\n",
            "5/5 - 0s - loss: 0.1545 - 21ms/epoch - 4ms/step\n",
            "Epoch 47/100\n",
            "5/5 - 0s - loss: 0.1491 - 19ms/epoch - 4ms/step\n",
            "Epoch 48/100\n",
            "5/5 - 0s - loss: 0.1441 - 15ms/epoch - 3ms/step\n",
            "Epoch 49/100\n",
            "5/5 - 0s - loss: 0.1406 - 17ms/epoch - 3ms/step\n",
            "Epoch 50/100\n",
            "5/5 - 0s - loss: 0.1420 - 19ms/epoch - 4ms/step\n",
            "Epoch 51/100\n",
            "5/5 - 0s - loss: 0.1361 - 17ms/epoch - 3ms/step\n",
            "Epoch 52/100\n",
            "5/5 - 0s - loss: 0.1337 - 13ms/epoch - 3ms/step\n",
            "Epoch 53/100\n",
            "5/5 - 0s - loss: 0.1308 - 18ms/epoch - 4ms/step\n",
            "Epoch 54/100\n",
            "5/5 - 0s - loss: 0.1305 - 15ms/epoch - 3ms/step\n",
            "Epoch 55/100\n",
            "5/5 - 0s - loss: 0.1243 - 14ms/epoch - 3ms/step\n",
            "Epoch 56/100\n",
            "5/5 - 0s - loss: 0.1211 - 17ms/epoch - 3ms/step\n",
            "Epoch 57/100\n",
            "5/5 - 0s - loss: 0.1202 - 17ms/epoch - 3ms/step\n",
            "Epoch 58/100\n",
            "5/5 - 0s - loss: 0.1179 - 14ms/epoch - 3ms/step\n",
            "Epoch 59/100\n",
            "5/5 - 0s - loss: 0.1167 - 15ms/epoch - 3ms/step\n",
            "Epoch 60/100\n",
            "5/5 - 0s - loss: 0.1140 - 13ms/epoch - 3ms/step\n",
            "Epoch 61/100\n",
            "5/5 - 0s - loss: 0.1113 - 21ms/epoch - 4ms/step\n",
            "Epoch 62/100\n",
            "5/5 - 0s - loss: 0.1101 - 21ms/epoch - 4ms/step\n",
            "Epoch 63/100\n",
            "5/5 - 0s - loss: 0.1086 - 19ms/epoch - 4ms/step\n",
            "Epoch 64/100\n",
            "5/5 - 0s - loss: 0.1070 - 21ms/epoch - 4ms/step\n",
            "Epoch 65/100\n",
            "5/5 - 0s - loss: 0.1075 - 18ms/epoch - 4ms/step\n",
            "Epoch 66/100\n",
            "5/5 - 0s - loss: 0.1064 - 16ms/epoch - 3ms/step\n",
            "Epoch 67/100\n",
            "5/5 - 0s - loss: 0.1043 - 18ms/epoch - 4ms/step\n",
            "Epoch 68/100\n",
            "5/5 - 0s - loss: 0.1023 - 21ms/epoch - 4ms/step\n",
            "Epoch 69/100\n",
            "5/5 - 0s - loss: 0.1140 - 19ms/epoch - 4ms/step\n",
            "Epoch 70/100\n",
            "5/5 - 0s - loss: 0.0967 - 16ms/epoch - 3ms/step\n",
            "Epoch 71/100\n",
            "5/5 - 0s - loss: 0.1039 - 18ms/epoch - 4ms/step\n",
            "Epoch 72/100\n",
            "5/5 - 0s - loss: 0.0953 - 17ms/epoch - 3ms/step\n",
            "Epoch 73/100\n",
            "5/5 - 0s - loss: 0.0990 - 14ms/epoch - 3ms/step\n",
            "Epoch 74/100\n",
            "5/5 - 0s - loss: 0.0943 - 18ms/epoch - 4ms/step\n",
            "Epoch 75/100\n",
            "5/5 - 0s - loss: 0.0929 - 13ms/epoch - 3ms/step\n",
            "Epoch 76/100\n",
            "5/5 - 0s - loss: 0.0931 - 17ms/epoch - 3ms/step\n",
            "Epoch 77/100\n",
            "5/5 - 0s - loss: 0.0935 - 25ms/epoch - 5ms/step\n",
            "Epoch 78/100\n",
            "5/5 - 0s - loss: 0.0909 - 18ms/epoch - 4ms/step\n",
            "Epoch 79/100\n",
            "5/5 - 0s - loss: 0.0897 - 17ms/epoch - 3ms/step\n",
            "Epoch 80/100\n",
            "5/5 - 0s - loss: 0.0880 - 17ms/epoch - 3ms/step\n",
            "Epoch 81/100\n",
            "5/5 - 0s - loss: 0.0877 - 17ms/epoch - 3ms/step\n",
            "Epoch 82/100\n",
            "5/5 - 0s - loss: 0.0887 - 18ms/epoch - 4ms/step\n",
            "Epoch 83/100\n",
            "5/5 - 0s - loss: 0.0866 - 18ms/epoch - 4ms/step\n",
            "Epoch 84/100\n",
            "5/5 - 0s - loss: 0.0857 - 19ms/epoch - 4ms/step\n",
            "Epoch 85/100\n",
            "5/5 - 0s - loss: 0.0846 - 19ms/epoch - 4ms/step\n",
            "Epoch 86/100\n",
            "5/5 - 0s - loss: 0.0852 - 18ms/epoch - 4ms/step\n",
            "Epoch 87/100\n",
            "5/5 - 0s - loss: 0.0842 - 15ms/epoch - 3ms/step\n",
            "Epoch 88/100\n",
            "5/5 - 0s - loss: 0.0837 - 22ms/epoch - 4ms/step\n",
            "Epoch 89/100\n",
            "5/5 - 0s - loss: 0.0841 - 14ms/epoch - 3ms/step\n",
            "Epoch 90/100\n",
            "5/5 - 0s - loss: 0.0810 - 18ms/epoch - 4ms/step\n",
            "Epoch 91/100\n",
            "5/5 - 0s - loss: 0.0814 - 23ms/epoch - 5ms/step\n",
            "Epoch 92/100\n",
            "5/5 - 0s - loss: 0.0817 - 20ms/epoch - 4ms/step\n",
            "Epoch 93/100\n",
            "5/5 - 0s - loss: 0.0799 - 26ms/epoch - 5ms/step\n",
            "Epoch 94/100\n",
            "5/5 - 0s - loss: 0.0827 - 17ms/epoch - 3ms/step\n",
            "Epoch 95/100\n",
            "5/5 - 0s - loss: 0.0812 - 14ms/epoch - 3ms/step\n",
            "Epoch 96/100\n",
            "5/5 - 0s - loss: 0.0807 - 14ms/epoch - 3ms/step\n",
            "Epoch 97/100\n",
            "5/5 - 0s - loss: 0.0788 - 14ms/epoch - 3ms/step\n",
            "Epoch 98/100\n",
            "5/5 - 0s - loss: 0.0792 - 15ms/epoch - 3ms/step\n",
            "Epoch 99/100\n",
            "5/5 - 0s - loss: 0.0774 - 17ms/epoch - 3ms/step\n",
            "Epoch 100/100\n",
            "5/5 - 0s - loss: 0.0765 - 15ms/epoch - 3ms/step\n"
          ]
        },
        {
          "output_type": "execute_result",
          "data": {
            "text/plain": [
              "<keras.callbacks.History at 0x7f9d4e398d10>"
            ]
          },
          "metadata": {},
          "execution_count": 18
        }
      ]
    },
    {
      "cell_type": "code",
      "source": [
        "# Print out number of species found:\n",
        "print(species)"
      ],
      "metadata": {
        "colab": {
          "base_uri": "https://localhost:8080/"
        },
        "id": "wVu8rrTykAtJ",
        "outputId": "1db79343-8fb0-4c3f-b647-b2c767dbbe7d"
      },
      "execution_count": 22,
      "outputs": [
        {
          "output_type": "stream",
          "name": "stdout",
          "text": [
            "Index(['Iris-setosa', 'Iris-versicolor', 'Iris-virginica'], dtype='object')\n"
          ]
        }
      ]
    },
    {
      "cell_type": "code",
      "source": [
        "pred = model.predict(x)\n",
        "print(f\"Shape: {pred.shape}\")\n",
        "print(pred[0:10])"
      ],
      "metadata": {
        "colab": {
          "base_uri": "https://localhost:8080/"
        },
        "id": "ZYPfKAcykCsn",
        "outputId": "5faebfa3-62d4-4b5f-8ccb-d375bc887192"
      },
      "execution_count": 33,
      "outputs": [
        {
          "output_type": "stream",
          "name": "stdout",
          "text": [
            "Shape: (150, 3)\n",
            "[[9.98e-01 2.11e-03 9.23e-09]\n",
            " [9.95e-01 4.65e-03 4.99e-08]\n",
            " [9.97e-01 3.38e-03 3.59e-08]\n",
            " [9.95e-01 4.59e-03 7.21e-08]\n",
            " [9.98e-01 1.93e-03 8.83e-09]\n",
            " [9.98e-01 1.69e-03 4.59e-09]\n",
            " [9.97e-01 3.17e-03 3.78e-08]\n",
            " [9.97e-01 2.66e-03 1.61e-08]\n",
            " [9.94e-01 6.04e-03 1.52e-07]\n",
            " [9.96e-01 3.84e-03 3.43e-08]]\n"
          ]
        }
      ]
    },
    {
      "cell_type": "code",
      "source": [
        "predict_classes = np.argmax(pred,axis=1)\n",
        "expected_classes = np.argmax(y,axis=1)\n",
        "print(f\"Predictions: {predict_classes}\")\n",
        "print(f\"Expected: {expected_classes}\")\n",
        "print(species[predict_classes[0:10]])"
      ],
      "metadata": {
        "colab": {
          "base_uri": "https://localhost:8080/"
        },
        "id": "Ry3MBF6-j2iZ",
        "outputId": "9fbea788-6d92-4b11-9372-71eed2af16ff"
      },
      "execution_count": 34,
      "outputs": [
        {
          "output_type": "stream",
          "name": "stdout",
          "text": [
            "Predictions: [0 0 0 0 0 0 0 0 0 0 0 0 0 0 0 0 0 0 0 0 0 0 0 0 0 0 0 0 0 0 0 0 0 0 0 0 0\n",
            " 0 0 0 0 0 0 0 0 0 0 0 0 0 1 1 1 1 1 1 1 1 1 1 1 1 1 1 1 1 1 1 1 1 2 1 2 1\n",
            " 1 1 1 1 1 1 1 1 1 2 1 1 1 1 1 1 1 1 1 1 1 1 1 1 1 1 2 2 2 2 2 2 2 2 2 2 2\n",
            " 2 2 2 2 2 2 2 2 2 2 2 2 2 2 2 2 2 2 2 2 2 2 2 2 2 2 2 2 2 2 2 2 2 2 2 2 2\n",
            " 2 2]\n",
            "Expected: [0 0 0 0 0 0 0 0 0 0 0 0 0 0 0 0 0 0 0 0 0 0 0 0 0 0 0 0 0 0 0 0 0 0 0 0 0\n",
            " 0 0 0 0 0 0 0 0 0 0 0 0 0 1 1 1 1 1 1 1 1 1 1 1 1 1 1 1 1 1 1 1 1 1 1 1 1\n",
            " 1 1 1 1 1 1 1 1 1 1 1 1 1 1 1 1 1 1 1 1 1 1 1 1 1 1 2 2 2 2 2 2 2 2 2 2 2\n",
            " 2 2 2 2 2 2 2 2 2 2 2 2 2 2 2 2 2 2 2 2 2 2 2 2 2 2 2 2 2 2 2 2 2 2 2 2 2\n",
            " 2 2]\n",
            "Index(['Iris-setosa', 'Iris-setosa', 'Iris-setosa', 'Iris-setosa',\n",
            "       'Iris-setosa', 'Iris-setosa', 'Iris-setosa', 'Iris-setosa',\n",
            "       'Iris-setosa', 'Iris-setosa'],\n",
            "      dtype='object')\n"
          ]
        }
      ]
    },
    {
      "cell_type": "code",
      "source": [
        "print(y[0:10])"
      ],
      "metadata": {
        "colab": {
          "base_uri": "https://localhost:8080/"
        },
        "id": "NQy1k7I7j0ZF",
        "outputId": "ddfb5a81-1f3c-409f-abec-0897fb8abc55"
      },
      "execution_count": 25,
      "outputs": [
        {
          "output_type": "stream",
          "name": "stdout",
          "text": [
            "[[1 0 0]\n",
            " [1 0 0]\n",
            " [1 0 0]\n",
            " [1 0 0]\n",
            " [1 0 0]\n",
            " [1 0 0]\n",
            " [1 0 0]\n",
            " [1 0 0]\n",
            " [1 0 0]\n",
            " [1 0 0]]\n"
          ]
        }
      ]
    },
    {
      "cell_type": "code",
      "source": [
        "from sklearn.metrics import accuracy_score\n",
        "\n",
        "correct = accuracy_score(expected_classes,predict_classes)\n",
        "print(f\"Accuracy: {correct}\")"
      ],
      "metadata": {
        "colab": {
          "base_uri": "https://localhost:8080/"
        },
        "id": "7KQPPVUxkXG0",
        "outputId": "6b4fe30e-915d-45b9-9dcf-b1846dbcfaf7"
      },
      "execution_count": 26,
      "outputs": [
        {
          "output_type": "stream",
          "name": "stdout",
          "text": [
            "Accuracy: 0.98\n"
          ]
        }
      ]
    },
    {
      "cell_type": "code",
      "source": [
        "sample_flower = np.array([[5.0,3.0,4.0,2.0]], dtype=float)\n",
        "pred = model.predict(sample_flower)\n",
        "print(pred)\n",
        "pred = np.argmax(pred)\n",
        "print(f\"Predict that {sample_flower} is: {species[pred]}.\")"
      ],
      "metadata": {
        "colab": {
          "base_uri": "https://localhost:8080/"
        },
        "id": "ffQxaN4UkZH7",
        "outputId": "61e710e1-598d-468a-a7fc-4c1e0dccf8c6"
      },
      "execution_count": 27,
      "outputs": [
        {
          "output_type": "stream",
          "name": "stdout",
          "text": [
            "[[3.3657861e-04 2.4158242e-01 7.5808096e-01]]\n",
            "Predict that [[5. 3. 4. 2.]] is: Iris-virginica.\n"
          ]
        }
      ]
    },
    {
      "cell_type": "code",
      "source": [
        "sample_flower = np.array( [[5.0,3.0,4.0,2.0],[5.2,3.5,1.5,0.8]], dtype=float)\n",
        "pred = model.predict(sample_flower)\n",
        "print(pred)\n",
        "pred = np.argmax(pred,axis=1)\n",
        "print(f\"Predict that these two flowers {sample_flower} are: {species[pred]}.\")"
      ],
      "metadata": {
        "colab": {
          "base_uri": "https://localhost:8080/"
        },
        "id": "Ajq7VJ9bk3w5",
        "outputId": "773de0aa-d682-4dd7-80c1-6a0902b22623"
      },
      "execution_count": 28,
      "outputs": [
        {
          "output_type": "stream",
          "name": "stdout",
          "text": [
            "[[3.3657864e-04 2.4158238e-01 7.5808102e-01]\n",
            " [9.9459368e-01 5.4063462e-03 5.1994224e-08]]\n",
            "Predict that these two flowers [[5.  3.  4.  2. ]\n",
            " [5.2 3.5 1.5 0.8]] are: Index(['Iris-virginica', 'Iris-setosa'], dtype='object').\n"
          ]
        }
      ]
    },
    {
      "cell_type": "code",
      "source": [
        "%matplotlib inline\n",
        "import matplotlib.pyplot as plt\n",
        "from sklearn.metrics import roc_curve, auc\n",
        "\n",
        "# Plot a confusion matrix.\n",
        "# cm is the confusion matrix, names are the names of the classes.\n",
        "def plot_confusion_matrix(cm, names, title='Confusion matrix', \n",
        "                            cmap=plt.cm.Blues):\n",
        "    plt.imshow(cm, interpolation='nearest', cmap=cmap)\n",
        "    plt.title(title)\n",
        "    plt.colorbar()\n",
        "    tick_marks = np.arange(len(names))\n",
        "    plt.xticks(tick_marks, names, rotation=45)\n",
        "    plt.yticks(tick_marks, names)\n",
        "    plt.tight_layout()\n",
        "    plt.ylabel('True label')\n",
        "    plt.xlabel('Predicted label')"
      ],
      "metadata": {
        "id": "1KATbNwfqdON"
      },
      "execution_count": 29,
      "outputs": []
    },
    {
      "cell_type": "code",
      "source": [
        "from sklearn import svm, datasets\n",
        "from sklearn.model_selection import train_test_split\n",
        "from sklearn.metrics import confusion_matrix\n",
        "\n",
        "# Compute confusion matrix\n",
        "cm = confusion_matrix(expected_classes, predict_classes)\n",
        "np.set_printoptions(precision=2)\n",
        "\n",
        "# Normalize the confusion matrix by row (i.e by the number of samples\n",
        "# in each class)\n",
        "cm_normalized = cm.astype('float') / cm.sum(axis=1)[:, np.newaxis]\n",
        "print('Normalized confusion matrix')\n",
        "print(cm_normalized)\n",
        "plt.figure()\n",
        "plot_confusion_matrix(cm_normalized, species, title='Normalized confusion matrix')\n",
        "\n",
        "plt.show()"
      ],
      "metadata": {
        "colab": {
          "base_uri": "https://localhost:8080/",
          "height": 380
        },
        "id": "-UxU3TIPqfnk",
        "outputId": "d65f0a4d-7ec3-460d-8e74-6a1c73cd7155"
      },
      "execution_count": 36,
      "outputs": [
        {
          "output_type": "stream",
          "name": "stdout",
          "text": [
            "Normalized confusion matrix\n",
            "[[1.   0.   0.  ]\n",
            " [0.   0.94 0.06]\n",
            " [0.   0.   1.  ]]\n"
          ]
        },
        {
          "output_type": "display_data",
          "data": {
            "text/plain": [
              "<Figure size 432x288 with 2 Axes>"
            ],
            "image/png": "[encoded data removed]"
          },
          "metadata": {
            "needs_background": "light"
          }
        }
      ]
    }
  ]
}