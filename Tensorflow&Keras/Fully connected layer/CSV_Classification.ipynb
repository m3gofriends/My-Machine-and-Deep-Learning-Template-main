{
  "nbformat": 4,
  "nbformat_minor": 0,
  "metadata": {
    "colab": {
      "provenance": []
    },
    "kernelspec": {
      "name": "python3",
      "display_name": "Python 3"
    },
    "language_info": {
      "name": "python"
    }
  },
  "cells": [
    {
      "cell_type": "code",
      "execution_count": 1,
      "metadata": {
        "colab": {
          "base_uri": "https://localhost:8080/"
        },
        "id": "Y0ROan_jgvFB",
        "outputId": "02c943bc-7559-4d39-9160-78f587ec6452"
      },
      "outputs": [
        {
          "output_type": "stream",
          "name": "stdout",
          "text": [
            "Colab only includes TensorFlow 2.x; %tensorflow_version has no effect.\n",
            "Note: using Google CoLab\n"
          ]
        }
      ],
      "source": [
        "try:\n",
        "    %tensorflow_version 2.x\n",
        "    COLAB = True\n",
        "    print(\"Note: using Google CoLab\")\n",
        "except:\n",
        "    print(\"Note: not using Google CoLab\")\n",
        "    COLAB = False"
      ]
    },
    {
      "cell_type": "code",
      "source": [
        "import pandas as pd\n",
        "import io\n",
        "import requests\n",
        "import numpy as np\n",
        "from sklearn import metrics\n",
        "from tensorflow.keras.models import Sequential\n",
        "from tensorflow.keras.layers import Dense, Activation\n",
        "from tensorflow.keras.callbacks import EarlyStopping"
      ],
      "metadata": {
        "id": "qHsu9fMJhf1Z"
      },
      "execution_count": 2,
      "outputs": []
    },
    {
      "cell_type": "code",
      "source": [
        "df = pd.read_csv(\n",
        "    \"https://data.heatonresearch.com/data/t81-558/iris.csv\", \n",
        "    na_values=['NA', '?'])"
      ],
      "metadata": {
        "id": "SB7ZaNTuhjQR"
      },
      "execution_count": 3,
      "outputs": []
    },
    {
      "cell_type": "code",
      "source": [
        "df.head()"
      ],
      "metadata": {
        "colab": {
          "base_uri": "https://localhost:8080/",
          "height": 206
        },
        "id": "jkPogO9shr4S",
        "outputId": "5bba9a11-b5dc-4382-808f-256358933bd4"
      },
      "execution_count": 7,
      "outputs": [
        {
          "output_type": "execute_result",
          "data": {
            "text/plain": [
              "   sepal_l  sepal_w  petal_l  petal_w      species\n",
              "0      5.1      3.5      1.4      0.2  Iris-setosa\n",
              "1      4.9      3.0      1.4      0.2  Iris-setosa\n",
              "2      4.7      3.2      1.3      0.2  Iris-setosa\n",
              "3      4.6      3.1      1.5      0.2  Iris-setosa\n",
              "4      5.0      3.6      1.4      0.2  Iris-setosa"
            ],
            "text/html": [
              "\n",
              "  <div id=\"df-ef337d4d-70f8-405f-9def-4dc8f003d6c0\">\n",
              "    <div class=\"colab-df-container\">\n",
              "      <div>\n",
              "<style scoped>\n",
              "    .dataframe tbody tr th:only-of-type {\n",
              "        vertical-align: middle;\n",
              "    }\n",
              "\n",
              "    .dataframe tbody tr th {\n",
              "        vertical-align: top;\n",
              "    }\n",
              "\n",
              "    .dataframe thead th {\n",
              "        text-align: right;\n",
              "    }\n",
              "</style>\n",
              "<table border=\"1\" class=\"dataframe\">\n",
              "  <thead>\n",
              "    <tr style=\"text-align: right;\">\n",
              "      <th></th>\n",
              "      <th>sepal_l</th>\n",
              "      <th>sepal_w</th>\n",
              "      <th>petal_l</th>\n",
              "      <th>petal_w</th>\n",
              "      <th>species</th>\n",
              "    </tr>\n",
              "  </thead>\n",
              "  <tbody>\n",
              "    <tr>\n",
              "      <th>0</th>\n",
              "      <td>5.1</td>\n",
              "      <td>3.5</td>\n",
              "      <td>1.4</td>\n",
              "      <td>0.2</td>\n",
              "      <td>Iris-setosa</td>\n",
              "    </tr>\n",
              "    <tr>\n",
              "      <th>1</th>\n",
              "      <td>4.9</td>\n",
              "      <td>3.0</td>\n",
              "      <td>1.4</td>\n",
              "      <td>0.2</td>\n",
              "      <td>Iris-setosa</td>\n",
              "    </tr>\n",
              "    <tr>\n",
              "      <th>2</th>\n",
              "      <td>4.7</td>\n",
              "      <td>3.2</td>\n",
              "      <td>1.3</td>\n",
              "      <td>0.2</td>\n",
              "      <td>Iris-setosa</td>\n",
              "    </tr>\n",
              "    <tr>\n",
              "      <th>3</th>\n",
              "      <td>4.6</td>\n",
              "      <td>3.1</td>\n",
              "      <td>1.5</td>\n",
              "      <td>0.2</td>\n",
              "      <td>Iris-setosa</td>\n",
              "    </tr>\n",
              "    <tr>\n",
              "      <th>4</th>\n",
              "      <td>5.0</td>\n",
              "      <td>3.6</td>\n",
              "      <td>1.4</td>\n",
              "      <td>0.2</td>\n",
              "      <td>Iris-setosa</td>\n",
              "    </tr>\n",
              "  </tbody>\n",
              "</table>\n",
              "</div>\n",
              "      <button class=\"colab-df-convert\" onclick=\"convertToInteractive('df-ef337d4d-70f8-405f-9def-4dc8f003d6c0')\"\n",
              "              title=\"Convert this dataframe to an interactive table.\"\n",
              "              style=\"display:none;\">\n",
              "        \n",
              "  <svg xmlns=\"http://www.w3.org/2000/svg\" height=\"24px\"viewBox=\"0 0 24 24\"\n",
              "       width=\"24px\">\n",
              "    <path d=\"M0 0h24v24H0V0z\" fill=\"none\"/>\n",
              "    <path d=\"M18.56 5.44l.94 2.06.94-2.06 2.06-.94-2.06-.94-.94-2.06-.94 2.06-2.06.94zm-11 1L8.5 8.5l.94-2.06 2.06-.94-2.06-.94L8.5 2.5l-.94 2.06-2.06.94zm10 10l.94 2.06.94-2.06 2.06-.94-2.06-.94-.94-2.06-.94 2.06-2.06.94z\"/><path d=\"M17.41 7.96l-1.37-1.37c-.4-.4-.92-.59-1.43-.59-.52 0-1.04.2-1.43.59L10.3 9.45l-7.72 7.72c-.78.78-.78 2.05 0 2.83L4 21.41c.39.39.9.59 1.41.59.51 0 1.02-.2 1.41-.59l7.78-7.78 2.81-2.81c.8-.78.8-2.07 0-2.86zM5.41 20L4 18.59l7.72-7.72 1.47 1.35L5.41 20z\"/>\n",
              "  </svg>\n",
              "      </button>\n",
              "      \n",
              "  <style>\n",
              "    .colab-df-container {\n",
              "      display:flex;\n",
              "      flex-wrap:wrap;\n",
              "      gap: 12px;\n",
              "    }\n",
              "\n",
              "    .colab-df-convert {\n",
              "      background-color: #E8F0FE;\n",
              "      border: none;\n",
              "      border-radius: 50%;\n",
              "      cursor: pointer;\n",
              "      display: none;\n",
              "      fill: #1967D2;\n",
              "      height: 32px;\n",
              "      padding: 0 0 0 0;\n",
              "      width: 32px;\n",
              "    }\n",
              "\n",
              "    .colab-df-convert:hover {\n",
              "      background-color: #E2EBFA;\n",
              "      box-shadow: 0px 1px 2px rgba(60, 64, 67, 0.3), 0px 1px 3px 1px rgba(60, 64, 67, 0.15);\n",
              "      fill: #174EA6;\n",
              "    }\n",
              "\n",
              "    [theme=dark] .colab-df-convert {\n",
              "      background-color: #3B4455;\n",
              "      fill: #D2E3FC;\n",
              "    }\n",
              "\n",
              "    [theme=dark] .colab-df-convert:hover {\n",
              "      background-color: #434B5C;\n",
              "      box-shadow: 0px 1px 3px 1px rgba(0, 0, 0, 0.15);\n",
              "      filter: drop-shadow(0px 1px 2px rgba(0, 0, 0, 0.3));\n",
              "      fill: #FFFFFF;\n",
              "    }\n",
              "  </style>\n",
              "\n",
              "      <script>\n",
              "        const buttonEl =\n",
              "          document.querySelector('#df-ef337d4d-70f8-405f-9def-4dc8f003d6c0 button.colab-df-convert');\n",
              "        buttonEl.style.display =\n",
              "          google.colab.kernel.accessAllowed ? 'block' : 'none';\n",
              "\n",
              "        async function convertToInteractive(key) {\n",
              "          const element = document.querySelector('#df-ef337d4d-70f8-405f-9def-4dc8f003d6c0');\n",
              "          const dataTable =\n",
              "            await google.colab.kernel.invokeFunction('convertToInteractive',\n",
              "                                                     [key], {});\n",
              "          if (!dataTable) return;\n",
              "\n",
              "          const docLinkHtml = 'Like what you see? Visit the ' +\n",
              "            '<a target=\"_blank\" href=https://colab.research.google.com/notebooks/data_table.ipynb>data table notebook</a>'\n",
              "            + ' to learn more about interactive tables.';\n",
              "          element.innerHTML = '';\n",
              "          dataTable['output_type'] = 'display_data';\n",
              "          await google.colab.output.renderOutput(dataTable, element);\n",
              "          const docLink = document.createElement('div');\n",
              "          docLink.innerHTML = docLinkHtml;\n",
              "          element.appendChild(docLink);\n",
              "        }\n",
              "      </script>\n",
              "    </div>\n",
              "  </div>\n",
              "  "
            ]
          },
          "metadata": {},
          "execution_count": 7
        }
      ]
    },
    {
      "cell_type": "code",
      "source": [
        "# Convert to numpy - Classification\n",
        "x = df[['sepal_l', 'sepal_w', 'petal_l', 'petal_w']].values\n",
        "dummies = pd.get_dummies(df['species']) # Classification\n",
        "species = dummies.columns\n",
        "y = dummies.values"
      ],
      "metadata": {
        "id": "W37f4LcNhnSy"
      },
      "execution_count": 5,
      "outputs": []
    },
    {
      "cell_type": "code",
      "source": [
        "y.shape"
      ],
      "metadata": {
        "colab": {
          "base_uri": "https://localhost:8080/"
        },
        "id": "mtgjQ-Qah8TL",
        "outputId": "dbfb6cb2-a131-4aa1-8651-a07055f3aa2e"
      },
      "execution_count": 6,
      "outputs": [
        {
          "output_type": "execute_result",
          "data": {
            "text/plain": [
              "(150, 3)"
            ]
          },
          "metadata": {},
          "execution_count": 6
        }
      ]
    },
    {
      "cell_type": "code",
      "source": [
        "# Build neural network\n",
        "model = Sequential()\n",
        "model.add(Dense(50, input_dim=x.shape[1], activation='relu')) # Hidden 1\n",
        "model.add(Dense(25, activation='relu')) # Hidden 2\n",
        "model.add(Dense(y.shape[1],activation='softmax')) # Output\n",
        "\n",
        "model.compile(loss='categorical_crossentropy', optimizer='adam')\n",
        "model.fit(x,y,verbose=2,epochs=100)"
      ],
      "metadata": {
        "colab": {
          "base_uri": "https://localhost:8080/"
        },
        "id": "CeDuBocfhprJ",
        "outputId": "041549e3-a3aa-4348-e197-94dbf1998c0a"
      },
      "execution_count": 8,
      "outputs": [
        {
          "output_type": "stream",
          "name": "stdout",
          "text": [
            "Epoch 1/100\n",
            "5/5 - 1s - loss: 1.2413 - 629ms/epoch - 126ms/step\n",
            "Epoch 2/100\n",
            "5/5 - 0s - loss: 1.1056 - 13ms/epoch - 3ms/step\n",
            "Epoch 3/100\n",
            "5/5 - 0s - loss: 1.0334 - 14ms/epoch - 3ms/step\n",
            "Epoch 4/100\n",
            "5/5 - 0s - loss: 0.9687 - 12ms/epoch - 2ms/step\n",
            "Epoch 5/100\n",
            "5/5 - 0s - loss: 0.9074 - 13ms/epoch - 3ms/step\n",
            "Epoch 6/100\n",
            "5/5 - 0s - loss: 0.8564 - 13ms/epoch - 3ms/step\n",
            "Epoch 7/100\n",
            "5/5 - 0s - loss: 0.8099 - 13ms/epoch - 3ms/step\n",
            "Epoch 8/100\n",
            "5/5 - 0s - loss: 0.7712 - 11ms/epoch - 2ms/step\n",
            "Epoch 9/100\n",
            "5/5 - 0s - loss: 0.7228 - 13ms/epoch - 3ms/step\n",
            "Epoch 10/100\n",
            "5/5 - 0s - loss: 0.6897 - 12ms/epoch - 2ms/step\n",
            "Epoch 11/100\n",
            "5/5 - 0s - loss: 0.6548 - 11ms/epoch - 2ms/step\n",
            "Epoch 12/100\n",
            "5/5 - 0s - loss: 0.6237 - 10ms/epoch - 2ms/step\n",
            "Epoch 13/100\n",
            "5/5 - 0s - loss: 0.5946 - 11ms/epoch - 2ms/step\n",
            "Epoch 14/100\n",
            "5/5 - 0s - loss: 0.5675 - 12ms/epoch - 2ms/step\n",
            "Epoch 15/100\n",
            "5/5 - 0s - loss: 0.5413 - 11ms/epoch - 2ms/step\n",
            "Epoch 16/100\n",
            "5/5 - 0s - loss: 0.5223 - 15ms/epoch - 3ms/step\n",
            "Epoch 17/100\n",
            "5/5 - 0s - loss: 0.4949 - 12ms/epoch - 2ms/step\n",
            "Epoch 18/100\n",
            "5/5 - 0s - loss: 0.4759 - 12ms/epoch - 2ms/step\n",
            "Epoch 19/100\n",
            "5/5 - 0s - loss: 0.4571 - 11ms/epoch - 2ms/step\n",
            "Epoch 20/100\n",
            "5/5 - 0s - loss: 0.4374 - 12ms/epoch - 2ms/step\n",
            "Epoch 21/100\n",
            "5/5 - 0s - loss: 0.4207 - 13ms/epoch - 3ms/step\n",
            "Epoch 22/100\n",
            "5/5 - 0s - loss: 0.4044 - 11ms/epoch - 2ms/step\n",
            "Epoch 23/100\n",
            "5/5 - 0s - loss: 0.3905 - 26ms/epoch - 5ms/step\n",
            "Epoch 24/100\n",
            "5/5 - 0s - loss: 0.3741 - 14ms/epoch - 3ms/step\n",
            "Epoch 25/100\n",
            "5/5 - 0s - loss: 0.3630 - 11ms/epoch - 2ms/step\n",
            "Epoch 26/100\n",
            "5/5 - 0s - loss: 0.3504 - 11ms/epoch - 2ms/step\n",
            "Epoch 27/100\n",
            "5/5 - 0s - loss: 0.3386 - 13ms/epoch - 3ms/step\n",
            "Epoch 28/100\n",
            "5/5 - 0s - loss: 0.3281 - 15ms/epoch - 3ms/step\n",
            "Epoch 29/100\n",
            "5/5 - 0s - loss: 0.3164 - 12ms/epoch - 2ms/step\n",
            "Epoch 30/100\n",
            "5/5 - 0s - loss: 0.3071 - 11ms/epoch - 2ms/step\n",
            "Epoch 31/100\n",
            "5/5 - 0s - loss: 0.2951 - 12ms/epoch - 2ms/step\n",
            "Epoch 32/100\n",
            "5/5 - 0s - loss: 0.2867 - 12ms/epoch - 2ms/step\n",
            "Epoch 33/100\n",
            "5/5 - 0s - loss: 0.2774 - 14ms/epoch - 3ms/step\n",
            "Epoch 34/100\n",
            "5/5 - 0s - loss: 0.2683 - 11ms/epoch - 2ms/step\n",
            "Epoch 35/100\n",
            "5/5 - 0s - loss: 0.2608 - 13ms/epoch - 3ms/step\n",
            "Epoch 36/100\n",
            "5/5 - 0s - loss: 0.2518 - 13ms/epoch - 3ms/step\n",
            "Epoch 37/100\n",
            "5/5 - 0s - loss: 0.2454 - 13ms/epoch - 3ms/step\n",
            "Epoch 38/100\n",
            "5/5 - 0s - loss: 0.2405 - 12ms/epoch - 2ms/step\n",
            "Epoch 39/100\n",
            "5/5 - 0s - loss: 0.2298 - 12ms/epoch - 2ms/step\n",
            "Epoch 40/100\n",
            "5/5 - 0s - loss: 0.2249 - 12ms/epoch - 2ms/step\n",
            "Epoch 41/100\n",
            "5/5 - 0s - loss: 0.2172 - 16ms/epoch - 3ms/step\n",
            "Epoch 42/100\n",
            "5/5 - 0s - loss: 0.2112 - 13ms/epoch - 3ms/step\n",
            "Epoch 43/100\n",
            "5/5 - 0s - loss: 0.2058 - 17ms/epoch - 3ms/step\n",
            "Epoch 44/100\n",
            "5/5 - 0s - loss: 0.2002 - 24ms/epoch - 5ms/step\n",
            "Epoch 45/100\n",
            "5/5 - 0s - loss: 0.1954 - 12ms/epoch - 2ms/step\n",
            "Epoch 46/100\n",
            "5/5 - 0s - loss: 0.1901 - 12ms/epoch - 2ms/step\n",
            "Epoch 47/100\n",
            "5/5 - 0s - loss: 0.1846 - 13ms/epoch - 3ms/step\n",
            "Epoch 48/100\n",
            "5/5 - 0s - loss: 0.1799 - 13ms/epoch - 3ms/step\n",
            "Epoch 49/100\n",
            "5/5 - 0s - loss: 0.1766 - 13ms/epoch - 3ms/step\n",
            "Epoch 50/100\n",
            "5/5 - 0s - loss: 0.1747 - 14ms/epoch - 3ms/step\n",
            "Epoch 51/100\n",
            "5/5 - 0s - loss: 0.1677 - 14ms/epoch - 3ms/step\n",
            "Epoch 52/100\n",
            "5/5 - 0s - loss: 0.1687 - 16ms/epoch - 3ms/step\n",
            "Epoch 53/100\n",
            "5/5 - 0s - loss: 0.1605 - 21ms/epoch - 4ms/step\n",
            "Epoch 54/100\n",
            "5/5 - 0s - loss: 0.1580 - 12ms/epoch - 2ms/step\n",
            "Epoch 55/100\n",
            "5/5 - 0s - loss: 0.1536 - 12ms/epoch - 2ms/step\n",
            "Epoch 56/100\n",
            "5/5 - 0s - loss: 0.1506 - 15ms/epoch - 3ms/step\n",
            "Epoch 57/100\n",
            "5/5 - 0s - loss: 0.1511 - 16ms/epoch - 3ms/step\n",
            "Epoch 58/100\n",
            "5/5 - 0s - loss: 0.1494 - 17ms/epoch - 3ms/step\n",
            "Epoch 59/100\n",
            "5/5 - 0s - loss: 0.1448 - 12ms/epoch - 2ms/step\n",
            "Epoch 60/100\n",
            "5/5 - 0s - loss: 0.1398 - 15ms/epoch - 3ms/step\n",
            "Epoch 61/100\n",
            "5/5 - 0s - loss: 0.1362 - 12ms/epoch - 2ms/step\n",
            "Epoch 62/100\n",
            "5/5 - 0s - loss: 0.1364 - 14ms/epoch - 3ms/step\n",
            "Epoch 63/100\n",
            "5/5 - 0s - loss: 0.1318 - 16ms/epoch - 3ms/step\n",
            "Epoch 64/100\n",
            "5/5 - 0s - loss: 0.1305 - 15ms/epoch - 3ms/step\n",
            "Epoch 65/100\n",
            "5/5 - 0s - loss: 0.1285 - 13ms/epoch - 3ms/step\n",
            "Epoch 66/100\n",
            "5/5 - 0s - loss: 0.1258 - 16ms/epoch - 3ms/step\n",
            "Epoch 67/100\n",
            "5/5 - 0s - loss: 0.1243 - 19ms/epoch - 4ms/step\n",
            "Epoch 68/100\n",
            "5/5 - 0s - loss: 0.1276 - 12ms/epoch - 2ms/step\n",
            "Epoch 69/100\n",
            "5/5 - 0s - loss: 0.1223 - 13ms/epoch - 3ms/step\n",
            "Epoch 70/100\n",
            "5/5 - 0s - loss: 0.1194 - 12ms/epoch - 2ms/step\n",
            "Epoch 71/100\n",
            "5/5 - 0s - loss: 0.1159 - 12ms/epoch - 2ms/step\n",
            "Epoch 72/100\n",
            "5/5 - 0s - loss: 0.1198 - 14ms/epoch - 3ms/step\n",
            "Epoch 73/100\n",
            "5/5 - 0s - loss: 0.1135 - 13ms/epoch - 3ms/step\n",
            "Epoch 74/100\n",
            "5/5 - 0s - loss: 0.1117 - 13ms/epoch - 3ms/step\n",
            "Epoch 75/100\n",
            "5/5 - 0s - loss: 0.1147 - 15ms/epoch - 3ms/step\n",
            "Epoch 76/100\n",
            "5/5 - 0s - loss: 0.1103 - 14ms/epoch - 3ms/step\n",
            "Epoch 77/100\n",
            "5/5 - 0s - loss: 0.1097 - 21ms/epoch - 4ms/step\n",
            "Epoch 78/100\n",
            "5/5 - 0s - loss: 0.1084 - 13ms/epoch - 3ms/step\n",
            "Epoch 79/100\n",
            "5/5 - 0s - loss: 0.1061 - 13ms/epoch - 3ms/step\n",
            "Epoch 80/100\n",
            "5/5 - 0s - loss: 0.1041 - 12ms/epoch - 2ms/step\n",
            "Epoch 81/100\n",
            "5/5 - 0s - loss: 0.1033 - 12ms/epoch - 2ms/step\n",
            "Epoch 82/100\n",
            "5/5 - 0s - loss: 0.1022 - 18ms/epoch - 4ms/step\n",
            "Epoch 83/100\n",
            "5/5 - 0s - loss: 0.1007 - 14ms/epoch - 3ms/step\n",
            "Epoch 84/100\n",
            "5/5 - 0s - loss: 0.1016 - 12ms/epoch - 2ms/step\n",
            "Epoch 85/100\n",
            "5/5 - 0s - loss: 0.1028 - 17ms/epoch - 3ms/step\n",
            "Epoch 86/100\n",
            "5/5 - 0s - loss: 0.0987 - 11ms/epoch - 2ms/step\n",
            "Epoch 87/100\n",
            "5/5 - 0s - loss: 0.0976 - 11ms/epoch - 2ms/step\n",
            "Epoch 88/100\n",
            "5/5 - 0s - loss: 0.0983 - 11ms/epoch - 2ms/step\n",
            "Epoch 89/100\n",
            "5/5 - 0s - loss: 0.0960 - 15ms/epoch - 3ms/step\n",
            "Epoch 90/100\n",
            "5/5 - 0s - loss: 0.0976 - 14ms/epoch - 3ms/step\n",
            "Epoch 91/100\n",
            "5/5 - 0s - loss: 0.0949 - 14ms/epoch - 3ms/step\n",
            "Epoch 92/100\n",
            "5/5 - 0s - loss: 0.0962 - 15ms/epoch - 3ms/step\n",
            "Epoch 93/100\n",
            "5/5 - 0s - loss: 0.0927 - 12ms/epoch - 2ms/step\n",
            "Epoch 94/100\n",
            "5/5 - 0s - loss: 0.0926 - 12ms/epoch - 2ms/step\n",
            "Epoch 95/100\n",
            "5/5 - 0s - loss: 0.0909 - 13ms/epoch - 3ms/step\n",
            "Epoch 96/100\n",
            "5/5 - 0s - loss: 0.0898 - 13ms/epoch - 3ms/step\n",
            "Epoch 97/100\n",
            "5/5 - 0s - loss: 0.0901 - 12ms/epoch - 2ms/step\n",
            "Epoch 98/100\n",
            "5/5 - 0s - loss: 0.0893 - 12ms/epoch - 2ms/step\n",
            "Epoch 99/100\n",
            "5/5 - 0s - loss: 0.0874 - 12ms/epoch - 2ms/step\n",
            "Epoch 100/100\n",
            "5/5 - 0s - loss: 0.0869 - 13ms/epoch - 3ms/step\n"
          ]
        },
        {
          "output_type": "execute_result",
          "data": {
            "text/plain": [
              "<keras.callbacks.History at 0x7f61592d2450>"
            ]
          },
          "metadata": {},
          "execution_count": 8
        }
      ]
    },
    {
      "cell_type": "code",
      "source": [
        "# Print out number of species found:\n",
        "print(species)"
      ],
      "metadata": {
        "colab": {
          "base_uri": "https://localhost:8080/"
        },
        "id": "wVu8rrTykAtJ",
        "outputId": "064d089e-3844-4225-a08e-979e77b50264"
      },
      "execution_count": 11,
      "outputs": [
        {
          "output_type": "stream",
          "name": "stdout",
          "text": [
            "Index(['Iris-setosa', 'Iris-versicolor', 'Iris-virginica'], dtype='object')\n"
          ]
        }
      ]
    },
    {
      "cell_type": "code",
      "source": [
        "pred = model.predict(x)\n",
        "print(f\"Shape: {pred.shape}\")\n",
        "print(pred[0:10])\n",
        "print(species[predict_classes[0:10]])"
      ],
      "metadata": {
        "colab": {
          "base_uri": "https://localhost:8080/"
        },
        "id": "ZYPfKAcykCsn",
        "outputId": "4968a06a-a530-49de-9133-fffb45e4c22d"
      },
      "execution_count": 14,
      "outputs": [
        {
          "output_type": "stream",
          "name": "stdout",
          "text": [
            "Shape: (150, 3)\n",
            "[[9.9584866e-01 4.1513778e-03 1.6343831e-09]\n",
            " [9.8965454e-01 1.0345420e-02 1.6090414e-08]\n",
            " [9.9374324e-01 6.2568113e-03 7.2979991e-09]\n",
            " [9.8922753e-01 1.0772477e-02 2.9044909e-08]\n",
            " [9.9605525e-01 3.9447378e-03 1.5669180e-09]\n",
            " [9.9583769e-01 4.1623567e-03 1.2103436e-09]\n",
            " [9.9360400e-01 6.3960687e-03 9.2573433e-09]\n",
            " [9.9443263e-01 5.5673341e-03 4.0319343e-09]\n",
            " [9.8669541e-01 1.3304429e-02 6.0813143e-08]\n",
            " [9.9121422e-01 8.7857749e-03 1.1634132e-08]]\n",
            "Index(['Iris-setosa', 'Iris-setosa', 'Iris-setosa', 'Iris-setosa',\n",
            "       'Iris-setosa', 'Iris-setosa', 'Iris-setosa', 'Iris-setosa',\n",
            "       'Iris-setosa', 'Iris-setosa'],\n",
            "      dtype='object')\n"
          ]
        }
      ]
    },
    {
      "cell_type": "code",
      "source": [
        "print(y[0:10])"
      ],
      "metadata": {
        "colab": {
          "base_uri": "https://localhost:8080/"
        },
        "id": "NQy1k7I7j0ZF",
        "outputId": "2d193e32-28c4-42cc-9cb5-1d8c6fb86bb4"
      },
      "execution_count": 9,
      "outputs": [
        {
          "output_type": "stream",
          "name": "stdout",
          "text": [
            "[[1 0 0]\n",
            " [1 0 0]\n",
            " [1 0 0]\n",
            " [1 0 0]\n",
            " [1 0 0]\n",
            " [1 0 0]\n",
            " [1 0 0]\n",
            " [1 0 0]\n",
            " [1 0 0]\n",
            " [1 0 0]]\n"
          ]
        }
      ]
    },
    {
      "cell_type": "code",
      "source": [
        "predict_classes = np.argmax(pred,axis=1)\n",
        "expected_classes = np.argmax(y,axis=1)\n",
        "print(f\"Predictions: {predict_classes}\")\n",
        "print(f\"Expected: {expected_classes}\")"
      ],
      "metadata": {
        "colab": {
          "base_uri": "https://localhost:8080/"
        },
        "id": "Ry3MBF6-j2iZ",
        "outputId": "ef98f0dd-a692-41b7-ff3b-3de9b42ff958"
      },
      "execution_count": 13,
      "outputs": [
        {
          "output_type": "stream",
          "name": "stdout",
          "text": [
            "Predictions: [0 0 0 0 0 0 0 0 0 0 0 0 0 0 0 0 0 0 0 0 0 0 0 0 0 0 0 0 0 0 0 0 0 0 0 0 0\n",
            " 0 0 0 0 0 0 0 0 0 0 0 0 0 1 1 1 1 1 1 1 1 1 1 1 1 1 1 1 1 1 1 2 1 1 1 2 1\n",
            " 1 1 1 1 1 1 1 1 1 2 1 1 1 1 1 1 1 1 1 1 1 1 1 1 1 1 2 2 2 2 2 2 2 2 2 2 2\n",
            " 2 2 2 2 2 2 2 2 2 2 2 2 2 2 2 2 2 2 2 2 2 2 2 2 2 2 2 2 2 2 2 2 2 2 2 2 2\n",
            " 2 2]\n",
            "Expected: [0 0 0 0 0 0 0 0 0 0 0 0 0 0 0 0 0 0 0 0 0 0 0 0 0 0 0 0 0 0 0 0 0 0 0 0 0\n",
            " 0 0 0 0 0 0 0 0 0 0 0 0 0 1 1 1 1 1 1 1 1 1 1 1 1 1 1 1 1 1 1 1 1 1 1 1 1\n",
            " 1 1 1 1 1 1 1 1 1 1 1 1 1 1 1 1 1 1 1 1 1 1 1 1 1 1 2 2 2 2 2 2 2 2 2 2 2\n",
            " 2 2 2 2 2 2 2 2 2 2 2 2 2 2 2 2 2 2 2 2 2 2 2 2 2 2 2 2 2 2 2 2 2 2 2 2 2\n",
            " 2 2]\n"
          ]
        }
      ]
    },
    {
      "cell_type": "code",
      "source": [
        "from sklearn.metrics import accuracy_score\n",
        "\n",
        "correct = accuracy_score(expected_classes,predict_classes)\n",
        "print(f\"Accuracy: {correct}\")"
      ],
      "metadata": {
        "colab": {
          "base_uri": "https://localhost:8080/"
        },
        "id": "7KQPPVUxkXG0",
        "outputId": "b2f6aa1f-9c66-4f1c-9279-5f55a427e926"
      },
      "execution_count": 15,
      "outputs": [
        {
          "output_type": "stream",
          "name": "stdout",
          "text": [
            "Accuracy: 0.98\n"
          ]
        }
      ]
    },
    {
      "cell_type": "code",
      "source": [
        "sample_flower = np.array([[5.0,3.0,4.0,2.0]], dtype=float)\n",
        "pred = model.predict(sample_flower)\n",
        "print(pred)\n",
        "pred = np.argmax(pred)\n",
        "print(f\"Predict that {sample_flower} is: {species[pred]}.\")"
      ],
      "metadata": {
        "colab": {
          "base_uri": "https://localhost:8080/"
        },
        "id": "ffQxaN4UkZH7",
        "outputId": "4538218d-0d1f-4032-a335-cab2af20e27c"
      },
      "execution_count": 23,
      "outputs": [
        {
          "output_type": "stream",
          "name": "stdout",
          "text": [
            "[[0.00129934 0.49863774 0.5000629 ]]\n",
            "Predict that [[5. 3. 4. 2.]] is: Iris-virginica.\n"
          ]
        }
      ]
    },
    {
      "cell_type": "code",
      "source": [
        "sample_flower = np.array( [[5.0,3.0,4.0,2.0],[5.2,3.5,1.5,0.8]], dtype=float)\n",
        "pred = model.predict(sample_flower)\n",
        "print(pred)\n",
        "pred = np.argmax(pred,axis=1)\n",
        "print(f\"Predict that these two flowers {sample_flower} are: {species[pred]}.\")"
      ],
      "metadata": {
        "colab": {
          "base_uri": "https://localhost:8080/"
        },
        "id": "Ajq7VJ9bk3w5",
        "outputId": "5e98bd48-6684-4c60-c164-4e8b9aefea7b"
      },
      "execution_count": 22,
      "outputs": [
        {
          "output_type": "stream",
          "name": "stdout",
          "text": [
            "[[1.2993371e-03 4.9863786e-01 5.0006276e-01]\n",
            " [9.8552877e-01 1.4471186e-02 2.0212246e-08]]\n",
            "Predict that these two flowers [[5.  3.  4.  2. ]\n",
            " [5.2 3.5 1.5 0.8]] are: Index(['Iris-virginica', 'Iris-setosa'], dtype='object').\n"
          ]
        }
      ]
    }
  ]
}