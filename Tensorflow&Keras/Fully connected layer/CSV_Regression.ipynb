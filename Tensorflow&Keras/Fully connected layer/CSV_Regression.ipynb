{
  "nbformat": 4,
  "nbformat_minor": 0,
  "metadata": {
    "colab": {
      "provenance": []
    },
    "kernelspec": {
      "name": "python3",
      "display_name": "Python 3"
    },
    "language_info": {
      "name": "python"
    },
    "accelerator": "GPU",
    "gpuClass": "standard"
  },
  "cells": [
    {
      "cell_type": "code",
      "execution_count": 1,
      "metadata": {
        "colab": {
          "base_uri": "https://localhost:8080/"
        },
        "id": "dkLHYVaB4XJg",
        "outputId": "b5668e01-c51b-4091-c769-44de80043818"
      },
      "outputs": [
        {
          "output_type": "stream",
          "name": "stdout",
          "text": [
            "Colab only includes TensorFlow 2.x; %tensorflow_version has no effect.\n",
            "Note: using Google CoLab\n"
          ]
        }
      ],
      "source": [
        "try:\n",
        "    %tensorflow_version 2.x\n",
        "    COLAB = True\n",
        "    print(\"Note: using Google CoLab\")\n",
        "except:\n",
        "    print(\"Note: not using Google CoLab\")\n",
        "    COLAB = False"
      ]
    },
    {
      "cell_type": "code",
      "source": [
        "from tensorflow.keras.models import Sequential\n",
        "from tensorflow.keras.layers import Dense, Activation\n",
        "import pandas as pd\n",
        "import numpy as np\n",
        "from sklearn import metrics"
      ],
      "metadata": {
        "id": "83_wkwztDjQ4"
      },
      "execution_count": 2,
      "outputs": []
    },
    {
      "cell_type": "code",
      "source": [
        "df = pd.read_csv(\n",
        "    \"https://raw.githubusercontent.com/m3gofriends/My-Machine-and-Deep-Learning-Template-main/main/TrainingSet/auto-mpg.csv?token=GHSAT0AAAAAABYGU6UEF7ZSFVWGBO6DN7E4YYVNYGA\", \n",
        "    na_values=['NA', '?'])"
      ],
      "metadata": {
        "id": "fwajjiAYDseL"
      },
      "execution_count": 3,
      "outputs": []
    },
    {
      "cell_type": "code",
      "source": [
        "df.head()"
      ],
      "metadata": {
        "colab": {
          "base_uri": "https://localhost:8080/",
          "height": 206
        },
        "id": "mhMYcZRQGyKd",
        "outputId": "4463c7f3-abe0-4371-9267-8e1f0b541596"
      },
      "execution_count": 4,
      "outputs": [
        {
          "output_type": "execute_result",
          "data": {
            "text/plain": [
              "    mpg  cylinders  displacement  horsepower  weight  acceleration  year  \\\n",
              "0  18.0          8         307.0       130.0    3504          12.0    70   \n",
              "1  15.0          8         350.0       165.0    3693          11.5    70   \n",
              "2  18.0          8         318.0       150.0    3436          11.0    70   \n",
              "3  16.0          8         304.0       150.0    3433          12.0    70   \n",
              "4  17.0          8         302.0       140.0    3449          10.5    70   \n",
              "\n",
              "   origin                       name  \n",
              "0       1  chevrolet chevelle malibu  \n",
              "1       1          buick skylark 320  \n",
              "2       1         plymouth satellite  \n",
              "3       1              amc rebel sst  \n",
              "4       1                ford torino  "
            ],
            "text/html": [
              "\n",
              "  <div id=\"df-5f78a45e-0bf6-4f51-864a-09409194e463\">\n",
              "    <div class=\"colab-df-container\">\n",
              "      <div>\n",
              "<style scoped>\n",
              "    .dataframe tbody tr th:only-of-type {\n",
              "        vertical-align: middle;\n",
              "    }\n",
              "\n",
              "    .dataframe tbody tr th {\n",
              "        vertical-align: top;\n",
              "    }\n",
              "\n",
              "    .dataframe thead th {\n",
              "        text-align: right;\n",
              "    }\n",
              "</style>\n",
              "<table border=\"1\" class=\"dataframe\">\n",
              "  <thead>\n",
              "    <tr style=\"text-align: right;\">\n",
              "      <th></th>\n",
              "      <th>mpg</th>\n",
              "      <th>cylinders</th>\n",
              "      <th>displacement</th>\n",
              "      <th>horsepower</th>\n",
              "      <th>weight</th>\n",
              "      <th>acceleration</th>\n",
              "      <th>year</th>\n",
              "      <th>origin</th>\n",
              "      <th>name</th>\n",
              "    </tr>\n",
              "  </thead>\n",
              "  <tbody>\n",
              "    <tr>\n",
              "      <th>0</th>\n",
              "      <td>18.0</td>\n",
              "      <td>8</td>\n",
              "      <td>307.0</td>\n",
              "      <td>130.0</td>\n",
              "      <td>3504</td>\n",
              "      <td>12.0</td>\n",
              "      <td>70</td>\n",
              "      <td>1</td>\n",
              "      <td>chevrolet chevelle malibu</td>\n",
              "    </tr>\n",
              "    <tr>\n",
              "      <th>1</th>\n",
              "      <td>15.0</td>\n",
              "      <td>8</td>\n",
              "      <td>350.0</td>\n",
              "      <td>165.0</td>\n",
              "      <td>3693</td>\n",
              "      <td>11.5</td>\n",
              "      <td>70</td>\n",
              "      <td>1</td>\n",
              "      <td>buick skylark 320</td>\n",
              "    </tr>\n",
              "    <tr>\n",
              "      <th>2</th>\n",
              "      <td>18.0</td>\n",
              "      <td>8</td>\n",
              "      <td>318.0</td>\n",
              "      <td>150.0</td>\n",
              "      <td>3436</td>\n",
              "      <td>11.0</td>\n",
              "      <td>70</td>\n",
              "      <td>1</td>\n",
              "      <td>plymouth satellite</td>\n",
              "    </tr>\n",
              "    <tr>\n",
              "      <th>3</th>\n",
              "      <td>16.0</td>\n",
              "      <td>8</td>\n",
              "      <td>304.0</td>\n",
              "      <td>150.0</td>\n",
              "      <td>3433</td>\n",
              "      <td>12.0</td>\n",
              "      <td>70</td>\n",
              "      <td>1</td>\n",
              "      <td>amc rebel sst</td>\n",
              "    </tr>\n",
              "    <tr>\n",
              "      <th>4</th>\n",
              "      <td>17.0</td>\n",
              "      <td>8</td>\n",
              "      <td>302.0</td>\n",
              "      <td>140.0</td>\n",
              "      <td>3449</td>\n",
              "      <td>10.5</td>\n",
              "      <td>70</td>\n",
              "      <td>1</td>\n",
              "      <td>ford torino</td>\n",
              "    </tr>\n",
              "  </tbody>\n",
              "</table>\n",
              "</div>\n",
              "      <button class=\"colab-df-convert\" onclick=\"convertToInteractive('df-5f78a45e-0bf6-4f51-864a-09409194e463')\"\n",
              "              title=\"Convert this dataframe to an interactive table.\"\n",
              "              style=\"display:none;\">\n",
              "        \n",
              "  <svg xmlns=\"http://www.w3.org/2000/svg\" height=\"24px\"viewBox=\"0 0 24 24\"\n",
              "       width=\"24px\">\n",
              "    <path d=\"M0 0h24v24H0V0z\" fill=\"none\"/>\n",
              "    <path d=\"M18.56 5.44l.94 2.06.94-2.06 2.06-.94-2.06-.94-.94-2.06-.94 2.06-2.06.94zm-11 1L8.5 8.5l.94-2.06 2.06-.94-2.06-.94L8.5 2.5l-.94 2.06-2.06.94zm10 10l.94 2.06.94-2.06 2.06-.94-2.06-.94-.94-2.06-.94 2.06-2.06.94z\"/><path d=\"M17.41 7.96l-1.37-1.37c-.4-.4-.92-.59-1.43-.59-.52 0-1.04.2-1.43.59L10.3 9.45l-7.72 7.72c-.78.78-.78 2.05 0 2.83L4 21.41c.39.39.9.59 1.41.59.51 0 1.02-.2 1.41-.59l7.78-7.78 2.81-2.81c.8-.78.8-2.07 0-2.86zM5.41 20L4 18.59l7.72-7.72 1.47 1.35L5.41 20z\"/>\n",
              "  </svg>\n",
              "      </button>\n",
              "      \n",
              "  <style>\n",
              "    .colab-df-container {\n",
              "      display:flex;\n",
              "      flex-wrap:wrap;\n",
              "      gap: 12px;\n",
              "    }\n",
              "\n",
              "    .colab-df-convert {\n",
              "      background-color: #E8F0FE;\n",
              "      border: none;\n",
              "      border-radius: 50%;\n",
              "      cursor: pointer;\n",
              "      display: none;\n",
              "      fill: #1967D2;\n",
              "      height: 32px;\n",
              "      padding: 0 0 0 0;\n",
              "      width: 32px;\n",
              "    }\n",
              "\n",
              "    .colab-df-convert:hover {\n",
              "      background-color: #E2EBFA;\n",
              "      box-shadow: 0px 1px 2px rgba(60, 64, 67, 0.3), 0px 1px 3px 1px rgba(60, 64, 67, 0.15);\n",
              "      fill: #174EA6;\n",
              "    }\n",
              "\n",
              "    [theme=dark] .colab-df-convert {\n",
              "      background-color: #3B4455;\n",
              "      fill: #D2E3FC;\n",
              "    }\n",
              "\n",
              "    [theme=dark] .colab-df-convert:hover {\n",
              "      background-color: #434B5C;\n",
              "      box-shadow: 0px 1px 3px 1px rgba(0, 0, 0, 0.15);\n",
              "      filter: drop-shadow(0px 1px 2px rgba(0, 0, 0, 0.3));\n",
              "      fill: #FFFFFF;\n",
              "    }\n",
              "  </style>\n",
              "\n",
              "      <script>\n",
              "        const buttonEl =\n",
              "          document.querySelector('#df-5f78a45e-0bf6-4f51-864a-09409194e463 button.colab-df-convert');\n",
              "        buttonEl.style.display =\n",
              "          google.colab.kernel.accessAllowed ? 'block' : 'none';\n",
              "\n",
              "        async function convertToInteractive(key) {\n",
              "          const element = document.querySelector('#df-5f78a45e-0bf6-4f51-864a-09409194e463');\n",
              "          const dataTable =\n",
              "            await google.colab.kernel.invokeFunction('convertToInteractive',\n",
              "                                                     [key], {});\n",
              "          if (!dataTable) return;\n",
              "\n",
              "          const docLinkHtml = 'Like what you see? Visit the ' +\n",
              "            '<a target=\"_blank\" href=https://colab.research.google.com/notebooks/data_table.ipynb>data table notebook</a>'\n",
              "            + ' to learn more about interactive tables.';\n",
              "          element.innerHTML = '';\n",
              "          dataTable['output_type'] = 'display_data';\n",
              "          await google.colab.output.renderOutput(dataTable, element);\n",
              "          const docLink = document.createElement('div');\n",
              "          docLink.innerHTML = docLinkHtml;\n",
              "          element.appendChild(docLink);\n",
              "        }\n",
              "      </script>\n",
              "    </div>\n",
              "  </div>\n",
              "  "
            ]
          },
          "metadata": {},
          "execution_count": 4
        }
      ]
    },
    {
      "cell_type": "code",
      "source": [
        "# Remove target(Because the name of the car will hinder the training)\n",
        "cars = df['name']\n",
        "\n",
        "# Handle missing value\n",
        "df['horsepower'] = df['horsepower'].fillna(df['horsepower'].median())\n",
        "\n",
        "# Pandas to Numpy\n",
        "x = df[['mpg', 'cylinders', 'displacement', 'horsepower', 'weight',\n",
        "       'acceleration', 'year', 'origin']].values\n",
        "y = df['acceleration'].values # regression"
      ],
      "metadata": {
        "id": "jewdRqzkG6kt"
      },
      "execution_count": 5,
      "outputs": []
    },
    {
      "cell_type": "code",
      "source": [
        "# Build the neural network\n",
        "model = Sequential()\n",
        "model.add(Dense(50, input_dim=x.shape[1], activation='relu')) # Hidden 1\n",
        "model.add(Dense(25, activation='relu')) # Hidden 2\n",
        "model.add(Dense(1)) # Output\n",
        "model.compile(loss='mean_squared_error', optimizer='adam')\n",
        "model.fit(x,y,verbose=2,epochs=100)"
      ],
      "metadata": {
        "colab": {
          "base_uri": "https://localhost:8080/"
        },
        "id": "HT-0V2iVIrrR",
        "outputId": "2329bba4-9aa0-47d9-a45a-0ccc8333cdbb"
      },
      "execution_count": 6,
      "outputs": [
        {
          "output_type": "stream",
          "name": "stdout",
          "text": [
            "Epoch 1/100\n",
            "13/13 - 3s - loss: 40461.1211 - 3s/epoch - 215ms/step\n",
            "Epoch 2/100\n",
            "13/13 - 0s - loss: 8863.4688 - 30ms/epoch - 2ms/step\n",
            "Epoch 3/100\n",
            "13/13 - 0s - loss: 2020.9167 - 30ms/epoch - 2ms/step\n",
            "Epoch 4/100\n",
            "13/13 - 0s - loss: 479.9883 - 29ms/epoch - 2ms/step\n",
            "Epoch 5/100\n",
            "13/13 - 0s - loss: 186.1482 - 28ms/epoch - 2ms/step\n",
            "Epoch 6/100\n",
            "13/13 - 0s - loss: 98.5199 - 32ms/epoch - 2ms/step\n",
            "Epoch 7/100\n",
            "13/13 - 0s - loss: 76.4535 - 30ms/epoch - 2ms/step\n",
            "Epoch 8/100\n",
            "13/13 - 0s - loss: 68.6368 - 29ms/epoch - 2ms/step\n",
            "Epoch 9/100\n",
            "13/13 - 0s - loss: 66.4044 - 27ms/epoch - 2ms/step\n",
            "Epoch 10/100\n",
            "13/13 - 0s - loss: 63.7588 - 28ms/epoch - 2ms/step\n",
            "Epoch 11/100\n",
            "13/13 - 0s - loss: 61.7137 - 28ms/epoch - 2ms/step\n",
            "Epoch 12/100\n",
            "13/13 - 0s - loss: 61.3859 - 29ms/epoch - 2ms/step\n",
            "Epoch 13/100\n",
            "13/13 - 0s - loss: 59.0968 - 29ms/epoch - 2ms/step\n",
            "Epoch 14/100\n",
            "13/13 - 0s - loss: 55.6469 - 28ms/epoch - 2ms/step\n",
            "Epoch 15/100\n",
            "13/13 - 0s - loss: 54.8007 - 28ms/epoch - 2ms/step\n",
            "Epoch 16/100\n",
            "13/13 - 0s - loss: 52.7780 - 28ms/epoch - 2ms/step\n",
            "Epoch 17/100\n",
            "13/13 - 0s - loss: 51.2824 - 29ms/epoch - 2ms/step\n",
            "Epoch 18/100\n",
            "13/13 - 0s - loss: 48.9004 - 29ms/epoch - 2ms/step\n",
            "Epoch 19/100\n",
            "13/13 - 0s - loss: 48.2649 - 28ms/epoch - 2ms/step\n",
            "Epoch 20/100\n",
            "13/13 - 0s - loss: 47.6725 - 28ms/epoch - 2ms/step\n",
            "Epoch 21/100\n",
            "13/13 - 0s - loss: 43.8780 - 28ms/epoch - 2ms/step\n",
            "Epoch 22/100\n",
            "13/13 - 0s - loss: 43.0475 - 28ms/epoch - 2ms/step\n",
            "Epoch 23/100\n",
            "13/13 - 0s - loss: 44.4287 - 29ms/epoch - 2ms/step\n",
            "Epoch 24/100\n",
            "13/13 - 0s - loss: 40.4701 - 29ms/epoch - 2ms/step\n",
            "Epoch 25/100\n",
            "13/13 - 0s - loss: 38.9215 - 31ms/epoch - 2ms/step\n",
            "Epoch 26/100\n",
            "13/13 - 0s - loss: 37.0268 - 28ms/epoch - 2ms/step\n",
            "Epoch 27/100\n",
            "13/13 - 0s - loss: 35.7539 - 32ms/epoch - 2ms/step\n",
            "Epoch 28/100\n",
            "13/13 - 0s - loss: 34.9953 - 30ms/epoch - 2ms/step\n",
            "Epoch 29/100\n",
            "13/13 - 0s - loss: 33.5954 - 32ms/epoch - 2ms/step\n",
            "Epoch 30/100\n",
            "13/13 - 0s - loss: 33.0376 - 28ms/epoch - 2ms/step\n",
            "Epoch 31/100\n",
            "13/13 - 0s - loss: 31.5465 - 32ms/epoch - 2ms/step\n",
            "Epoch 32/100\n",
            "13/13 - 0s - loss: 30.8759 - 30ms/epoch - 2ms/step\n",
            "Epoch 33/100\n",
            "13/13 - 0s - loss: 30.8096 - 29ms/epoch - 2ms/step\n",
            "Epoch 34/100\n",
            "13/13 - 0s - loss: 29.0160 - 31ms/epoch - 2ms/step\n",
            "Epoch 35/100\n",
            "13/13 - 0s - loss: 28.2198 - 28ms/epoch - 2ms/step\n",
            "Epoch 36/100\n",
            "13/13 - 0s - loss: 27.8272 - 28ms/epoch - 2ms/step\n",
            "Epoch 37/100\n",
            "13/13 - 0s - loss: 27.3531 - 36ms/epoch - 3ms/step\n",
            "Epoch 38/100\n",
            "13/13 - 0s - loss: 26.9206 - 28ms/epoch - 2ms/step\n",
            "Epoch 39/100\n",
            "13/13 - 0s - loss: 25.2614 - 28ms/epoch - 2ms/step\n",
            "Epoch 40/100\n",
            "13/13 - 0s - loss: 25.0189 - 28ms/epoch - 2ms/step\n",
            "Epoch 41/100\n",
            "13/13 - 0s - loss: 24.4112 - 29ms/epoch - 2ms/step\n",
            "Epoch 42/100\n",
            "13/13 - 0s - loss: 24.0878 - 28ms/epoch - 2ms/step\n",
            "Epoch 43/100\n",
            "13/13 - 0s - loss: 23.1819 - 28ms/epoch - 2ms/step\n",
            "Epoch 44/100\n",
            "13/13 - 0s - loss: 22.3371 - 29ms/epoch - 2ms/step\n",
            "Epoch 45/100\n",
            "13/13 - 0s - loss: 21.6362 - 33ms/epoch - 3ms/step\n",
            "Epoch 46/100\n",
            "13/13 - 0s - loss: 21.2873 - 29ms/epoch - 2ms/step\n",
            "Epoch 47/100\n",
            "13/13 - 0s - loss: 21.5484 - 28ms/epoch - 2ms/step\n",
            "Epoch 48/100\n",
            "13/13 - 0s - loss: 21.3127 - 30ms/epoch - 2ms/step\n",
            "Epoch 49/100\n",
            "13/13 - 0s - loss: 22.1879 - 28ms/epoch - 2ms/step\n",
            "Epoch 50/100\n",
            "13/13 - 0s - loss: 19.9857 - 29ms/epoch - 2ms/step\n",
            "Epoch 51/100\n",
            "13/13 - 0s - loss: 20.1099 - 28ms/epoch - 2ms/step\n",
            "Epoch 52/100\n",
            "13/13 - 0s - loss: 19.7763 - 29ms/epoch - 2ms/step\n",
            "Epoch 53/100\n",
            "13/13 - 0s - loss: 19.8111 - 29ms/epoch - 2ms/step\n",
            "Epoch 54/100\n",
            "13/13 - 0s - loss: 20.0624 - 36ms/epoch - 3ms/step\n",
            "Epoch 55/100\n",
            "13/13 - 0s - loss: 20.6565 - 29ms/epoch - 2ms/step\n",
            "Epoch 56/100\n",
            "13/13 - 0s - loss: 17.4085 - 31ms/epoch - 2ms/step\n",
            "Epoch 57/100\n",
            "13/13 - 0s - loss: 17.1925 - 30ms/epoch - 2ms/step\n",
            "Epoch 58/100\n",
            "13/13 - 0s - loss: 16.8819 - 29ms/epoch - 2ms/step\n",
            "Epoch 59/100\n",
            "13/13 - 0s - loss: 16.9910 - 34ms/epoch - 3ms/step\n",
            "Epoch 60/100\n",
            "13/13 - 0s - loss: 17.1467 - 28ms/epoch - 2ms/step\n",
            "Epoch 61/100\n",
            "13/13 - 0s - loss: 15.7477 - 29ms/epoch - 2ms/step\n",
            "Epoch 62/100\n",
            "13/13 - 0s - loss: 16.6508 - 33ms/epoch - 3ms/step\n",
            "Epoch 63/100\n",
            "13/13 - 0s - loss: 15.8632 - 31ms/epoch - 2ms/step\n",
            "Epoch 64/100\n",
            "13/13 - 0s - loss: 15.3800 - 30ms/epoch - 2ms/step\n",
            "Epoch 65/100\n",
            "13/13 - 0s - loss: 15.2022 - 29ms/epoch - 2ms/step\n",
            "Epoch 66/100\n",
            "13/13 - 0s - loss: 14.7021 - 30ms/epoch - 2ms/step\n",
            "Epoch 67/100\n",
            "13/13 - 0s - loss: 15.3970 - 33ms/epoch - 3ms/step\n",
            "Epoch 68/100\n",
            "13/13 - 0s - loss: 15.1206 - 31ms/epoch - 2ms/step\n",
            "Epoch 69/100\n",
            "13/13 - 0s - loss: 14.5051 - 28ms/epoch - 2ms/step\n",
            "Epoch 70/100\n",
            "13/13 - 0s - loss: 13.6667 - 34ms/epoch - 3ms/step\n",
            "Epoch 71/100\n",
            "13/13 - 0s - loss: 14.0396 - 28ms/epoch - 2ms/step\n",
            "Epoch 72/100\n",
            "13/13 - 0s - loss: 14.0851 - 29ms/epoch - 2ms/step\n",
            "Epoch 73/100\n",
            "13/13 - 0s - loss: 13.9027 - 29ms/epoch - 2ms/step\n",
            "Epoch 74/100\n",
            "13/13 - 0s - loss: 13.0921 - 27ms/epoch - 2ms/step\n",
            "Epoch 75/100\n",
            "13/13 - 0s - loss: 12.8048 - 28ms/epoch - 2ms/step\n",
            "Epoch 76/100\n",
            "13/13 - 0s - loss: 13.6071 - 31ms/epoch - 2ms/step\n",
            "Epoch 77/100\n",
            "13/13 - 0s - loss: 13.1061 - 29ms/epoch - 2ms/step\n",
            "Epoch 78/100\n",
            "13/13 - 0s - loss: 13.1056 - 30ms/epoch - 2ms/step\n",
            "Epoch 79/100\n",
            "13/13 - 0s - loss: 12.1112 - 33ms/epoch - 3ms/step\n",
            "Epoch 80/100\n",
            "13/13 - 0s - loss: 11.6352 - 33ms/epoch - 3ms/step\n",
            "Epoch 81/100\n",
            "13/13 - 0s - loss: 11.6949 - 28ms/epoch - 2ms/step\n",
            "Epoch 82/100\n",
            "13/13 - 0s - loss: 12.2160 - 29ms/epoch - 2ms/step\n",
            "Epoch 83/100\n",
            "13/13 - 0s - loss: 11.5872 - 29ms/epoch - 2ms/step\n",
            "Epoch 84/100\n",
            "13/13 - 0s - loss: 11.2174 - 27ms/epoch - 2ms/step\n",
            "Epoch 85/100\n",
            "13/13 - 0s - loss: 10.8130 - 29ms/epoch - 2ms/step\n",
            "Epoch 86/100\n",
            "13/13 - 0s - loss: 11.0188 - 28ms/epoch - 2ms/step\n",
            "Epoch 87/100\n",
            "13/13 - 0s - loss: 10.5433 - 32ms/epoch - 2ms/step\n",
            "Epoch 88/100\n",
            "13/13 - 0s - loss: 10.3182 - 29ms/epoch - 2ms/step\n",
            "Epoch 89/100\n",
            "13/13 - 0s - loss: 10.5768 - 31ms/epoch - 2ms/step\n",
            "Epoch 90/100\n",
            "13/13 - 0s - loss: 11.1287 - 30ms/epoch - 2ms/step\n",
            "Epoch 91/100\n",
            "13/13 - 0s - loss: 12.3819 - 29ms/epoch - 2ms/step\n",
            "Epoch 92/100\n",
            "13/13 - 0s - loss: 10.3413 - 43ms/epoch - 3ms/step\n",
            "Epoch 93/100\n",
            "13/13 - 0s - loss: 9.7908 - 29ms/epoch - 2ms/step\n",
            "Epoch 94/100\n",
            "13/13 - 0s - loss: 9.7368 - 29ms/epoch - 2ms/step\n",
            "Epoch 95/100\n",
            "13/13 - 0s - loss: 9.7630 - 30ms/epoch - 2ms/step\n",
            "Epoch 96/100\n",
            "13/13 - 0s - loss: 10.0721 - 28ms/epoch - 2ms/step\n",
            "Epoch 97/100\n",
            "13/13 - 0s - loss: 9.0309 - 32ms/epoch - 2ms/step\n",
            "Epoch 98/100\n",
            "13/13 - 0s - loss: 9.1443 - 32ms/epoch - 2ms/step\n",
            "Epoch 99/100\n",
            "13/13 - 0s - loss: 9.1374 - 31ms/epoch - 2ms/step\n",
            "Epoch 100/100\n",
            "13/13 - 0s - loss: 9.3208 - 27ms/epoch - 2ms/step\n"
          ]
        },
        {
          "output_type": "execute_result",
          "data": {
            "text/plain": [
              "<keras.callbacks.History at 0x7fc68207a050>"
            ]
          },
          "metadata": {},
          "execution_count": 6
        }
      ]
    },
    {
      "cell_type": "code",
      "source": [
        "pred = model.predict(x)\n",
        "print(pred[0:10])"
      ],
      "metadata": {
        "colab": {
          "base_uri": "https://localhost:8080/"
        },
        "id": "qix7u5g0Lhom",
        "outputId": "cc6f3517-68e2-4733-cb59-87cfb5193d76"
      },
      "execution_count": 7,
      "outputs": [
        {
          "output_type": "stream",
          "name": "stdout",
          "text": [
            "[[13.916545 ]\n",
            " [12.535197 ]\n",
            " [13.446116 ]\n",
            " [12.703319 ]\n",
            " [13.626811 ]\n",
            " [12.454967 ]\n",
            " [11.873485 ]\n",
            " [12.0468855]\n",
            " [11.457438 ]\n",
            " [12.662395 ]]\n"
          ]
        }
      ]
    },
    {
      "cell_type": "code",
      "source": [
        "# Measure MSE error.  MSE is common for regression.\n",
        "score = metrics.mean_squared_error(pred,y)\n",
        "print(f\"Final score (MSE): {score}\")"
      ],
      "metadata": {
        "colab": {
          "base_uri": "https://localhost:8080/"
        },
        "id": "b6LYmWkkLW44",
        "outputId": "faba6b18-0ea4-4bf2-f596-e0fff4b9226c"
      },
      "execution_count": 8,
      "outputs": [
        {
          "output_type": "stream",
          "name": "stdout",
          "text": [
            "Final score (MSE): 8.637130543165359\n"
          ]
        }
      ]
    },
    {
      "cell_type": "code",
      "source": [
        "# Measure RMSE error.  RMSE is common for regression.\n",
        "score = np.sqrt(metrics.mean_squared_error(pred,y))\n",
        "print(f\"Final score (RMSE): {score}\")"
      ],
      "metadata": {
        "colab": {
          "base_uri": "https://localhost:8080/"
        },
        "id": "BxPz46svLSWu",
        "outputId": "64ca1540-0838-48b8-8fba-ae8a6fcf3f41"
      },
      "execution_count": 9,
      "outputs": [
        {
          "output_type": "stream",
          "name": "stdout",
          "text": [
            "Final score (RMSE): 2.938899546286902\n"
          ]
        }
      ]
    },
    {
      "cell_type": "code",
      "source": [
        "# Sample predictions\n",
        "for i in range(10):\n",
        "    print(f\"{i+1}. Car name: {cars[i]}, Acceleration: {y[i]}, predicted Acceleration: {pred[i]}.\")"
      ],
      "metadata": {
        "colab": {
          "base_uri": "https://localhost:8080/"
        },
        "id": "XIzNsTyAI6ij",
        "outputId": "add327b6-2ea1-4c08-ef13-7db9470e6c7e"
      },
      "execution_count": 10,
      "outputs": [
        {
          "output_type": "stream",
          "name": "stdout",
          "text": [
            "1. Car name: chevrolet chevelle malibu, Acceleration: 12.0, predicted Acceleration: [13.916545].\n",
            "2. Car name: buick skylark 320, Acceleration: 11.5, predicted Acceleration: [12.535197].\n",
            "3. Car name: plymouth satellite, Acceleration: 11.0, predicted Acceleration: [13.446116].\n",
            "4. Car name: amc rebel sst, Acceleration: 12.0, predicted Acceleration: [12.703319].\n",
            "5. Car name: ford torino, Acceleration: 10.5, predicted Acceleration: [13.626811].\n",
            "6. Car name: ford galaxie 500, Acceleration: 10.0, predicted Acceleration: [12.454967].\n",
            "7. Car name: chevrolet impala, Acceleration: 9.0, predicted Acceleration: [11.873485].\n",
            "8. Car name: plymouth fury iii, Acceleration: 8.5, predicted Acceleration: [12.0468855].\n",
            "9. Car name: pontiac catalina, Acceleration: 10.0, predicted Acceleration: [11.457438].\n",
            "10. Car name: amc ambassador dpl, Acceleration: 8.5, predicted Acceleration: [12.662395].\n"
          ]
        }
      ]
    }
  ]
}