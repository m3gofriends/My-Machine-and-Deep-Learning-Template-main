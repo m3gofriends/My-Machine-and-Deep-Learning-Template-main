{
  "nbformat": 4,
  "nbformat_minor": 0,
  "metadata": {
    "colab": {
      "provenance": []
    },
    "kernelspec": {
      "name": "python3",
      "display_name": "Python 3"
    },
    "language_info": {
      "name": "python"
    },
    "accelerator": "GPU",
    "gpuClass": "standard"
  },
  "cells": [
    {
      "cell_type": "code",
      "execution_count": 9,
      "metadata": {
        "colab": {
          "base_uri": "https://localhost:8080/"
        },
        "id": "ByVcFMFAM-RE",
        "outputId": "d228b7c0-3b68-4a2c-fbc1-ee6f7543ada1"
      },
      "outputs": [
        {
          "output_type": "stream",
          "name": "stdout",
          "text": [
            "Colab only includes TensorFlow 2.x; %tensorflow_version has no effect.\n",
            "Note: using Google CoLab\n"
          ]
        }
      ],
      "source": [
        "try:\n",
        "    %tensorflow_version 2.x\n",
        "    COLAB = True\n",
        "    print(\"Note: using Google CoLab\")\n",
        "except:\n",
        "    print(\"Note: not using Google CoLab\")\n",
        "    COLAB = False"
      ]
    },
    {
      "cell_type": "code",
      "source": [
        "import numpy as np\n",
        "import matplotlib.pyplot as plt\n",
        "\n",
        "from keras.datasets import mnist\n",
        "from keras.callbacks import ReduceLROnPlateau\n",
        "from tensorflow.keras.utils import to_categorical\n",
        "from tensorflow.keras.models import Sequential\n",
        "from tensorflow.keras.layers import Dense, Conv2D, MaxPooling2D, Flatten, Dropout, Activation\n",
        "from keras import optimizers"
      ],
      "metadata": {
        "id": "UPFV-hkKNKB3"
      },
      "execution_count": 10,
      "outputs": []
    },
    {
      "cell_type": "code",
      "source": [
        "# Download MINST\n",
        "(x_train,x_test), (y_train,y_test) = mnist.load_data()"
      ],
      "metadata": {
        "id": "pXKDDqnRNXsF"
      },
      "execution_count": 11,
      "outputs": []
    },
    {
      "cell_type": "code",
      "source": [
        "# Print shape\n",
        "print(x_train.shape,x_test.shape)\n",
        "print(y_train.shape,y_test.shape)"
      ],
      "metadata": {
        "colab": {
          "base_uri": "https://localhost:8080/"
        },
        "id": "o-E97cNtN5y3",
        "outputId": "1e97adca-d46d-4515-bba1-376be5decbe5"
      },
      "execution_count": 12,
      "outputs": [
        {
          "output_type": "stream",
          "name": "stdout",
          "text": [
            "(60000, 28, 28) (60000,)\n",
            "(10000, 28, 28) (10000,)\n"
          ]
        }
      ]
    },
    {
      "cell_type": "code",
      "source": [
        "# Data pre-processing\n",
        "x_train = x_train.reshape(-1,28,28,1).astype('float32')/255\n",
        "y_train = y_train.reshape(-1,28,28,1).astype('float32')/255\n",
        "\n",
        "x_test = to_categorical(x_test)\n",
        "y_test = to_categorical(y_test)"
      ],
      "metadata": {
        "id": "6hPTmIIxOFa9"
      },
      "execution_count": 13,
      "outputs": []
    },
    {
      "cell_type": "code",
      "source": [
        "LR_function=ReduceLROnPlateau(monitor='val_accuracy',\n",
        "                patience=10,  # 10 epochs 內acc沒下降就要調整LR\n",
        "                verbose=1,\n",
        "                factor=0.5, # LR降為0.5\n",
        "                min_lr=0.00001 # 最小 LR 到0.00001就不再下降     \n",
        "                )                                    "
      ],
      "metadata": {
        "id": "Vw4tzF-3QzI4"
      },
      "execution_count": 14,
      "outputs": []
    },
    {
      "cell_type": "code",
      "source": [
        "# Build neural network\n",
        "model=Sequential()\n",
        "\n",
        "model.add(Conv2D(32,(3,3),activation='relu',input_shape=(28,28,1)))\n",
        "model.add(Dropout(0.25))\n",
        "model.add(MaxPooling2D((2,2)))\n",
        "model.add(Conv2D(64,(3,3),activation='relu'))\n",
        "model.add(Dropout(0.25))\n",
        "model.add(MaxPooling2D((2,2)))\n",
        "model.add(Conv2D(64,(3,3),activation='relu'))\n",
        "model.add(Flatten())\n",
        "model.add(Dense(64,activation='relu'))\n",
        "model.add(Dense(10,activation='softmax'))\n",
        "model.compile(optimizer='Adam', loss='categorical_crossentropy',  metrics=['accuracy'])\n",
        "\n",
        "history = model.fit(x_train, x_test, validation_data=(y_train,y_test), callbacks=[LR_function], verbose=2, epochs=100)"
      ],
      "metadata": {
        "colab": {
          "base_uri": "https://localhost:8080/"
        },
        "id": "OqnlBl0_RSU5",
        "outputId": "6cacb9c3-a6f4-4070-e9dd-1b26e25ee19c"
      },
      "execution_count": 15,
      "outputs": [
        {
          "output_type": "stream",
          "name": "stdout",
          "text": [
            "Epoch 1/100\n",
            "1875/1875 - 7s - loss: 0.1449 - accuracy: 0.9554 - val_loss: 0.0601 - val_accuracy: 0.9852 - lr: 0.0010 - 7s/epoch - 4ms/step\n",
            "Epoch 2/100\n",
            "1875/1875 - 6s - loss: 0.0502 - accuracy: 0.9844 - val_loss: 0.0448 - val_accuracy: 0.9875 - lr: 0.0010 - 6s/epoch - 3ms/step\n",
            "Epoch 3/100\n",
            "1875/1875 - 7s - loss: 0.0375 - accuracy: 0.9880 - val_loss: 0.0354 - val_accuracy: 0.9909 - lr: 0.0010 - 7s/epoch - 4ms/step\n",
            "Epoch 4/100\n",
            "1875/1875 - 7s - loss: 0.0301 - accuracy: 0.9905 - val_loss: 0.0283 - val_accuracy: 0.9925 - lr: 0.0010 - 7s/epoch - 4ms/step\n",
            "Epoch 5/100\n",
            "1875/1875 - 6s - loss: 0.0251 - accuracy: 0.9920 - val_loss: 0.0342 - val_accuracy: 0.9888 - lr: 0.0010 - 6s/epoch - 3ms/step\n",
            "Epoch 6/100\n",
            "1875/1875 - 6s - loss: 0.0221 - accuracy: 0.9929 - val_loss: 0.0279 - val_accuracy: 0.9917 - lr: 0.0010 - 6s/epoch - 3ms/step\n",
            "Epoch 7/100\n",
            "1875/1875 - 6s - loss: 0.0179 - accuracy: 0.9941 - val_loss: 0.0290 - val_accuracy: 0.9919 - lr: 0.0010 - 6s/epoch - 3ms/step\n",
            "Epoch 8/100\n",
            "1875/1875 - 6s - loss: 0.0172 - accuracy: 0.9943 - val_loss: 0.0241 - val_accuracy: 0.9929 - lr: 0.0010 - 6s/epoch - 3ms/step\n",
            "Epoch 9/100\n",
            "1875/1875 - 6s - loss: 0.0156 - accuracy: 0.9948 - val_loss: 0.0269 - val_accuracy: 0.9927 - lr: 0.0010 - 6s/epoch - 3ms/step\n",
            "Epoch 10/100\n",
            "1875/1875 - 6s - loss: 0.0156 - accuracy: 0.9948 - val_loss: 0.0285 - val_accuracy: 0.9915 - lr: 0.0010 - 6s/epoch - 3ms/step\n",
            "Epoch 11/100\n",
            "1875/1875 - 7s - loss: 0.0129 - accuracy: 0.9957 - val_loss: 0.0257 - val_accuracy: 0.9922 - lr: 0.0010 - 7s/epoch - 3ms/step\n",
            "Epoch 12/100\n",
            "1875/1875 - 7s - loss: 0.0127 - accuracy: 0.9958 - val_loss: 0.0246 - val_accuracy: 0.9921 - lr: 0.0010 - 7s/epoch - 3ms/step\n",
            "Epoch 13/100\n",
            "1875/1875 - 6s - loss: 0.0119 - accuracy: 0.9961 - val_loss: 0.0252 - val_accuracy: 0.9928 - lr: 0.0010 - 6s/epoch - 3ms/step\n",
            "Epoch 14/100\n",
            "1875/1875 - 7s - loss: 0.0108 - accuracy: 0.9965 - val_loss: 0.0264 - val_accuracy: 0.9935 - lr: 0.0010 - 7s/epoch - 3ms/step\n",
            "Epoch 15/100\n",
            "1875/1875 - 6s - loss: 0.0109 - accuracy: 0.9969 - val_loss: 0.0253 - val_accuracy: 0.9931 - lr: 0.0010 - 6s/epoch - 3ms/step\n",
            "Epoch 16/100\n",
            "1875/1875 - 6s - loss: 0.0107 - accuracy: 0.9966 - val_loss: 0.0250 - val_accuracy: 0.9933 - lr: 0.0010 - 6s/epoch - 3ms/step\n",
            "Epoch 17/100\n",
            "1875/1875 - 6s - loss: 0.0098 - accuracy: 0.9970 - val_loss: 0.0417 - val_accuracy: 0.9884 - lr: 0.0010 - 6s/epoch - 3ms/step\n",
            "Epoch 18/100\n",
            "1875/1875 - 7s - loss: 0.0096 - accuracy: 0.9971 - val_loss: 0.0275 - val_accuracy: 0.9930 - lr: 0.0010 - 7s/epoch - 4ms/step\n",
            "Epoch 19/100\n",
            "1875/1875 - 7s - loss: 0.0096 - accuracy: 0.9969 - val_loss: 0.0269 - val_accuracy: 0.9932 - lr: 0.0010 - 7s/epoch - 4ms/step\n",
            "Epoch 20/100\n",
            "1875/1875 - 6s - loss: 0.0095 - accuracy: 0.9971 - val_loss: 0.0319 - val_accuracy: 0.9915 - lr: 0.0010 - 6s/epoch - 3ms/step\n",
            "Epoch 21/100\n",
            "1875/1875 - 6s - loss: 0.0096 - accuracy: 0.9971 - val_loss: 0.0263 - val_accuracy: 0.9933 - lr: 0.0010 - 6s/epoch - 3ms/step\n",
            "Epoch 22/100\n",
            "1875/1875 - 6s - loss: 0.0072 - accuracy: 0.9977 - val_loss: 0.0337 - val_accuracy: 0.9919 - lr: 0.0010 - 6s/epoch - 3ms/step\n",
            "Epoch 23/100\n",
            "1875/1875 - 7s - loss: 0.0101 - accuracy: 0.9970 - val_loss: 0.0272 - val_accuracy: 0.9925 - lr: 0.0010 - 7s/epoch - 3ms/step\n",
            "Epoch 24/100\n",
            "\n",
            "Epoch 24: ReduceLROnPlateau reducing learning rate to 0.0005000000237487257.\n",
            "1875/1875 - 7s - loss: 0.0077 - accuracy: 0.9979 - val_loss: 0.0324 - val_accuracy: 0.9916 - lr: 0.0010 - 7s/epoch - 3ms/step\n",
            "Epoch 25/100\n",
            "1875/1875 - 6s - loss: 0.0040 - accuracy: 0.9987 - val_loss: 0.0269 - val_accuracy: 0.9940 - lr: 5.0000e-04 - 6s/epoch - 3ms/step\n",
            "Epoch 26/100\n",
            "1875/1875 - 6s - loss: 0.0034 - accuracy: 0.9988 - val_loss: 0.0281 - val_accuracy: 0.9935 - lr: 5.0000e-04 - 6s/epoch - 3ms/step\n",
            "Epoch 27/100\n",
            "1875/1875 - 7s - loss: 0.0029 - accuracy: 0.9990 - val_loss: 0.0291 - val_accuracy: 0.9942 - lr: 5.0000e-04 - 7s/epoch - 3ms/step\n",
            "Epoch 28/100\n",
            "1875/1875 - 6s - loss: 0.0031 - accuracy: 0.9990 - val_loss: 0.0293 - val_accuracy: 0.9940 - lr: 5.0000e-04 - 6s/epoch - 3ms/step\n",
            "Epoch 29/100\n",
            "1875/1875 - 6s - loss: 0.0029 - accuracy: 0.9992 - val_loss: 0.0301 - val_accuracy: 0.9932 - lr: 5.0000e-04 - 6s/epoch - 3ms/step\n",
            "Epoch 30/100\n",
            "1875/1875 - 6s - loss: 0.0019 - accuracy: 0.9995 - val_loss: 0.0304 - val_accuracy: 0.9941 - lr: 5.0000e-04 - 6s/epoch - 3ms/step\n",
            "Epoch 31/100\n",
            "1875/1875 - 7s - loss: 0.0033 - accuracy: 0.9990 - val_loss: 0.0339 - val_accuracy: 0.9937 - lr: 5.0000e-04 - 7s/epoch - 3ms/step\n",
            "Epoch 32/100\n",
            "1875/1875 - 6s - loss: 0.0023 - accuracy: 0.9993 - val_loss: 0.0354 - val_accuracy: 0.9927 - lr: 5.0000e-04 - 6s/epoch - 3ms/step\n",
            "Epoch 33/100\n",
            "1875/1875 - 6s - loss: 0.0015 - accuracy: 0.9995 - val_loss: 0.0344 - val_accuracy: 0.9927 - lr: 5.0000e-04 - 6s/epoch - 3ms/step\n",
            "Epoch 34/100\n",
            "1875/1875 - 6s - loss: 0.0025 - accuracy: 0.9991 - val_loss: 0.0358 - val_accuracy: 0.9933 - lr: 5.0000e-04 - 6s/epoch - 3ms/step\n",
            "Epoch 35/100\n",
            "1875/1875 - 7s - loss: 0.0022 - accuracy: 0.9992 - val_loss: 0.0436 - val_accuracy: 0.9923 - lr: 5.0000e-04 - 7s/epoch - 3ms/step\n",
            "Epoch 36/100\n",
            "1875/1875 - 6s - loss: 0.0035 - accuracy: 0.9990 - val_loss: 0.0383 - val_accuracy: 0.9931 - lr: 5.0000e-04 - 6s/epoch - 3ms/step\n",
            "Epoch 37/100\n",
            "\n",
            "Epoch 37: ReduceLROnPlateau reducing learning rate to 0.0002500000118743628.\n",
            "1875/1875 - 7s - loss: 0.0024 - accuracy: 0.9992 - val_loss: 0.0371 - val_accuracy: 0.9939 - lr: 5.0000e-04 - 7s/epoch - 3ms/step\n",
            "Epoch 38/100\n",
            "1875/1875 - 7s - loss: 0.0017 - accuracy: 0.9996 - val_loss: 0.0346 - val_accuracy: 0.9935 - lr: 2.5000e-04 - 7s/epoch - 4ms/step\n",
            "Epoch 39/100\n",
            "1875/1875 - 6s - loss: 7.5762e-04 - accuracy: 0.9998 - val_loss: 0.0366 - val_accuracy: 0.9939 - lr: 2.5000e-04 - 6s/epoch - 3ms/step\n",
            "Epoch 40/100\n",
            "1875/1875 - 6s - loss: 0.0010 - accuracy: 0.9997 - val_loss: 0.0381 - val_accuracy: 0.9932 - lr: 2.5000e-04 - 6s/epoch - 3ms/step\n",
            "Epoch 41/100\n",
            "1875/1875 - 7s - loss: 6.7837e-04 - accuracy: 0.9998 - val_loss: 0.0361 - val_accuracy: 0.9935 - lr: 2.5000e-04 - 7s/epoch - 4ms/step\n",
            "Epoch 42/100\n",
            "1875/1875 - 7s - loss: 8.2198e-04 - accuracy: 0.9998 - val_loss: 0.0402 - val_accuracy: 0.9940 - lr: 2.5000e-04 - 7s/epoch - 4ms/step\n",
            "Epoch 43/100\n",
            "1875/1875 - 7s - loss: 0.0010 - accuracy: 0.9997 - val_loss: 0.0395 - val_accuracy: 0.9940 - lr: 2.5000e-04 - 7s/epoch - 4ms/step\n",
            "Epoch 44/100\n",
            "1875/1875 - 6s - loss: 6.8368e-04 - accuracy: 0.9998 - val_loss: 0.0398 - val_accuracy: 0.9939 - lr: 2.5000e-04 - 6s/epoch - 3ms/step\n",
            "Epoch 45/100\n",
            "1875/1875 - 7s - loss: 0.0012 - accuracy: 0.9996 - val_loss: 0.0350 - val_accuracy: 0.9944 - lr: 2.5000e-04 - 7s/epoch - 3ms/step\n",
            "Epoch 46/100\n",
            "1875/1875 - 6s - loss: 6.0968e-04 - accuracy: 0.9998 - val_loss: 0.0356 - val_accuracy: 0.9944 - lr: 2.5000e-04 - 6s/epoch - 3ms/step\n",
            "Epoch 47/100\n",
            "1875/1875 - 6s - loss: 5.7001e-04 - accuracy: 0.9998 - val_loss: 0.0423 - val_accuracy: 0.9934 - lr: 2.5000e-04 - 6s/epoch - 3ms/step\n",
            "Epoch 48/100\n",
            "1875/1875 - 7s - loss: 7.6729e-04 - accuracy: 0.9998 - val_loss: 0.0422 - val_accuracy: 0.9937 - lr: 2.5000e-04 - 7s/epoch - 3ms/step\n",
            "Epoch 49/100\n",
            "1875/1875 - 6s - loss: 7.1822e-04 - accuracy: 0.9997 - val_loss: 0.0391 - val_accuracy: 0.9943 - lr: 2.5000e-04 - 6s/epoch - 3ms/step\n",
            "Epoch 50/100\n",
            "1875/1875 - 6s - loss: 5.8934e-04 - accuracy: 0.9997 - val_loss: 0.0419 - val_accuracy: 0.9941 - lr: 2.5000e-04 - 6s/epoch - 3ms/step\n",
            "Epoch 51/100\n",
            "1875/1875 - 6s - loss: 4.8554e-04 - accuracy: 0.9998 - val_loss: 0.0392 - val_accuracy: 0.9941 - lr: 2.5000e-04 - 6s/epoch - 3ms/step\n",
            "Epoch 52/100\n",
            "1875/1875 - 6s - loss: 9.3260e-04 - accuracy: 0.9997 - val_loss: 0.0386 - val_accuracy: 0.9945 - lr: 2.5000e-04 - 6s/epoch - 3ms/step\n",
            "Epoch 53/100\n",
            "1875/1875 - 7s - loss: 7.7295e-04 - accuracy: 0.9998 - val_loss: 0.0388 - val_accuracy: 0.9939 - lr: 2.5000e-04 - 7s/epoch - 4ms/step\n",
            "Epoch 54/100\n",
            "1875/1875 - 6s - loss: 2.7234e-04 - accuracy: 0.9999 - val_loss: 0.0384 - val_accuracy: 0.9945 - lr: 2.5000e-04 - 6s/epoch - 3ms/step\n",
            "Epoch 55/100\n",
            "\n",
            "Epoch 55: ReduceLROnPlateau reducing learning rate to 0.0001250000059371814.\n",
            "1875/1875 - 6s - loss: 3.9932e-04 - accuracy: 0.9999 - val_loss: 0.0383 - val_accuracy: 0.9943 - lr: 2.5000e-04 - 6s/epoch - 3ms/step\n",
            "Epoch 56/100\n",
            "1875/1875 - 7s - loss: 3.3112e-04 - accuracy: 0.9999 - val_loss: 0.0396 - val_accuracy: 0.9939 - lr: 1.2500e-04 - 7s/epoch - 4ms/step\n",
            "Epoch 57/100\n",
            "1875/1875 - 6s - loss: 2.1881e-04 - accuracy: 0.9999 - val_loss: 0.0410 - val_accuracy: 0.9942 - lr: 1.2500e-04 - 6s/epoch - 3ms/step\n",
            "Epoch 58/100\n",
            "1875/1875 - 7s - loss: 4.3485e-04 - accuracy: 0.9999 - val_loss: 0.0395 - val_accuracy: 0.9949 - lr: 1.2500e-04 - 7s/epoch - 3ms/step\n",
            "Epoch 59/100\n",
            "1875/1875 - 6s - loss: 3.3640e-04 - accuracy: 0.9999 - val_loss: 0.0383 - val_accuracy: 0.9943 - lr: 1.2500e-04 - 6s/epoch - 3ms/step\n",
            "Epoch 60/100\n",
            "1875/1875 - 7s - loss: 4.3675e-04 - accuracy: 0.9999 - val_loss: 0.0399 - val_accuracy: 0.9944 - lr: 1.2500e-04 - 7s/epoch - 3ms/step\n",
            "Epoch 61/100\n",
            "1875/1875 - 7s - loss: 2.9773e-04 - accuracy: 0.9999 - val_loss: 0.0397 - val_accuracy: 0.9941 - lr: 1.2500e-04 - 7s/epoch - 3ms/step\n",
            "Epoch 62/100\n",
            "1875/1875 - 6s - loss: 2.0615e-04 - accuracy: 1.0000 - val_loss: 0.0410 - val_accuracy: 0.9945 - lr: 1.2500e-04 - 6s/epoch - 3ms/step\n",
            "Epoch 63/100\n",
            "1875/1875 - 6s - loss: 4.9242e-05 - accuracy: 1.0000 - val_loss: 0.0441 - val_accuracy: 0.9944 - lr: 1.2500e-04 - 6s/epoch - 3ms/step\n",
            "Epoch 64/100\n",
            "1875/1875 - 6s - loss: 1.6805e-04 - accuracy: 0.9999 - val_loss: 0.0441 - val_accuracy: 0.9945 - lr: 1.2500e-04 - 6s/epoch - 3ms/step\n",
            "Epoch 65/100\n",
            "1875/1875 - 6s - loss: 1.1295e-04 - accuracy: 1.0000 - val_loss: 0.0439 - val_accuracy: 0.9947 - lr: 1.2500e-04 - 6s/epoch - 3ms/step\n",
            "Epoch 66/100\n",
            "1875/1875 - 6s - loss: 1.2524e-04 - accuracy: 1.0000 - val_loss: 0.0430 - val_accuracy: 0.9945 - lr: 1.2500e-04 - 6s/epoch - 3ms/step\n",
            "Epoch 67/100\n",
            "1875/1875 - 6s - loss: 2.1833e-04 - accuracy: 0.9999 - val_loss: 0.0468 - val_accuracy: 0.9941 - lr: 1.2500e-04 - 6s/epoch - 3ms/step\n",
            "Epoch 68/100\n",
            "\n",
            "Epoch 68: ReduceLROnPlateau reducing learning rate to 6.25000029685907e-05.\n",
            "1875/1875 - 6s - loss: 1.8665e-04 - accuracy: 0.9999 - val_loss: 0.0457 - val_accuracy: 0.9943 - lr: 1.2500e-04 - 6s/epoch - 3ms/step\n",
            "Epoch 69/100\n",
            "1875/1875 - 6s - loss: 6.7481e-05 - accuracy: 1.0000 - val_loss: 0.0447 - val_accuracy: 0.9943 - lr: 6.2500e-05 - 6s/epoch - 3ms/step\n",
            "Epoch 70/100\n",
            "1875/1875 - 6s - loss: 1.0302e-04 - accuracy: 0.9999 - val_loss: 0.0472 - val_accuracy: 0.9942 - lr: 6.2500e-05 - 6s/epoch - 3ms/step\n",
            "Epoch 71/100\n",
            "1875/1875 - 6s - loss: 8.7108e-05 - accuracy: 0.9999 - val_loss: 0.0461 - val_accuracy: 0.9943 - lr: 6.2500e-05 - 6s/epoch - 3ms/step\n",
            "Epoch 72/100\n",
            "1875/1875 - 6s - loss: 3.0615e-04 - accuracy: 0.9999 - val_loss: 0.0436 - val_accuracy: 0.9945 - lr: 6.2500e-05 - 6s/epoch - 3ms/step\n",
            "Epoch 73/100\n",
            "1875/1875 - 6s - loss: 1.4117e-04 - accuracy: 0.9999 - val_loss: 0.0462 - val_accuracy: 0.9944 - lr: 6.2500e-05 - 6s/epoch - 3ms/step\n",
            "Epoch 74/100\n",
            "1875/1875 - 6s - loss: 8.7080e-05 - accuracy: 1.0000 - val_loss: 0.0456 - val_accuracy: 0.9947 - lr: 6.2500e-05 - 6s/epoch - 3ms/step\n",
            "Epoch 75/100\n",
            "1875/1875 - 6s - loss: 1.3099e-04 - accuracy: 0.9999 - val_loss: 0.0428 - val_accuracy: 0.9944 - lr: 6.2500e-05 - 6s/epoch - 3ms/step\n",
            "Epoch 76/100\n",
            "1875/1875 - 7s - loss: 4.2187e-05 - accuracy: 1.0000 - val_loss: 0.0460 - val_accuracy: 0.9943 - lr: 6.2500e-05 - 7s/epoch - 3ms/step\n",
            "Epoch 77/100\n",
            "1875/1875 - 7s - loss: 5.0504e-05 - accuracy: 1.0000 - val_loss: 0.0457 - val_accuracy: 0.9945 - lr: 6.2500e-05 - 7s/epoch - 3ms/step\n",
            "Epoch 78/100\n",
            "\n",
            "Epoch 78: ReduceLROnPlateau reducing learning rate to 3.125000148429535e-05.\n",
            "1875/1875 - 6s - loss: 3.1951e-05 - accuracy: 1.0000 - val_loss: 0.0452 - val_accuracy: 0.9948 - lr: 6.2500e-05 - 6s/epoch - 3ms/step\n",
            "Epoch 79/100\n",
            "1875/1875 - 6s - loss: 1.2748e-05 - accuracy: 1.0000 - val_loss: 0.0458 - val_accuracy: 0.9947 - lr: 3.1250e-05 - 6s/epoch - 3ms/step\n",
            "Epoch 80/100\n",
            "1875/1875 - 7s - loss: 5.5087e-05 - accuracy: 1.0000 - val_loss: 0.0459 - val_accuracy: 0.9945 - lr: 3.1250e-05 - 7s/epoch - 3ms/step\n",
            "Epoch 81/100\n",
            "1875/1875 - 6s - loss: 4.1148e-05 - accuracy: 1.0000 - val_loss: 0.0461 - val_accuracy: 0.9945 - lr: 3.1250e-05 - 6s/epoch - 3ms/step\n",
            "Epoch 82/100\n",
            "1875/1875 - 8s - loss: 3.0728e-05 - accuracy: 1.0000 - val_loss: 0.0461 - val_accuracy: 0.9949 - lr: 3.1250e-05 - 8s/epoch - 4ms/step\n",
            "Epoch 83/100\n",
            "1875/1875 - 8s - loss: 7.5800e-05 - accuracy: 1.0000 - val_loss: 0.0458 - val_accuracy: 0.9948 - lr: 3.1250e-05 - 8s/epoch - 4ms/step\n",
            "Epoch 84/100\n",
            "1875/1875 - 6s - loss: 3.6688e-05 - accuracy: 1.0000 - val_loss: 0.0452 - val_accuracy: 0.9944 - lr: 3.1250e-05 - 6s/epoch - 3ms/step\n",
            "Epoch 85/100\n",
            "1875/1875 - 6s - loss: 4.5038e-05 - accuracy: 1.0000 - val_loss: 0.0461 - val_accuracy: 0.9946 - lr: 3.1250e-05 - 6s/epoch - 3ms/step\n",
            "Epoch 86/100\n",
            "1875/1875 - 6s - loss: 6.9493e-06 - accuracy: 1.0000 - val_loss: 0.0466 - val_accuracy: 0.9946 - lr: 3.1250e-05 - 6s/epoch - 3ms/step\n",
            "Epoch 87/100\n",
            "1875/1875 - 6s - loss: 1.2462e-04 - accuracy: 1.0000 - val_loss: 0.0464 - val_accuracy: 0.9943 - lr: 3.1250e-05 - 6s/epoch - 3ms/step\n",
            "Epoch 88/100\n",
            "\n",
            "Epoch 88: ReduceLROnPlateau reducing learning rate to 1.5625000742147677e-05.\n",
            "1875/1875 - 6s - loss: 1.4026e-05 - accuracy: 1.0000 - val_loss: 0.0465 - val_accuracy: 0.9944 - lr: 3.1250e-05 - 6s/epoch - 3ms/step\n",
            "Epoch 89/100\n",
            "1875/1875 - 6s - loss: 2.1019e-05 - accuracy: 1.0000 - val_loss: 0.0459 - val_accuracy: 0.9945 - lr: 1.5625e-05 - 6s/epoch - 3ms/step\n",
            "Epoch 90/100\n",
            "1875/1875 - 6s - loss: 2.2491e-05 - accuracy: 1.0000 - val_loss: 0.0463 - val_accuracy: 0.9944 - lr: 1.5625e-05 - 6s/epoch - 3ms/step\n",
            "Epoch 91/100\n",
            "1875/1875 - 6s - loss: 1.2490e-04 - accuracy: 0.9999 - val_loss: 0.0470 - val_accuracy: 0.9944 - lr: 1.5625e-05 - 6s/epoch - 3ms/step\n",
            "Epoch 92/100\n",
            "1875/1875 - 6s - loss: 1.2571e-05 - accuracy: 1.0000 - val_loss: 0.0471 - val_accuracy: 0.9944 - lr: 1.5625e-05 - 6s/epoch - 3ms/step\n",
            "Epoch 93/100\n",
            "1875/1875 - 6s - loss: 2.7766e-05 - accuracy: 1.0000 - val_loss: 0.0470 - val_accuracy: 0.9944 - lr: 1.5625e-05 - 6s/epoch - 3ms/step\n",
            "Epoch 94/100\n",
            "1875/1875 - 6s - loss: 1.4503e-05 - accuracy: 1.0000 - val_loss: 0.0471 - val_accuracy: 0.9944 - lr: 1.5625e-05 - 6s/epoch - 3ms/step\n",
            "Epoch 95/100\n",
            "1875/1875 - 6s - loss: 1.9937e-05 - accuracy: 1.0000 - val_loss: 0.0471 - val_accuracy: 0.9945 - lr: 1.5625e-05 - 6s/epoch - 3ms/step\n",
            "Epoch 96/100\n",
            "1875/1875 - 7s - loss: 1.1072e-05 - accuracy: 1.0000 - val_loss: 0.0468 - val_accuracy: 0.9945 - lr: 1.5625e-05 - 7s/epoch - 3ms/step\n",
            "Epoch 97/100\n",
            "1875/1875 - 6s - loss: 9.2353e-06 - accuracy: 1.0000 - val_loss: 0.0464 - val_accuracy: 0.9945 - lr: 1.5625e-05 - 6s/epoch - 3ms/step\n",
            "Epoch 98/100\n",
            "\n",
            "Epoch 98: ReduceLROnPlateau reducing learning rate to 1e-05.\n",
            "1875/1875 - 6s - loss: 7.6497e-06 - accuracy: 1.0000 - val_loss: 0.0468 - val_accuracy: 0.9942 - lr: 1.5625e-05 - 6s/epoch - 3ms/step\n",
            "Epoch 99/100\n",
            "1875/1875 - 6s - loss: 1.0619e-04 - accuracy: 1.0000 - val_loss: 0.0471 - val_accuracy: 0.9941 - lr: 1.0000e-05 - 6s/epoch - 3ms/step\n",
            "Epoch 100/100\n",
            "1875/1875 - 6s - loss: 1.5362e-05 - accuracy: 1.0000 - val_loss: 0.0474 - val_accuracy: 0.9940 - lr: 1.0000e-05 - 6s/epoch - 3ms/step\n"
          ]
        }
      ]
    },
    {
      "cell_type": "code",
      "source": [
        "epochs=range(100)\n",
        "\n",
        "acc = history.history['accuracy']\n",
        "val_acc = history.history['val_accuracy']\n",
        "\n",
        "plt.plot(epochs,acc,'r-',label='Training Accuracy')\n",
        "plt.plot(epochs,val_acc,'b-',label='Validation Accuracy')\n",
        "plt.title('Training and Validation Accuracy')\n",
        "plt.legend()\n",
        "plt.show()\n",
        "\n",
        "print(f\"Accuracy mean:{np.mean(acc)}.\")\n",
        "print(f\"Validation accuracy mean:{np.mean(val_acc)}.\")"
      ],
      "metadata": {
        "colab": {
          "base_uri": "https://localhost:8080/",
          "height": 316
        },
        "id": "GoJOPbFWVbRn",
        "outputId": "3b58a94e-bc07-407a-80a7-6d84e1ef18d2"
      },
      "execution_count": 19,
      "outputs": [
        {
          "output_type": "display_data",
          "data": {
            "text/plain": [
              "<Figure size 432x288 with 1 Axes>"
            ],
            "image/png": "[encoded data removed]"
          },
          "metadata": {
            "needs_background": "light"
          }
        },
        {
          "output_type": "stream",
          "name": "stdout",
          "text": [
            "Accuracy mean:0.9981931674480439.\n",
            "Validation accuracy mean:0.9935350000858307.\n"
          ]
        }
      ]
    },
    {
      "cell_type": "code",
      "source": [
        "loss = history.history['loss']\n",
        "val_loss = history.history['val_loss']\n",
        "\n",
        "plt.plot(epochs,loss,'r-',label='Training Loss')\n",
        "plt.plot(epochs,val_loss,'b-',label='Validation Loss')\n",
        "plt.title('Training and Validation Loss')\n",
        "plt.legend()\n",
        "plt.show()\n",
        "\n",
        "print(f\"Loss mean:{np.mean(loss)}.\")\n",
        "print(f\"Validation loss mean:{np.mean(val_loss)}.\")"
      ],
      "metadata": {
        "colab": {
          "base_uri": "https://localhost:8080/",
          "height": 316
        },
        "id": "NG1GZx9uVeBQ",
        "outputId": "6cc2c799-9f1a-4bf2-8e96-cd5ed5f663f2"
      },
      "execution_count": 20,
      "outputs": [
        {
          "output_type": "display_data",
          "data": {
            "text/plain": [
              "<Figure size 432x288 with 1 Axes>"
            ],
            "image/png": "[encoded data removed]"
          },
          "metadata": {
            "needs_background": "light"
          }
        },
        {
          "output_type": "stream",
          "name": "stdout",
          "text": [
            "Loss mean:0.005743305818700719.\n",
            "Validation loss mean:0.038880591485649346.\n"
          ]
        }
      ]
    }
  ]
}