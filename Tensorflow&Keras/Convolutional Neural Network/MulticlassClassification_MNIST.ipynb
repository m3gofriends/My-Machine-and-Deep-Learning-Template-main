{
  "nbformat": 4,
  "nbformat_minor": 0,
  "metadata": {
    "colab": {
      "provenance": []
    },
    "kernelspec": {
      "name": "python3",
      "display_name": "Python 3"
    },
    "language_info": {
      "name": "python"
    },
    "accelerator": "GPU",
    "gpuClass": "standard"
  },
  "cells": [
    {
      "cell_type": "code",
      "execution_count": null,
      "metadata": {
        "colab": {
          "base_uri": "https://localhost:8080/"
        },
        "id": "ByVcFMFAM-RE",
        "outputId": "1cb4d78f-94c6-4c17-9ca2-e60eafc4b2ad"
      },
      "outputs": [
        {
          "output_type": "stream",
          "name": "stdout",
          "text": [
            "Colab only includes TensorFlow 2.x; %tensorflow_version has no effect.\n",
            "Note: using Google CoLab\n"
          ]
        }
      ],
      "source": [
        "try:\n",
        "    %tensorflow_version 2.x\n",
        "    COLAB = True\n",
        "    print(\"Note: using Google CoLab\")\n",
        "except:\n",
        "    print(\"Note: not using Google CoLab\")\n",
        "    COLAB = False"
      ]
    },
    {
      "cell_type": "code",
      "source": [
        "import numpy as np\n",
        "import matplotlib.pyplot as plt\n",
        "\n",
        "from keras.datasets import mnist\n",
        "from keras.callbacks import ReduceLROnPlateau\n",
        "from tensorflow.keras.utils import to_categorical\n",
        "from tensorflow.keras.models import Sequential\n",
        "from tensorflow.keras.layers import Dense, Conv2D, MaxPooling2D, Flatten, BatchNormalization, Dropout, Activation\n",
        "from keras import optimizers\n",
        "\n",
        "from PIL import Image\n",
        "from tensorflow.keras.preprocessing import image"
      ],
      "metadata": {
        "id": "UPFV-hkKNKB3"
      },
      "execution_count": null,
      "outputs": []
    },
    {
      "cell_type": "code",
      "source": [
        "# Download MINST\n",
        "(x_train,x_test), (y_train,y_test) = mnist.load_data()"
      ],
      "metadata": {
        "id": "pXKDDqnRNXsF",
        "colab": {
          "base_uri": "https://localhost:8080/"
        },
        "outputId": "4a76afec-e820-4f53-d6e6-55b0e2d5816c"
      },
      "execution_count": null,
      "outputs": [
        {
          "output_type": "stream",
          "name": "stdout",
          "text": [
            "Downloading data from https://storage.googleapis.com/tensorflow/tf-keras-datasets/mnist.npz\n",
            "11493376/11490434 [==============================] - 0s 0us/step\n",
            "11501568/11490434 [==============================] - 0s 0us/step\n"
          ]
        }
      ]
    },
    {
      "cell_type": "code",
      "source": [
        "# Print shape\n",
        "print(x_train.shape,x_test.shape)\n",
        "print(y_train.shape,y_test.shape)"
      ],
      "metadata": {
        "colab": {
          "base_uri": "https://localhost:8080/"
        },
        "id": "o-E97cNtN5y3",
        "outputId": "1041e4f9-478a-4608-d1eb-811e77638805"
      },
      "execution_count": null,
      "outputs": [
        {
          "output_type": "stream",
          "name": "stdout",
          "text": [
            "(60000, 28, 28) (60000,)\n",
            "(10000, 28, 28) (10000,)\n"
          ]
        }
      ]
    },
    {
      "cell_type": "code",
      "source": [
        "# For prediction image\n",
        "prediction_img = y_train\n",
        "\n",
        "# Data pre-processing\n",
        "x_train = x_train.reshape(-1,28,28,1).astype('float32')/255\n",
        "y_train = y_train.reshape(-1,28,28,1).astype('float32')/255\n",
        "\n",
        "x_test = to_categorical(x_test)\n",
        "y_test = to_categorical(y_test)"
      ],
      "metadata": {
        "id": "6hPTmIIxOFa9"
      },
      "execution_count": null,
      "outputs": []
    },
    {
      "cell_type": "code",
      "source": [
        "LR_function=ReduceLROnPlateau(monitor='val_accuracy',\n",
        "                patience=5,  # 5 epochs 內acc沒下降就要調整LR\n",
        "                verbose=1,\n",
        "                factor=0.5, # LR降為0.5\n",
        "                min_lr=1e-8 # 最小 LR 到1e-8就不再下降     \n",
        "                )                                    "
      ],
      "metadata": {
        "id": "Vw4tzF-3QzI4"
      },
      "execution_count": null,
      "outputs": []
    },
    {
      "cell_type": "code",
      "source": [
        "# Build neural network\n",
        "model=Sequential()\n",
        "\n",
        "model.add(Conv2D(32,(3,3),input_shape=(28,28,1)))\n",
        "model.add(BatchNormalization())\n",
        "model.add(Activation('relu'))\n",
        "model.add(Dropout(0.1))\n",
        "model.add(MaxPooling2D((2,2)))\n",
        "\n",
        "model.add(Conv2D(64,(3,3)))\n",
        "model.add(BatchNormalization())\n",
        "model.add(Activation('relu'))\n",
        "model.add(Dropout(0.1))\n",
        "model.add(MaxPooling2D((2,2)))\n",
        "\n",
        "model.add(Flatten())\n",
        "model.add(Dense(128,activation='relu'))\n",
        "model.add(Dropout(0.5))\n",
        "model.add(Dense(10,activation='softmax'))\n",
        "model.compile(optimizer='Adam', loss='categorical_crossentropy',  metrics=['accuracy'])\n",
        "\n",
        "history = model.fit(x_train, x_test, validation_data=(y_train,y_test), callbacks=[LR_function], verbose=2, epochs=100)"
      ],
      "metadata": {
        "colab": {
          "base_uri": "https://localhost:8080/"
        },
        "id": "OqnlBl0_RSU5",
        "outputId": "2aea63e9-0064-4c52-a462-56d80af5363b"
      },
      "execution_count": null,
      "outputs": [
        {
          "output_type": "stream",
          "name": "stdout",
          "text": [
            "Epoch 1/100\n",
            "1875/1875 - 24s - loss: 0.2505 - accuracy: 0.9233 - val_loss: 0.0507 - val_accuracy: 0.9834 - lr: 0.0010 - 24s/epoch - 13ms/step\n",
            "Epoch 2/100\n",
            "1875/1875 - 7s - loss: 0.1217 - accuracy: 0.9636 - val_loss: 0.0408 - val_accuracy: 0.9872 - lr: 0.0010 - 7s/epoch - 4ms/step\n",
            "Epoch 3/100\n",
            "1875/1875 - 6s - loss: 0.0934 - accuracy: 0.9727 - val_loss: 0.0323 - val_accuracy: 0.9889 - lr: 0.0010 - 6s/epoch - 3ms/step\n",
            "Epoch 4/100\n",
            "1875/1875 - 7s - loss: 0.0772 - accuracy: 0.9768 - val_loss: 0.0333 - val_accuracy: 0.9887 - lr: 0.0010 - 7s/epoch - 4ms/step\n",
            "Epoch 5/100\n",
            "1875/1875 - 6s - loss: 0.0649 - accuracy: 0.9810 - val_loss: 0.0353 - val_accuracy: 0.9882 - lr: 0.0010 - 6s/epoch - 3ms/step\n",
            "Epoch 6/100\n",
            "1875/1875 - 7s - loss: 0.0565 - accuracy: 0.9824 - val_loss: 0.0233 - val_accuracy: 0.9919 - lr: 0.0010 - 7s/epoch - 4ms/step\n",
            "Epoch 7/100\n",
            "1875/1875 - 6s - loss: 0.0500 - accuracy: 0.9845 - val_loss: 0.0252 - val_accuracy: 0.9920 - lr: 0.0010 - 6s/epoch - 3ms/step\n",
            "Epoch 8/100\n",
            "1875/1875 - 7s - loss: 0.0425 - accuracy: 0.9878 - val_loss: 0.0214 - val_accuracy: 0.9927 - lr: 0.0010 - 7s/epoch - 4ms/step\n",
            "Epoch 9/100\n",
            "1875/1875 - 6s - loss: 0.0377 - accuracy: 0.9886 - val_loss: 0.0232 - val_accuracy: 0.9930 - lr: 0.0010 - 6s/epoch - 3ms/step\n",
            "Epoch 10/100\n",
            "1875/1875 - 6s - loss: 0.0350 - accuracy: 0.9893 - val_loss: 0.0242 - val_accuracy: 0.9926 - lr: 0.0010 - 6s/epoch - 3ms/step\n",
            "Epoch 11/100\n",
            "1875/1875 - 7s - loss: 0.0336 - accuracy: 0.9896 - val_loss: 0.0234 - val_accuracy: 0.9923 - lr: 0.0010 - 7s/epoch - 4ms/step\n",
            "Epoch 12/100\n",
            "1875/1875 - 6s - loss: 0.0308 - accuracy: 0.9906 - val_loss: 0.0209 - val_accuracy: 0.9939 - lr: 0.0010 - 6s/epoch - 3ms/step\n",
            "Epoch 13/100\n",
            "1875/1875 - 6s - loss: 0.0266 - accuracy: 0.9918 - val_loss: 0.0230 - val_accuracy: 0.9922 - lr: 0.0010 - 6s/epoch - 3ms/step\n",
            "Epoch 14/100\n",
            "1875/1875 - 7s - loss: 0.0263 - accuracy: 0.9915 - val_loss: 0.0202 - val_accuracy: 0.9938 - lr: 0.0010 - 7s/epoch - 4ms/step\n",
            "Epoch 15/100\n",
            "1875/1875 - 7s - loss: 0.0236 - accuracy: 0.9930 - val_loss: 0.0241 - val_accuracy: 0.9923 - lr: 0.0010 - 7s/epoch - 4ms/step\n",
            "Epoch 16/100\n",
            "1875/1875 - 6s - loss: 0.0226 - accuracy: 0.9924 - val_loss: 0.0249 - val_accuracy: 0.9923 - lr: 0.0010 - 6s/epoch - 3ms/step\n",
            "Epoch 17/100\n",
            "\n",
            "Epoch 17: ReduceLROnPlateau reducing learning rate to 0.0005000000237487257.\n",
            "1875/1875 - 6s - loss: 0.0215 - accuracy: 0.9936 - val_loss: 0.0241 - val_accuracy: 0.9922 - lr: 0.0010 - 6s/epoch - 3ms/step\n",
            "Epoch 18/100\n",
            "1875/1875 - 7s - loss: 0.0138 - accuracy: 0.9958 - val_loss: 0.0199 - val_accuracy: 0.9948 - lr: 5.0000e-04 - 7s/epoch - 4ms/step\n",
            "Epoch 19/100\n",
            "1875/1875 - 6s - loss: 0.0117 - accuracy: 0.9960 - val_loss: 0.0209 - val_accuracy: 0.9940 - lr: 5.0000e-04 - 6s/epoch - 3ms/step\n",
            "Epoch 20/100\n",
            "1875/1875 - 7s - loss: 0.0127 - accuracy: 0.9959 - val_loss: 0.0204 - val_accuracy: 0.9937 - lr: 5.0000e-04 - 7s/epoch - 4ms/step\n",
            "Epoch 21/100\n",
            "1875/1875 - 7s - loss: 0.0104 - accuracy: 0.9968 - val_loss: 0.0227 - val_accuracy: 0.9938 - lr: 5.0000e-04 - 7s/epoch - 4ms/step\n",
            "Epoch 22/100\n",
            "1875/1875 - 6s - loss: 0.0097 - accuracy: 0.9970 - val_loss: 0.0253 - val_accuracy: 0.9926 - lr: 5.0000e-04 - 6s/epoch - 3ms/step\n",
            "Epoch 23/100\n",
            "\n",
            "Epoch 23: ReduceLROnPlateau reducing learning rate to 0.0002500000118743628.\n",
            "1875/1875 - 7s - loss: 0.0088 - accuracy: 0.9969 - val_loss: 0.0215 - val_accuracy: 0.9941 - lr: 5.0000e-04 - 7s/epoch - 4ms/step\n",
            "Epoch 24/100\n",
            "1875/1875 - 7s - loss: 0.0074 - accuracy: 0.9977 - val_loss: 0.0232 - val_accuracy: 0.9941 - lr: 2.5000e-04 - 7s/epoch - 4ms/step\n",
            "Epoch 25/100\n",
            "1875/1875 - 6s - loss: 0.0064 - accuracy: 0.9982 - val_loss: 0.0215 - val_accuracy: 0.9940 - lr: 2.5000e-04 - 6s/epoch - 3ms/step\n",
            "Epoch 26/100\n",
            "1875/1875 - 6s - loss: 0.0059 - accuracy: 0.9981 - val_loss: 0.0238 - val_accuracy: 0.9946 - lr: 2.5000e-04 - 6s/epoch - 3ms/step\n",
            "Epoch 27/100\n",
            "1875/1875 - 6s - loss: 0.0060 - accuracy: 0.9979 - val_loss: 0.0211 - val_accuracy: 0.9947 - lr: 2.5000e-04 - 6s/epoch - 3ms/step\n",
            "Epoch 28/100\n",
            "\n",
            "Epoch 28: ReduceLROnPlateau reducing learning rate to 0.0001250000059371814.\n",
            "1875/1875 - 6s - loss: 0.0059 - accuracy: 0.9982 - val_loss: 0.0243 - val_accuracy: 0.9942 - lr: 2.5000e-04 - 6s/epoch - 3ms/step\n",
            "Epoch 29/100\n",
            "1875/1875 - 7s - loss: 0.0048 - accuracy: 0.9984 - val_loss: 0.0238 - val_accuracy: 0.9946 - lr: 1.2500e-04 - 7s/epoch - 4ms/step\n",
            "Epoch 30/100\n",
            "1875/1875 - 6s - loss: 0.0048 - accuracy: 0.9984 - val_loss: 0.0236 - val_accuracy: 0.9948 - lr: 1.2500e-04 - 6s/epoch - 3ms/step\n",
            "Epoch 31/100\n",
            "1875/1875 - 6s - loss: 0.0047 - accuracy: 0.9984 - val_loss: 0.0242 - val_accuracy: 0.9948 - lr: 1.2500e-04 - 6s/epoch - 3ms/step\n",
            "Epoch 32/100\n",
            "1875/1875 - 6s - loss: 0.0041 - accuracy: 0.9986 - val_loss: 0.0258 - val_accuracy: 0.9942 - lr: 1.2500e-04 - 6s/epoch - 3ms/step\n",
            "Epoch 33/100\n",
            "\n",
            "Epoch 33: ReduceLROnPlateau reducing learning rate to 6.25000029685907e-05.\n",
            "1875/1875 - 7s - loss: 0.0039 - accuracy: 0.9988 - val_loss: 0.0244 - val_accuracy: 0.9946 - lr: 1.2500e-04 - 7s/epoch - 4ms/step\n",
            "Epoch 34/100\n",
            "1875/1875 - 7s - loss: 0.0032 - accuracy: 0.9990 - val_loss: 0.0242 - val_accuracy: 0.9947 - lr: 6.2500e-05 - 7s/epoch - 4ms/step\n",
            "Epoch 35/100\n",
            "1875/1875 - 6s - loss: 0.0038 - accuracy: 0.9988 - val_loss: 0.0246 - val_accuracy: 0.9946 - lr: 6.2500e-05 - 6s/epoch - 3ms/step\n",
            "Epoch 36/100\n",
            "1875/1875 - 7s - loss: 0.0033 - accuracy: 0.9990 - val_loss: 0.0246 - val_accuracy: 0.9945 - lr: 6.2500e-05 - 7s/epoch - 4ms/step\n",
            "Epoch 37/100\n",
            "1875/1875 - 7s - loss: 0.0037 - accuracy: 0.9988 - val_loss: 0.0242 - val_accuracy: 0.9944 - lr: 6.2500e-05 - 7s/epoch - 4ms/step\n",
            "Epoch 38/100\n",
            "\n",
            "Epoch 38: ReduceLROnPlateau reducing learning rate to 3.125000148429535e-05.\n",
            "1875/1875 - 6s - loss: 0.0032 - accuracy: 0.9989 - val_loss: 0.0244 - val_accuracy: 0.9947 - lr: 6.2500e-05 - 6s/epoch - 3ms/step\n",
            "Epoch 39/100\n",
            "1875/1875 - 6s - loss: 0.0034 - accuracy: 0.9988 - val_loss: 0.0244 - val_accuracy: 0.9950 - lr: 3.1250e-05 - 6s/epoch - 3ms/step\n",
            "Epoch 40/100\n",
            "1875/1875 - 7s - loss: 0.0031 - accuracy: 0.9990 - val_loss: 0.0248 - val_accuracy: 0.9947 - lr: 3.1250e-05 - 7s/epoch - 4ms/step\n",
            "Epoch 41/100\n",
            "1875/1875 - 6s - loss: 0.0038 - accuracy: 0.9989 - val_loss: 0.0246 - val_accuracy: 0.9947 - lr: 3.1250e-05 - 6s/epoch - 3ms/step\n",
            "Epoch 42/100\n",
            "1875/1875 - 7s - loss: 0.0034 - accuracy: 0.9989 - val_loss: 0.0245 - val_accuracy: 0.9948 - lr: 3.1250e-05 - 7s/epoch - 4ms/step\n",
            "Epoch 43/100\n",
            "1875/1875 - 6s - loss: 0.0031 - accuracy: 0.9989 - val_loss: 0.0244 - val_accuracy: 0.9950 - lr: 3.1250e-05 - 6s/epoch - 3ms/step\n",
            "Epoch 44/100\n",
            "1875/1875 - 6s - loss: 0.0028 - accuracy: 0.9991 - val_loss: 0.0242 - val_accuracy: 0.9951 - lr: 3.1250e-05 - 6s/epoch - 3ms/step\n",
            "Epoch 45/100\n",
            "1875/1875 - 7s - loss: 0.0032 - accuracy: 0.9990 - val_loss: 0.0248 - val_accuracy: 0.9946 - lr: 3.1250e-05 - 7s/epoch - 4ms/step\n",
            "Epoch 46/100\n",
            "1875/1875 - 7s - loss: 0.0028 - accuracy: 0.9991 - val_loss: 0.0244 - val_accuracy: 0.9949 - lr: 3.1250e-05 - 7s/epoch - 4ms/step\n",
            "Epoch 47/100\n",
            "1875/1875 - 7s - loss: 0.0030 - accuracy: 0.9990 - val_loss: 0.0241 - val_accuracy: 0.9945 - lr: 3.1250e-05 - 7s/epoch - 4ms/step\n",
            "Epoch 48/100\n",
            "1875/1875 - 6s - loss: 0.0032 - accuracy: 0.9990 - val_loss: 0.0243 - val_accuracy: 0.9947 - lr: 3.1250e-05 - 6s/epoch - 3ms/step\n",
            "Epoch 49/100\n",
            "\n",
            "Epoch 49: ReduceLROnPlateau reducing learning rate to 1.5625000742147677e-05.\n",
            "1875/1875 - 6s - loss: 0.0026 - accuracy: 0.9992 - val_loss: 0.0244 - val_accuracy: 0.9949 - lr: 3.1250e-05 - 6s/epoch - 3ms/step\n",
            "Epoch 50/100\n",
            "1875/1875 - 7s - loss: 0.0028 - accuracy: 0.9990 - val_loss: 0.0247 - val_accuracy: 0.9946 - lr: 1.5625e-05 - 7s/epoch - 4ms/step\n",
            "Epoch 51/100\n",
            "1875/1875 - 6s - loss: 0.0034 - accuracy: 0.9987 - val_loss: 0.0246 - val_accuracy: 0.9948 - lr: 1.5625e-05 - 6s/epoch - 3ms/step\n",
            "Epoch 52/100\n",
            "1875/1875 - 6s - loss: 0.0025 - accuracy: 0.9992 - val_loss: 0.0247 - val_accuracy: 0.9946 - lr: 1.5625e-05 - 6s/epoch - 3ms/step\n",
            "Epoch 53/100\n",
            "1875/1875 - 6s - loss: 0.0028 - accuracy: 0.9991 - val_loss: 0.0247 - val_accuracy: 0.9946 - lr: 1.5625e-05 - 6s/epoch - 3ms/step\n",
            "Epoch 54/100\n",
            "\n",
            "Epoch 54: ReduceLROnPlateau reducing learning rate to 7.812500371073838e-06.\n",
            "1875/1875 - 6s - loss: 0.0029 - accuracy: 0.9989 - val_loss: 0.0246 - val_accuracy: 0.9950 - lr: 1.5625e-05 - 6s/epoch - 3ms/step\n",
            "Epoch 55/100\n",
            "1875/1875 - 7s - loss: 0.0028 - accuracy: 0.9990 - val_loss: 0.0245 - val_accuracy: 0.9947 - lr: 7.8125e-06 - 7s/epoch - 4ms/step\n",
            "Epoch 56/100\n",
            "1875/1875 - 7s - loss: 0.0029 - accuracy: 0.9990 - val_loss: 0.0245 - val_accuracy: 0.9948 - lr: 7.8125e-06 - 7s/epoch - 4ms/step\n",
            "Epoch 57/100\n",
            "1875/1875 - 6s - loss: 0.0028 - accuracy: 0.9991 - val_loss: 0.0244 - val_accuracy: 0.9948 - lr: 7.8125e-06 - 6s/epoch - 3ms/step\n",
            "Epoch 58/100\n",
            "1875/1875 - 6s - loss: 0.0024 - accuracy: 0.9992 - val_loss: 0.0244 - val_accuracy: 0.9948 - lr: 7.8125e-06 - 6s/epoch - 3ms/step\n",
            "Epoch 59/100\n",
            "\n",
            "Epoch 59: ReduceLROnPlateau reducing learning rate to 3.906250185536919e-06.\n",
            "1875/1875 - 6s - loss: 0.0024 - accuracy: 0.9991 - val_loss: 0.0245 - val_accuracy: 0.9947 - lr: 7.8125e-06 - 6s/epoch - 3ms/step\n",
            "Epoch 60/100\n",
            "1875/1875 - 7s - loss: 0.0029 - accuracy: 0.9991 - val_loss: 0.0244 - val_accuracy: 0.9947 - lr: 3.9063e-06 - 7s/epoch - 4ms/step\n",
            "Epoch 61/100\n",
            "1875/1875 - 6s - loss: 0.0030 - accuracy: 0.9989 - val_loss: 0.0245 - val_accuracy: 0.9948 - lr: 3.9063e-06 - 6s/epoch - 3ms/step\n",
            "Epoch 62/100\n",
            "1875/1875 - 6s - loss: 0.0026 - accuracy: 0.9992 - val_loss: 0.0245 - val_accuracy: 0.9949 - lr: 3.9063e-06 - 6s/epoch - 3ms/step\n",
            "Epoch 63/100\n",
            "1875/1875 - 6s - loss: 0.0031 - accuracy: 0.9990 - val_loss: 0.0245 - val_accuracy: 0.9949 - lr: 3.9063e-06 - 6s/epoch - 3ms/step\n",
            "Epoch 64/100\n",
            "\n",
            "Epoch 64: ReduceLROnPlateau reducing learning rate to 1.9531250927684596e-06.\n",
            "1875/1875 - 7s - loss: 0.0031 - accuracy: 0.9990 - val_loss: 0.0245 - val_accuracy: 0.9949 - lr: 3.9063e-06 - 7s/epoch - 4ms/step\n",
            "Epoch 65/100\n",
            "1875/1875 - 6s - loss: 0.0027 - accuracy: 0.9992 - val_loss: 0.0244 - val_accuracy: 0.9949 - lr: 1.9531e-06 - 6s/epoch - 3ms/step\n",
            "Epoch 66/100\n",
            "1875/1875 - 7s - loss: 0.0022 - accuracy: 0.9993 - val_loss: 0.0243 - val_accuracy: 0.9949 - lr: 1.9531e-06 - 7s/epoch - 4ms/step\n",
            "Epoch 67/100\n",
            "1875/1875 - 7s - loss: 0.0034 - accuracy: 0.9987 - val_loss: 0.0243 - val_accuracy: 0.9948 - lr: 1.9531e-06 - 7s/epoch - 4ms/step\n",
            "Epoch 68/100\n",
            "1875/1875 - 7s - loss: 0.0023 - accuracy: 0.9992 - val_loss: 0.0244 - val_accuracy: 0.9949 - lr: 1.9531e-06 - 7s/epoch - 4ms/step\n",
            "Epoch 69/100\n",
            "\n",
            "Epoch 69: ReduceLROnPlateau reducing learning rate to 9.765625463842298e-07.\n",
            "1875/1875 - 6s - loss: 0.0030 - accuracy: 0.9989 - val_loss: 0.0244 - val_accuracy: 0.9949 - lr: 1.9531e-06 - 6s/epoch - 3ms/step\n",
            "Epoch 70/100\n",
            "1875/1875 - 6s - loss: 0.0030 - accuracy: 0.9989 - val_loss: 0.0243 - val_accuracy: 0.9948 - lr: 9.7656e-07 - 6s/epoch - 3ms/step\n",
            "Epoch 71/100\n",
            "1875/1875 - 7s - loss: 0.0024 - accuracy: 0.9992 - val_loss: 0.0244 - val_accuracy: 0.9948 - lr: 9.7656e-07 - 7s/epoch - 4ms/step\n",
            "Epoch 72/100\n",
            "1875/1875 - 6s - loss: 0.0026 - accuracy: 0.9991 - val_loss: 0.0244 - val_accuracy: 0.9949 - lr: 9.7656e-07 - 6s/epoch - 3ms/step\n",
            "Epoch 73/100\n",
            "1875/1875 - 6s - loss: 0.0028 - accuracy: 0.9989 - val_loss: 0.0245 - val_accuracy: 0.9948 - lr: 9.7656e-07 - 6s/epoch - 3ms/step\n",
            "Epoch 74/100\n",
            "\n",
            "Epoch 74: ReduceLROnPlateau reducing learning rate to 4.882812731921149e-07.\n",
            "1875/1875 - 6s - loss: 0.0024 - accuracy: 0.9992 - val_loss: 0.0244 - val_accuracy: 0.9949 - lr: 9.7656e-07 - 6s/epoch - 3ms/step\n",
            "Epoch 75/100\n",
            "1875/1875 - 6s - loss: 0.0030 - accuracy: 0.9989 - val_loss: 0.0244 - val_accuracy: 0.9948 - lr: 4.8828e-07 - 6s/epoch - 3ms/step\n",
            "Epoch 76/100\n",
            "1875/1875 - 7s - loss: 0.0025 - accuracy: 0.9992 - val_loss: 0.0243 - val_accuracy: 0.9949 - lr: 4.8828e-07 - 7s/epoch - 4ms/step\n",
            "Epoch 77/100\n",
            "1875/1875 - 6s - loss: 0.0026 - accuracy: 0.9992 - val_loss: 0.0244 - val_accuracy: 0.9948 - lr: 4.8828e-07 - 6s/epoch - 3ms/step\n",
            "Epoch 78/100\n",
            "1875/1875 - 6s - loss: 0.0024 - accuracy: 0.9992 - val_loss: 0.0244 - val_accuracy: 0.9949 - lr: 4.8828e-07 - 6s/epoch - 3ms/step\n",
            "Epoch 79/100\n",
            "\n",
            "Epoch 79: ReduceLROnPlateau reducing learning rate to 2.4414063659605745e-07.\n",
            "1875/1875 - 7s - loss: 0.0028 - accuracy: 0.9992 - val_loss: 0.0244 - val_accuracy: 0.9949 - lr: 4.8828e-07 - 7s/epoch - 4ms/step\n",
            "Epoch 80/100\n",
            "1875/1875 - 7s - loss: 0.0027 - accuracy: 0.9991 - val_loss: 0.0244 - val_accuracy: 0.9949 - lr: 2.4414e-07 - 7s/epoch - 4ms/step\n",
            "Epoch 81/100\n",
            "1875/1875 - 7s - loss: 0.0028 - accuracy: 0.9991 - val_loss: 0.0244 - val_accuracy: 0.9949 - lr: 2.4414e-07 - 7s/epoch - 4ms/step\n",
            "Epoch 82/100\n",
            "1875/1875 - 6s - loss: 0.0029 - accuracy: 0.9991 - val_loss: 0.0243 - val_accuracy: 0.9948 - lr: 2.4414e-07 - 6s/epoch - 3ms/step\n",
            "Epoch 83/100\n",
            "1875/1875 - 7s - loss: 0.0026 - accuracy: 0.9991 - val_loss: 0.0244 - val_accuracy: 0.9949 - lr: 2.4414e-07 - 7s/epoch - 4ms/step\n",
            "Epoch 84/100\n",
            "\n",
            "Epoch 84: ReduceLROnPlateau reducing learning rate to 1.2207031829802872e-07.\n",
            "1875/1875 - 6s - loss: 0.0026 - accuracy: 0.9990 - val_loss: 0.0243 - val_accuracy: 0.9948 - lr: 2.4414e-07 - 6s/epoch - 3ms/step\n",
            "Epoch 85/100\n",
            "1875/1875 - 6s - loss: 0.0030 - accuracy: 0.9991 - val_loss: 0.0243 - val_accuracy: 0.9948 - lr: 1.2207e-07 - 6s/epoch - 3ms/step\n",
            "Epoch 86/100\n",
            "1875/1875 - 6s - loss: 0.0030 - accuracy: 0.9989 - val_loss: 0.0243 - val_accuracy: 0.9948 - lr: 1.2207e-07 - 6s/epoch - 3ms/step\n",
            "Epoch 87/100\n",
            "1875/1875 - 6s - loss: 0.0026 - accuracy: 0.9991 - val_loss: 0.0243 - val_accuracy: 0.9948 - lr: 1.2207e-07 - 6s/epoch - 3ms/step\n",
            "Epoch 88/100\n",
            "1875/1875 - 7s - loss: 0.0027 - accuracy: 0.9991 - val_loss: 0.0243 - val_accuracy: 0.9948 - lr: 1.2207e-07 - 7s/epoch - 4ms/step\n",
            "Epoch 89/100\n",
            "\n",
            "Epoch 89: ReduceLROnPlateau reducing learning rate to 6.103515914901436e-08.\n",
            "1875/1875 - 6s - loss: 0.0029 - accuracy: 0.9988 - val_loss: 0.0244 - val_accuracy: 0.9949 - lr: 1.2207e-07 - 6s/epoch - 3ms/step\n",
            "Epoch 90/100\n",
            "1875/1875 - 6s - loss: 0.0031 - accuracy: 0.9990 - val_loss: 0.0244 - val_accuracy: 0.9949 - lr: 6.1035e-08 - 6s/epoch - 3ms/step\n",
            "Epoch 91/100\n",
            "1875/1875 - 7s - loss: 0.0025 - accuracy: 0.9992 - val_loss: 0.0243 - val_accuracy: 0.9948 - lr: 6.1035e-08 - 7s/epoch - 4ms/step\n",
            "Epoch 92/100\n",
            "1875/1875 - 6s - loss: 0.0030 - accuracy: 0.9991 - val_loss: 0.0243 - val_accuracy: 0.9948 - lr: 6.1035e-08 - 6s/epoch - 3ms/step\n",
            "Epoch 93/100\n",
            "1875/1875 - 7s - loss: 0.0034 - accuracy: 0.9988 - val_loss: 0.0243 - val_accuracy: 0.9948 - lr: 6.1035e-08 - 7s/epoch - 4ms/step\n",
            "Epoch 94/100\n",
            "\n",
            "Epoch 94: ReduceLROnPlateau reducing learning rate to 3.051757957450718e-08.\n",
            "1875/1875 - 7s - loss: 0.0027 - accuracy: 0.9991 - val_loss: 0.0243 - val_accuracy: 0.9948 - lr: 6.1035e-08 - 7s/epoch - 4ms/step\n",
            "Epoch 95/100\n",
            "1875/1875 - 6s - loss: 0.0025 - accuracy: 0.9992 - val_loss: 0.0244 - val_accuracy: 0.9949 - lr: 3.0518e-08 - 6s/epoch - 3ms/step\n",
            "Epoch 96/100\n",
            "1875/1875 - 6s - loss: 0.0027 - accuracy: 0.9990 - val_loss: 0.0243 - val_accuracy: 0.9948 - lr: 3.0518e-08 - 6s/epoch - 3ms/step\n",
            "Epoch 97/100\n",
            "1875/1875 - 7s - loss: 0.0026 - accuracy: 0.9990 - val_loss: 0.0243 - val_accuracy: 0.9948 - lr: 3.0518e-08 - 7s/epoch - 4ms/step\n",
            "Epoch 98/100\n",
            "1875/1875 - 7s - loss: 0.0030 - accuracy: 0.9990 - val_loss: 0.0243 - val_accuracy: 0.9948 - lr: 3.0518e-08 - 7s/epoch - 4ms/step\n",
            "Epoch 99/100\n",
            "\n",
            "Epoch 99: ReduceLROnPlateau reducing learning rate to 1.525878978725359e-08.\n",
            "1875/1875 - 6s - loss: 0.0029 - accuracy: 0.9991 - val_loss: 0.0244 - val_accuracy: 0.9949 - lr: 3.0518e-08 - 6s/epoch - 3ms/step\n",
            "Epoch 100/100\n",
            "1875/1875 - 7s - loss: 0.0027 - accuracy: 0.9990 - val_loss: 0.0244 - val_accuracy: 0.9948 - lr: 1.5259e-08 - 7s/epoch - 4ms/step\n"
          ]
        }
      ]
    },
    {
      "cell_type": "code",
      "source": [
        "epochs=range(100)\n",
        "\n",
        "acc = history.history['accuracy']\n",
        "val_acc = history.history['val_accuracy']\n",
        "\n",
        "plt.plot(epochs,acc,'r-',label='Training Accuracy')\n",
        "plt.plot(epochs,val_acc,'b-',label='Validation Accuracy')\n",
        "plt.title('Training and Validation Accuracy')\n",
        "plt.legend()\n",
        "plt.show()\n",
        "\n",
        "print(f\"Final Accuracy : {acc[-1]}.\")\n",
        "print(f\"Final validation accuracy : {val_acc[-1]}.\")"
      ],
      "metadata": {
        "colab": {
          "base_uri": "https://localhost:8080/",
          "height": 316
        },
        "id": "GoJOPbFWVbRn",
        "outputId": "fd647630-7f1b-4f2a-a47d-caa16a275476"
      },
      "execution_count": null,
      "outputs": [
        {
          "output_type": "display_data",
          "data": {
            "text/plain": [
              "<Figure size 432x288 with 1 Axes>"
            ],
            "image/png": "[encoded data removed]"
          },
          "metadata": {
            "needs_background": "light"
          }
        },
        {
          "output_type": "stream",
          "name": "stdout",
          "text": [
            "Final Accuracy : 0.9990166425704956.\n",
            "Final validation accuracy : 0.9947999715805054.\n"
          ]
        }
      ]
    },
    {
      "cell_type": "code",
      "source": [
        "loss = history.history['loss']\n",
        "val_loss = history.history['val_loss']\n",
        "\n",
        "plt.plot(epochs,loss,'r-',label='Training Loss')\n",
        "plt.plot(epochs,val_loss,'b-',label='Validation Loss')\n",
        "plt.title('Training and Validation Loss')\n",
        "plt.legend()\n",
        "plt.show()\n",
        "\n",
        "print(f\"Final loss : {loss[-1]}.\")\n",
        "print(f\"Final validation loss : {val_loss[-1]}.\")"
      ],
      "metadata": {
        "colab": {
          "base_uri": "https://localhost:8080/",
          "height": 316
        },
        "id": "NG1GZx9uVeBQ",
        "outputId": "20930a82-8f8f-4530-c941-9f6912730780"
      },
      "execution_count": null,
      "outputs": [
        {
          "output_type": "display_data",
          "data": {
            "text/plain": [
              "<Figure size 432x288 with 1 Axes>"
            ],
            "image/png": "[encoded data removed]"
          },
          "metadata": {
            "needs_background": "light"
          }
        },
        {
          "output_type": "stream",
          "name": "stdout",
          "text": [
            "Final loss : 0.0027444360312074423.\n",
            "Final validation loss : 0.024370549246668816.\n"
          ]
        }
      ]
    },
    {
      "cell_type": "markdown",
      "source": [
        "#Prediction"
      ],
      "metadata": {
        "id": "-y6FM2LQHjK9"
      }
    },
    {
      "cell_type": "code",
      "source": [
        "x = image.img_to_array(prediction_img[0].astype('float32')/255)\n",
        "x = np.expand_dims(x, axis=0)\n",
        "print(np.argmax(model.predict(x)))\n",
        "\n",
        "# Show image\n",
        "plt.imshow(prediction_img[0], interpolation='nearest')\n",
        "plt.show()"
      ],
      "metadata": {
        "colab": {
          "base_uri": "https://localhost:8080/",
          "height": 282
        },
        "id": "lYqXPe7uLsOJ",
        "outputId": "f5763832-8217-46e8-fa8d-04db86ac122d"
      },
      "execution_count": null,
      "outputs": [
        {
          "output_type": "stream",
          "name": "stdout",
          "text": [
            "7\n"
          ]
        },
        {
          "output_type": "display_data",
          "data": {
            "text/plain": [
              "<Figure size 432x288 with 1 Axes>"
            ],
            "image/png": "[encoded data removed]"
          },
          "metadata": {
            "needs_background": "light"
          }
        }
      ]
    }
  ]
}