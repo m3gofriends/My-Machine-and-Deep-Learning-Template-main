{
  "nbformat": 4,
  "nbformat_minor": 0,
  "metadata": {
    "colab": {
      "provenance": []
    },
    "kernelspec": {
      "name": "python3",
      "display_name": "Python 3"
    },
    "language_info": {
      "name": "python"
    },
    "accelerator": "GPU",
    "gpuClass": "standard"
  },
  "cells": [
    {
      "cell_type": "code",
      "execution_count": 1,
      "metadata": {
        "colab": {
          "base_uri": "https://localhost:8080/"
        },
        "id": "ByVcFMFAM-RE",
        "outputId": "2b6dc2da-a5e5-461e-ff16-d311b35ee643"
      },
      "outputs": [
        {
          "output_type": "stream",
          "name": "stdout",
          "text": [
            "Colab only includes TensorFlow 2.x; %tensorflow_version has no effect.\n",
            "Note: using Google CoLab\n"
          ]
        }
      ],
      "source": [
        "try:\n",
        "    %tensorflow_version 2.x\n",
        "    COLAB = True\n",
        "    print(\"Note: using Google CoLab\")\n",
        "except:\n",
        "    print(\"Note: not using Google CoLab\")\n",
        "    COLAB = False"
      ]
    },
    {
      "cell_type": "code",
      "source": [
        "import numpy as np\n",
        "import matplotlib.pyplot as plt\n",
        "\n",
        "from keras.datasets import mnist\n",
        "from keras.callbacks import ReduceLROnPlateau\n",
        "from tensorflow.keras.utils import to_categorical\n",
        "from tensorflow.keras.models import Sequential\n",
        "from tensorflow.keras.layers import Dense, Conv2D, MaxPooling2D, Flatten, BatchNormalization, Dropout, Activation\n",
        "from keras import optimizers\n",
        "\n",
        "from PIL import Image\n",
        "from tensorflow.keras.preprocessing import image"
      ],
      "metadata": {
        "id": "UPFV-hkKNKB3"
      },
      "execution_count": 2,
      "outputs": []
    },
    {
      "cell_type": "code",
      "source": [
        "# Download MINST\n",
        "(x_train,x_test), (y_train,y_test) = mnist.load_data()"
      ],
      "metadata": {
        "id": "pXKDDqnRNXsF",
        "colab": {
          "base_uri": "https://localhost:8080/"
        },
        "outputId": "57d22773-818e-4c28-c67b-23b027b73543"
      },
      "execution_count": 3,
      "outputs": [
        {
          "output_type": "stream",
          "name": "stdout",
          "text": [
            "Downloading data from https://storage.googleapis.com/tensorflow/tf-keras-datasets/mnist.npz\n",
            "11493376/11490434 [==============================] - 0s 0us/step\n",
            "11501568/11490434 [==============================] - 0s 0us/step\n"
          ]
        }
      ]
    },
    {
      "cell_type": "code",
      "source": [
        "# Print shape\n",
        "print(x_train.shape,x_test.shape)\n",
        "print(y_train.shape,y_test.shape)"
      ],
      "metadata": {
        "colab": {
          "base_uri": "https://localhost:8080/"
        },
        "id": "o-E97cNtN5y3",
        "outputId": "bc985379-3282-41dc-89d7-3e8b31e472fb"
      },
      "execution_count": 4,
      "outputs": [
        {
          "output_type": "stream",
          "name": "stdout",
          "text": [
            "(60000, 28, 28) (60000,)\n",
            "(10000, 28, 28) (10000,)\n"
          ]
        }
      ]
    },
    {
      "cell_type": "code",
      "source": [
        "# For prediction image\n",
        "prediction_img = y_train\n",
        "\n",
        "# Data pre-processing\n",
        "x_train = x_train.reshape(-1,28,28,1).astype('float32')/255\n",
        "y_train = y_train.reshape(-1,28,28,1).astype('float32')/255\n",
        "\n",
        "x_test = to_categorical(x_test)\n",
        "y_test = to_categorical(y_test)"
      ],
      "metadata": {
        "id": "6hPTmIIxOFa9"
      },
      "execution_count": 5,
      "outputs": []
    },
    {
      "cell_type": "code",
      "source": [
        "LR_function=ReduceLROnPlateau(monitor='val_accuracy',\n",
        "                patience=5,  # 5 epochs 內acc沒下降就要調整LR\n",
        "                verbose=1,\n",
        "                factor=0.5, # LR降為0.5\n",
        "                min_lr=1e-8 # 最小 LR 到1e-8就不再下降     \n",
        "                )                                    "
      ],
      "metadata": {
        "id": "Vw4tzF-3QzI4"
      },
      "execution_count": 6,
      "outputs": []
    },
    {
      "cell_type": "code",
      "source": [
        "# Build neural network\n",
        "model=Sequential()\n",
        "\n",
        "model.add(Conv2D(32,(3,3),input_shape=(28,28,1)))\n",
        "model.add(BatchNormalization())\n",
        "model.add(Activation('relu'))\n",
        "model.add(Dropout(0.15))\n",
        "model.add(MaxPooling2D((2,2)))\n",
        "\n",
        "model.add(Conv2D(64,(3,3)))\n",
        "model.add(BatchNormalization())\n",
        "model.add(Activation('relu'))\n",
        "model.add(Dropout(0.15))\n",
        "model.add(MaxPooling2D((2,2)))\n",
        "\n",
        "model.add(Flatten())\n",
        "model.add(Dense(128,activation='relu'))\n",
        "model.add(Dropout(0.5))\n",
        "model.add(Dense(10,activation='softmax'))\n",
        "model.compile(optimizer='Adam', loss='categorical_crossentropy',  metrics=['accuracy'])\n",
        "\n",
        "history = model.fit(x_train, x_test, validation_data=(y_train,y_test), callbacks=[LR_function], verbose=2, epochs=100)"
      ],
      "metadata": {
        "colab": {
          "base_uri": "https://localhost:8080/"
        },
        "id": "OqnlBl0_RSU5",
        "outputId": "2cff8bdd-cc2d-48c7-eb8a-6fa63398d424"
      },
      "execution_count": 7,
      "outputs": [
        {
          "output_type": "stream",
          "name": "stdout",
          "text": [
            "Epoch 1/100\n",
            "1875/1875 - 19s - loss: 0.2868 - accuracy: 0.9113 - val_loss: 0.0634 - val_accuracy: 0.9819 - lr: 0.0010 - 19s/epoch - 10ms/step\n",
            "Epoch 2/100\n",
            "1875/1875 - 7s - loss: 0.1298 - accuracy: 0.9609 - val_loss: 0.0449 - val_accuracy: 0.9850 - lr: 0.0010 - 7s/epoch - 4ms/step\n",
            "Epoch 3/100\n",
            "1875/1875 - 7s - loss: 0.1043 - accuracy: 0.9694 - val_loss: 0.0412 - val_accuracy: 0.9866 - lr: 0.0010 - 7s/epoch - 4ms/step\n",
            "Epoch 4/100\n",
            "1875/1875 - 7s - loss: 0.0827 - accuracy: 0.9751 - val_loss: 0.0370 - val_accuracy: 0.9885 - lr: 0.0010 - 7s/epoch - 4ms/step\n",
            "Epoch 5/100\n",
            "1875/1875 - 7s - loss: 0.0721 - accuracy: 0.9785 - val_loss: 0.0262 - val_accuracy: 0.9914 - lr: 0.0010 - 7s/epoch - 4ms/step\n",
            "Epoch 6/100\n",
            "1875/1875 - 7s - loss: 0.0623 - accuracy: 0.9818 - val_loss: 0.0309 - val_accuracy: 0.9900 - lr: 0.0010 - 7s/epoch - 4ms/step\n",
            "Epoch 7/100\n",
            "1875/1875 - 6s - loss: 0.0539 - accuracy: 0.9835 - val_loss: 0.0261 - val_accuracy: 0.9915 - lr: 0.0010 - 6s/epoch - 3ms/step\n",
            "Epoch 8/100\n",
            "1875/1875 - 6s - loss: 0.0457 - accuracy: 0.9862 - val_loss: 0.0217 - val_accuracy: 0.9930 - lr: 0.0010 - 6s/epoch - 3ms/step\n",
            "Epoch 9/100\n",
            "1875/1875 - 7s - loss: 0.0410 - accuracy: 0.9877 - val_loss: 0.0243 - val_accuracy: 0.9911 - lr: 0.0010 - 7s/epoch - 4ms/step\n",
            "Epoch 10/100\n",
            "1875/1875 - 6s - loss: 0.0373 - accuracy: 0.9887 - val_loss: 0.0236 - val_accuracy: 0.9917 - lr: 0.0010 - 6s/epoch - 3ms/step\n",
            "Epoch 11/100\n",
            "1875/1875 - 7s - loss: 0.0368 - accuracy: 0.9888 - val_loss: 0.0224 - val_accuracy: 0.9934 - lr: 0.0010 - 7s/epoch - 4ms/step\n",
            "Epoch 12/100\n",
            "1875/1875 - 8s - loss: 0.0315 - accuracy: 0.9901 - val_loss: 0.0206 - val_accuracy: 0.9936 - lr: 0.0010 - 8s/epoch - 4ms/step\n",
            "Epoch 13/100\n",
            "1875/1875 - 6s - loss: 0.0297 - accuracy: 0.9907 - val_loss: 0.0199 - val_accuracy: 0.9934 - lr: 0.0010 - 6s/epoch - 3ms/step\n",
            "Epoch 14/100\n",
            "1875/1875 - 6s - loss: 0.0278 - accuracy: 0.9912 - val_loss: 0.0227 - val_accuracy: 0.9929 - lr: 0.0010 - 6s/epoch - 3ms/step\n",
            "Epoch 15/100\n",
            "1875/1875 - 6s - loss: 0.0255 - accuracy: 0.9921 - val_loss: 0.0209 - val_accuracy: 0.9935 - lr: 0.0010 - 6s/epoch - 3ms/step\n",
            "Epoch 16/100\n",
            "1875/1875 - 7s - loss: 0.0233 - accuracy: 0.9926 - val_loss: 0.0238 - val_accuracy: 0.9935 - lr: 0.0010 - 7s/epoch - 4ms/step\n",
            "Epoch 17/100\n",
            "1875/1875 - 6s - loss: 0.0241 - accuracy: 0.9923 - val_loss: 0.0198 - val_accuracy: 0.9937 - lr: 0.0010 - 6s/epoch - 3ms/step\n",
            "Epoch 18/100\n",
            "1875/1875 - 7s - loss: 0.0227 - accuracy: 0.9928 - val_loss: 0.0230 - val_accuracy: 0.9935 - lr: 0.0010 - 7s/epoch - 4ms/step\n",
            "Epoch 19/100\n",
            "1875/1875 - 7s - loss: 0.0222 - accuracy: 0.9930 - val_loss: 0.0225 - val_accuracy: 0.9930 - lr: 0.0010 - 7s/epoch - 4ms/step\n",
            "Epoch 20/100\n",
            "1875/1875 - 7s - loss: 0.0204 - accuracy: 0.9931 - val_loss: 0.0235 - val_accuracy: 0.9929 - lr: 0.0010 - 7s/epoch - 4ms/step\n",
            "Epoch 21/100\n",
            "1875/1875 - 6s - loss: 0.0205 - accuracy: 0.9939 - val_loss: 0.0251 - val_accuracy: 0.9923 - lr: 0.0010 - 6s/epoch - 3ms/step\n",
            "Epoch 22/100\n",
            "\n",
            "Epoch 22: ReduceLROnPlateau reducing learning rate to 0.0005000000237487257.\n",
            "1875/1875 - 6s - loss: 0.0209 - accuracy: 0.9935 - val_loss: 0.0212 - val_accuracy: 0.9937 - lr: 0.0010 - 6s/epoch - 3ms/step\n",
            "Epoch 23/100\n",
            "1875/1875 - 6s - loss: 0.0120 - accuracy: 0.9962 - val_loss: 0.0201 - val_accuracy: 0.9938 - lr: 5.0000e-04 - 6s/epoch - 3ms/step\n",
            "Epoch 24/100\n",
            "1875/1875 - 6s - loss: 0.0115 - accuracy: 0.9963 - val_loss: 0.0220 - val_accuracy: 0.9943 - lr: 5.0000e-04 - 6s/epoch - 3ms/step\n",
            "Epoch 25/100\n",
            "1875/1875 - 6s - loss: 0.0096 - accuracy: 0.9970 - val_loss: 0.0212 - val_accuracy: 0.9935 - lr: 5.0000e-04 - 6s/epoch - 3ms/step\n",
            "Epoch 26/100\n",
            "1875/1875 - 7s - loss: 0.0100 - accuracy: 0.9966 - val_loss: 0.0233 - val_accuracy: 0.9943 - lr: 5.0000e-04 - 7s/epoch - 4ms/step\n",
            "Epoch 27/100\n",
            "1875/1875 - 7s - loss: 0.0093 - accuracy: 0.9971 - val_loss: 0.0204 - val_accuracy: 0.9942 - lr: 5.0000e-04 - 7s/epoch - 4ms/step\n",
            "Epoch 28/100\n",
            "1875/1875 - 7s - loss: 0.0085 - accuracy: 0.9969 - val_loss: 0.0214 - val_accuracy: 0.9943 - lr: 5.0000e-04 - 7s/epoch - 4ms/step\n",
            "Epoch 29/100\n",
            "\n",
            "Epoch 29: ReduceLROnPlateau reducing learning rate to 0.0002500000118743628.\n",
            "1875/1875 - 6s - loss: 0.0088 - accuracy: 0.9970 - val_loss: 0.0234 - val_accuracy: 0.9939 - lr: 5.0000e-04 - 6s/epoch - 3ms/step\n",
            "Epoch 30/100\n",
            "1875/1875 - 7s - loss: 0.0071 - accuracy: 0.9976 - val_loss: 0.0233 - val_accuracy: 0.9943 - lr: 2.5000e-04 - 7s/epoch - 4ms/step\n",
            "Epoch 31/100\n",
            "1875/1875 - 7s - loss: 0.0059 - accuracy: 0.9981 - val_loss: 0.0242 - val_accuracy: 0.9945 - lr: 2.5000e-04 - 7s/epoch - 4ms/step\n",
            "Epoch 32/100\n",
            "1875/1875 - 6s - loss: 0.0059 - accuracy: 0.9980 - val_loss: 0.0222 - val_accuracy: 0.9945 - lr: 2.5000e-04 - 6s/epoch - 3ms/step\n",
            "Epoch 33/100\n",
            "1875/1875 - 6s - loss: 0.0054 - accuracy: 0.9983 - val_loss: 0.0241 - val_accuracy: 0.9943 - lr: 2.5000e-04 - 6s/epoch - 3ms/step\n",
            "Epoch 34/100\n",
            "1875/1875 - 6s - loss: 0.0055 - accuracy: 0.9980 - val_loss: 0.0244 - val_accuracy: 0.9938 - lr: 2.5000e-04 - 6s/epoch - 3ms/step\n",
            "Epoch 35/100\n",
            "1875/1875 - 6s - loss: 0.0057 - accuracy: 0.9980 - val_loss: 0.0224 - val_accuracy: 0.9942 - lr: 2.5000e-04 - 6s/epoch - 3ms/step\n",
            "Epoch 36/100\n",
            "\n",
            "Epoch 36: ReduceLROnPlateau reducing learning rate to 0.0001250000059371814.\n",
            "1875/1875 - 6s - loss: 0.0056 - accuracy: 0.9981 - val_loss: 0.0250 - val_accuracy: 0.9945 - lr: 2.5000e-04 - 6s/epoch - 3ms/step\n",
            "Epoch 37/100\n",
            "1875/1875 - 7s - loss: 0.0045 - accuracy: 0.9984 - val_loss: 0.0243 - val_accuracy: 0.9945 - lr: 1.2500e-04 - 7s/epoch - 4ms/step\n",
            "Epoch 38/100\n",
            "1875/1875 - 6s - loss: 0.0047 - accuracy: 0.9984 - val_loss: 0.0237 - val_accuracy: 0.9948 - lr: 1.2500e-04 - 6s/epoch - 3ms/step\n",
            "Epoch 39/100\n",
            "1875/1875 - 7s - loss: 0.0045 - accuracy: 0.9983 - val_loss: 0.0227 - val_accuracy: 0.9949 - lr: 1.2500e-04 - 7s/epoch - 4ms/step\n",
            "Epoch 40/100\n",
            "1875/1875 - 9s - loss: 0.0043 - accuracy: 0.9986 - val_loss: 0.0240 - val_accuracy: 0.9945 - lr: 1.2500e-04 - 9s/epoch - 5ms/step\n",
            "Epoch 41/100\n",
            "1875/1875 - 6s - loss: 0.0042 - accuracy: 0.9986 - val_loss: 0.0231 - val_accuracy: 0.9949 - lr: 1.2500e-04 - 6s/epoch - 3ms/step\n",
            "Epoch 42/100\n",
            "1875/1875 - 7s - loss: 0.0040 - accuracy: 0.9987 - val_loss: 0.0224 - val_accuracy: 0.9943 - lr: 1.2500e-04 - 7s/epoch - 4ms/step\n",
            "Epoch 43/100\n",
            "1875/1875 - 7s - loss: 0.0039 - accuracy: 0.9987 - val_loss: 0.0227 - val_accuracy: 0.9944 - lr: 1.2500e-04 - 7s/epoch - 4ms/step\n",
            "Epoch 44/100\n",
            "\n",
            "Epoch 44: ReduceLROnPlateau reducing learning rate to 6.25000029685907e-05.\n",
            "1875/1875 - 6s - loss: 0.0042 - accuracy: 0.9987 - val_loss: 0.0253 - val_accuracy: 0.9942 - lr: 1.2500e-04 - 6s/epoch - 3ms/step\n",
            "Epoch 45/100\n",
            "1875/1875 - 6s - loss: 0.0038 - accuracy: 0.9987 - val_loss: 0.0244 - val_accuracy: 0.9939 - lr: 6.2500e-05 - 6s/epoch - 3ms/step\n",
            "Epoch 46/100\n",
            "1875/1875 - 6s - loss: 0.0033 - accuracy: 0.9989 - val_loss: 0.0248 - val_accuracy: 0.9945 - lr: 6.2500e-05 - 6s/epoch - 3ms/step\n",
            "Epoch 47/100\n",
            "1875/1875 - 6s - loss: 0.0031 - accuracy: 0.9988 - val_loss: 0.0242 - val_accuracy: 0.9949 - lr: 6.2500e-05 - 6s/epoch - 3ms/step\n",
            "Epoch 48/100\n",
            "1875/1875 - 7s - loss: 0.0033 - accuracy: 0.9988 - val_loss: 0.0242 - val_accuracy: 0.9946 - lr: 6.2500e-05 - 7s/epoch - 4ms/step\n",
            "Epoch 49/100\n",
            "\n",
            "Epoch 49: ReduceLROnPlateau reducing learning rate to 3.125000148429535e-05.\n",
            "1875/1875 - 6s - loss: 0.0039 - accuracy: 0.9986 - val_loss: 0.0243 - val_accuracy: 0.9943 - lr: 6.2500e-05 - 6s/epoch - 3ms/step\n",
            "Epoch 50/100\n",
            "1875/1875 - 6s - loss: 0.0034 - accuracy: 0.9989 - val_loss: 0.0253 - val_accuracy: 0.9947 - lr: 3.1250e-05 - 6s/epoch - 3ms/step\n",
            "Epoch 51/100\n",
            "1875/1875 - 6s - loss: 0.0029 - accuracy: 0.9990 - val_loss: 0.0253 - val_accuracy: 0.9944 - lr: 3.1250e-05 - 6s/epoch - 3ms/step\n",
            "Epoch 52/100\n",
            "1875/1875 - 7s - loss: 0.0029 - accuracy: 0.9989 - val_loss: 0.0255 - val_accuracy: 0.9946 - lr: 3.1250e-05 - 7s/epoch - 4ms/step\n",
            "Epoch 53/100\n",
            "1875/1875 - 6s - loss: 0.0027 - accuracy: 0.9992 - val_loss: 0.0252 - val_accuracy: 0.9946 - lr: 3.1250e-05 - 6s/epoch - 3ms/step\n",
            "Epoch 54/100\n",
            "\n",
            "Epoch 54: ReduceLROnPlateau reducing learning rate to 1.5625000742147677e-05.\n",
            "1875/1875 - 6s - loss: 0.0032 - accuracy: 0.9988 - val_loss: 0.0256 - val_accuracy: 0.9947 - lr: 3.1250e-05 - 6s/epoch - 3ms/step\n",
            "Epoch 55/100\n",
            "1875/1875 - 6s - loss: 0.0031 - accuracy: 0.9991 - val_loss: 0.0253 - val_accuracy: 0.9948 - lr: 1.5625e-05 - 6s/epoch - 3ms/step\n",
            "Epoch 56/100\n",
            "1875/1875 - 7s - loss: 0.0029 - accuracy: 0.9990 - val_loss: 0.0252 - val_accuracy: 0.9946 - lr: 1.5625e-05 - 7s/epoch - 4ms/step\n",
            "Epoch 57/100\n",
            "1875/1875 - 6s - loss: 0.0031 - accuracy: 0.9989 - val_loss: 0.0254 - val_accuracy: 0.9948 - lr: 1.5625e-05 - 6s/epoch - 3ms/step\n",
            "Epoch 58/100\n",
            "1875/1875 - 6s - loss: 0.0027 - accuracy: 0.9991 - val_loss: 0.0255 - val_accuracy: 0.9947 - lr: 1.5625e-05 - 6s/epoch - 3ms/step\n",
            "Epoch 59/100\n",
            "\n",
            "Epoch 59: ReduceLROnPlateau reducing learning rate to 7.812500371073838e-06.\n",
            "1875/1875 - 6s - loss: 0.0025 - accuracy: 0.9991 - val_loss: 0.0255 - val_accuracy: 0.9947 - lr: 1.5625e-05 - 6s/epoch - 3ms/step\n",
            "Epoch 60/100\n",
            "1875/1875 - 6s - loss: 0.0029 - accuracy: 0.9989 - val_loss: 0.0254 - val_accuracy: 0.9946 - lr: 7.8125e-06 - 6s/epoch - 3ms/step\n",
            "Epoch 61/100\n",
            "1875/1875 - 6s - loss: 0.0030 - accuracy: 0.9989 - val_loss: 0.0252 - val_accuracy: 0.9946 - lr: 7.8125e-06 - 6s/epoch - 3ms/step\n",
            "Epoch 62/100\n",
            "1875/1875 - 6s - loss: 0.0029 - accuracy: 0.9990 - val_loss: 0.0253 - val_accuracy: 0.9946 - lr: 7.8125e-06 - 6s/epoch - 3ms/step\n",
            "Epoch 63/100\n",
            "1875/1875 - 7s - loss: 0.0030 - accuracy: 0.9990 - val_loss: 0.0255 - val_accuracy: 0.9946 - lr: 7.8125e-06 - 7s/epoch - 4ms/step\n",
            "Epoch 64/100\n",
            "\n",
            "Epoch 64: ReduceLROnPlateau reducing learning rate to 3.906250185536919e-06.\n",
            "1875/1875 - 7s - loss: 0.0028 - accuracy: 0.9991 - val_loss: 0.0250 - val_accuracy: 0.9948 - lr: 7.8125e-06 - 7s/epoch - 4ms/step\n",
            "Epoch 65/100\n",
            "1875/1875 - 7s - loss: 0.0031 - accuracy: 0.9990 - val_loss: 0.0252 - val_accuracy: 0.9948 - lr: 3.9063e-06 - 7s/epoch - 4ms/step\n",
            "Epoch 66/100\n",
            "1875/1875 - 7s - loss: 0.0029 - accuracy: 0.9990 - val_loss: 0.0252 - val_accuracy: 0.9948 - lr: 3.9063e-06 - 7s/epoch - 4ms/step\n",
            "Epoch 67/100\n",
            "1875/1875 - 6s - loss: 0.0024 - accuracy: 0.9992 - val_loss: 0.0254 - val_accuracy: 0.9948 - lr: 3.9063e-06 - 6s/epoch - 3ms/step\n",
            "Epoch 68/100\n",
            "1875/1875 - 6s - loss: 0.0033 - accuracy: 0.9990 - val_loss: 0.0252 - val_accuracy: 0.9948 - lr: 3.9063e-06 - 6s/epoch - 3ms/step\n",
            "Epoch 69/100\n",
            "\n",
            "Epoch 69: ReduceLROnPlateau reducing learning rate to 1.9531250927684596e-06.\n",
            "1875/1875 - 7s - loss: 0.0027 - accuracy: 0.9991 - val_loss: 0.0252 - val_accuracy: 0.9947 - lr: 3.9063e-06 - 7s/epoch - 4ms/step\n",
            "Epoch 70/100\n",
            "1875/1875 - 6s - loss: 0.0034 - accuracy: 0.9989 - val_loss: 0.0252 - val_accuracy: 0.9948 - lr: 1.9531e-06 - 6s/epoch - 3ms/step\n",
            "Epoch 71/100\n",
            "1875/1875 - 7s - loss: 0.0028 - accuracy: 0.9991 - val_loss: 0.0253 - val_accuracy: 0.9948 - lr: 1.9531e-06 - 7s/epoch - 4ms/step\n",
            "Epoch 72/100\n",
            "1875/1875 - 7s - loss: 0.0029 - accuracy: 0.9989 - val_loss: 0.0253 - val_accuracy: 0.9947 - lr: 1.9531e-06 - 7s/epoch - 4ms/step\n",
            "Epoch 73/100\n",
            "1875/1875 - 7s - loss: 0.0028 - accuracy: 0.9990 - val_loss: 0.0253 - val_accuracy: 0.9947 - lr: 1.9531e-06 - 7s/epoch - 4ms/step\n",
            "Epoch 74/100\n",
            "\n",
            "Epoch 74: ReduceLROnPlateau reducing learning rate to 9.765625463842298e-07.\n",
            "1875/1875 - 6s - loss: 0.0032 - accuracy: 0.9988 - val_loss: 0.0252 - val_accuracy: 0.9947 - lr: 1.9531e-06 - 6s/epoch - 3ms/step\n",
            "Epoch 75/100\n",
            "1875/1875 - 6s - loss: 0.0030 - accuracy: 0.9990 - val_loss: 0.0252 - val_accuracy: 0.9947 - lr: 9.7656e-07 - 6s/epoch - 3ms/step\n",
            "Epoch 76/100\n",
            "1875/1875 - 7s - loss: 0.0028 - accuracy: 0.9990 - val_loss: 0.0252 - val_accuracy: 0.9947 - lr: 9.7656e-07 - 7s/epoch - 4ms/step\n",
            "Epoch 77/100\n",
            "1875/1875 - 6s - loss: 0.0031 - accuracy: 0.9988 - val_loss: 0.0251 - val_accuracy: 0.9948 - lr: 9.7656e-07 - 6s/epoch - 3ms/step\n",
            "Epoch 78/100\n",
            "1875/1875 - 7s - loss: 0.0033 - accuracy: 0.9989 - val_loss: 0.0252 - val_accuracy: 0.9948 - lr: 9.7656e-07 - 7s/epoch - 4ms/step\n",
            "Epoch 79/100\n",
            "\n",
            "Epoch 79: ReduceLROnPlateau reducing learning rate to 4.882812731921149e-07.\n",
            "1875/1875 - 6s - loss: 0.0030 - accuracy: 0.9991 - val_loss: 0.0253 - val_accuracy: 0.9947 - lr: 9.7656e-07 - 6s/epoch - 3ms/step\n",
            "Epoch 80/100\n",
            "1875/1875 - 6s - loss: 0.0029 - accuracy: 0.9990 - val_loss: 0.0252 - val_accuracy: 0.9947 - lr: 4.8828e-07 - 6s/epoch - 3ms/step\n",
            "Epoch 81/100\n",
            "1875/1875 - 6s - loss: 0.0027 - accuracy: 0.9991 - val_loss: 0.0252 - val_accuracy: 0.9947 - lr: 4.8828e-07 - 6s/epoch - 3ms/step\n",
            "Epoch 82/100\n",
            "1875/1875 - 6s - loss: 0.0031 - accuracy: 0.9990 - val_loss: 0.0252 - val_accuracy: 0.9947 - lr: 4.8828e-07 - 6s/epoch - 3ms/step\n",
            "Epoch 83/100\n",
            "1875/1875 - 6s - loss: 0.0025 - accuracy: 0.9991 - val_loss: 0.0251 - val_accuracy: 0.9948 - lr: 4.8828e-07 - 6s/epoch - 3ms/step\n",
            "Epoch 84/100\n",
            "\n",
            "Epoch 84: ReduceLROnPlateau reducing learning rate to 2.4414063659605745e-07.\n",
            "1875/1875 - 6s - loss: 0.0028 - accuracy: 0.9991 - val_loss: 0.0253 - val_accuracy: 0.9947 - lr: 4.8828e-07 - 6s/epoch - 3ms/step\n",
            "Epoch 85/100\n",
            "1875/1875 - 6s - loss: 0.0024 - accuracy: 0.9993 - val_loss: 0.0253 - val_accuracy: 0.9947 - lr: 2.4414e-07 - 6s/epoch - 3ms/step\n",
            "Epoch 86/100\n",
            "1875/1875 - 6s - loss: 0.0028 - accuracy: 0.9991 - val_loss: 0.0252 - val_accuracy: 0.9948 - lr: 2.4414e-07 - 6s/epoch - 3ms/step\n",
            "Epoch 87/100\n",
            "1875/1875 - 7s - loss: 0.0029 - accuracy: 0.9991 - val_loss: 0.0252 - val_accuracy: 0.9947 - lr: 2.4414e-07 - 7s/epoch - 4ms/step\n",
            "Epoch 88/100\n",
            "1875/1875 - 6s - loss: 0.0032 - accuracy: 0.9989 - val_loss: 0.0252 - val_accuracy: 0.9949 - lr: 2.4414e-07 - 6s/epoch - 3ms/step\n",
            "Epoch 89/100\n",
            "\n",
            "Epoch 89: ReduceLROnPlateau reducing learning rate to 1.2207031829802872e-07.\n",
            "1875/1875 - 7s - loss: 0.0029 - accuracy: 0.9992 - val_loss: 0.0253 - val_accuracy: 0.9947 - lr: 2.4414e-07 - 7s/epoch - 4ms/step\n",
            "Epoch 90/100\n",
            "1875/1875 - 7s - loss: 0.0031 - accuracy: 0.9990 - val_loss: 0.0251 - val_accuracy: 0.9948 - lr: 1.2207e-07 - 7s/epoch - 4ms/step\n",
            "Epoch 91/100\n",
            "1875/1875 - 7s - loss: 0.0029 - accuracy: 0.9991 - val_loss: 0.0252 - val_accuracy: 0.9947 - lr: 1.2207e-07 - 7s/epoch - 4ms/step\n",
            "Epoch 92/100\n",
            "1875/1875 - 6s - loss: 0.0026 - accuracy: 0.9991 - val_loss: 0.0252 - val_accuracy: 0.9947 - lr: 1.2207e-07 - 6s/epoch - 3ms/step\n",
            "Epoch 93/100\n",
            "1875/1875 - 6s - loss: 0.0031 - accuracy: 0.9990 - val_loss: 0.0252 - val_accuracy: 0.9947 - lr: 1.2207e-07 - 6s/epoch - 3ms/step\n",
            "Epoch 94/100\n",
            "\n",
            "Epoch 94: ReduceLROnPlateau reducing learning rate to 6.103515914901436e-08.\n",
            "1875/1875 - 6s - loss: 0.0029 - accuracy: 0.9991 - val_loss: 0.0253 - val_accuracy: 0.9947 - lr: 1.2207e-07 - 6s/epoch - 3ms/step\n",
            "Epoch 95/100\n",
            "1875/1875 - 7s - loss: 0.0026 - accuracy: 0.9990 - val_loss: 0.0253 - val_accuracy: 0.9947 - lr: 6.1035e-08 - 7s/epoch - 4ms/step\n",
            "Epoch 96/100\n",
            "1875/1875 - 6s - loss: 0.0031 - accuracy: 0.9990 - val_loss: 0.0253 - val_accuracy: 0.9947 - lr: 6.1035e-08 - 6s/epoch - 3ms/step\n",
            "Epoch 97/100\n",
            "1875/1875 - 7s - loss: 0.0031 - accuracy: 0.9990 - val_loss: 0.0252 - val_accuracy: 0.9948 - lr: 6.1035e-08 - 7s/epoch - 4ms/step\n",
            "Epoch 98/100\n",
            "1875/1875 - 6s - loss: 0.0027 - accuracy: 0.9992 - val_loss: 0.0253 - val_accuracy: 0.9947 - lr: 6.1035e-08 - 6s/epoch - 3ms/step\n",
            "Epoch 99/100\n",
            "\n",
            "Epoch 99: ReduceLROnPlateau reducing learning rate to 3.051757957450718e-08.\n",
            "1875/1875 - 6s - loss: 0.0026 - accuracy: 0.9991 - val_loss: 0.0251 - val_accuracy: 0.9947 - lr: 6.1035e-08 - 6s/epoch - 3ms/step\n",
            "Epoch 100/100\n",
            "1875/1875 - 7s - loss: 0.0028 - accuracy: 0.9990 - val_loss: 0.0252 - val_accuracy: 0.9947 - lr: 3.0518e-08 - 7s/epoch - 4ms/step\n"
          ]
        }
      ]
    },
    {
      "cell_type": "code",
      "source": [
        "epochs=range(100)\n",
        "\n",
        "acc = history.history['accuracy']\n",
        "val_acc = history.history['val_accuracy']\n",
        "\n",
        "plt.plot(epochs,acc,'r-',label='Training Accuracy')\n",
        "plt.plot(epochs,val_acc,'b-',label='Validation Accuracy')\n",
        "plt.title('Training and Validation Accuracy')\n",
        "plt.legend()\n",
        "plt.show()\n",
        "\n",
        "print(f\"Final Accuracy : {acc[-1]}.\")\n",
        "print(f\"Final validation accuracy : {val_acc[-1]}.\")"
      ],
      "metadata": {
        "colab": {
          "base_uri": "https://localhost:8080/",
          "height": 316
        },
        "id": "GoJOPbFWVbRn",
        "outputId": "f8442fa3-1d9b-42ec-922a-052ffe26c49e"
      },
      "execution_count": 8,
      "outputs": [
        {
          "output_type": "display_data",
          "data": {
            "text/plain": [
              "<Figure size 432x288 with 1 Axes>"
            ],
            "image/png": "[encoded data removed]"
          },
          "metadata": {
            "needs_background": "light"
          }
        },
        {
          "output_type": "stream",
          "name": "stdout",
          "text": [
            "Final Accuracy : 0.9989666938781738.\n",
            "Final validation accuracy : 0.994700014591217.\n"
          ]
        }
      ]
    },
    {
      "cell_type": "code",
      "source": [
        "loss = history.history['loss']\n",
        "val_loss = history.history['val_loss']\n",
        "\n",
        "plt.plot(epochs,loss,'r-',label='Training Loss')\n",
        "plt.plot(epochs,val_loss,'b-',label='Validation Loss')\n",
        "plt.title('Training and Validation Loss')\n",
        "plt.legend()\n",
        "plt.show()\n",
        "\n",
        "print(f\"Final loss : {loss[-1]}.\")\n",
        "print(f\"Final validation loss : {val_loss[-1]}.\")"
      ],
      "metadata": {
        "colab": {
          "base_uri": "https://localhost:8080/",
          "height": 316
        },
        "id": "NG1GZx9uVeBQ",
        "outputId": "bb8c9908-7197-44d6-d2bc-a8a13485d981"
      },
      "execution_count": 9,
      "outputs": [
        {
          "output_type": "display_data",
          "data": {
            "text/plain": [
              "<Figure size 432x288 with 1 Axes>"
            ],
            "image/png": "[encoded data removed]"
          },
          "metadata": {
            "needs_background": "light"
          }
        },
        {
          "output_type": "stream",
          "name": "stdout",
          "text": [
            "Final loss : 0.0028037314768880606.\n",
            "Final validation loss : 0.025175482034683228.\n"
          ]
        }
      ]
    },
    {
      "cell_type": "markdown",
      "source": [
        "#Prediction"
      ],
      "metadata": {
        "id": "-y6FM2LQHjK9"
      }
    },
    {
      "cell_type": "code",
      "source": [
        "x = image.img_to_array(prediction_img[0].astype('float32')/255)\n",
        "x = np.expand_dims(x, axis=0)\n",
        "print(np.argmax(model.predict(x)))\n",
        "\n",
        "# Show image\n",
        "plt.imshow(prediction_img[0], interpolation='nearest')\n",
        "plt.show()"
      ],
      "metadata": {
        "colab": {
          "base_uri": "https://localhost:8080/",
          "height": 282
        },
        "id": "lYqXPe7uLsOJ",
        "outputId": "d597aed8-e8a3-4121-8031-f010594cd9c1"
      },
      "execution_count": 10,
      "outputs": [
        {
          "output_type": "stream",
          "name": "stdout",
          "text": [
            "7\n"
          ]
        },
        {
          "output_type": "display_data",
          "data": {
            "text/plain": [
              "<Figure size 432x288 with 1 Axes>"
            ],
            "image/png": "[encoded data removed]"
          },
          "metadata": {
            "needs_background": "light"
          }
        }
      ]
    }
  ]
}